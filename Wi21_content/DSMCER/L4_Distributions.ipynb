{
 "cells": [
  {
   "cell_type": "markdown",
   "metadata": {},
   "source": [
    "# Data Science Methods for Clean Energy Research \n",
    "## *Distributions, PMFs / PDFs, CDF and sampling from distributions*\n",
    "\n",
    "## Outline\n",
    "\n",
    "Today, we will explore statistical distributions, create figures of their PDFs and PMFs, calculate their CDFs, and write some code to sample from the distributions.\n",
    "\n",
    "### 1. Distribution functions\n",
    "* 1.1 Probability mass functions, PMFs - for discrete random variables\n",
    "* 1.2 Probability distribution functions, PDFs - for continuous random variables\n",
    "\n",
    "### 2. Cummulative distribution functions\n",
    "\n",
    "* 2.1 Empirical CDF\n",
    "* 2.2 Interpolated PDF to get CDF\n",
    "* 2.3 Scipy CDF's for analytical PDFs\n",
    "\n",
    "### 3. Sampling from a distribution with the inverse CDF\n",
    "\n"
   ]
  },
  {
   "cell_type": "markdown",
   "metadata": {},
   "source": [
    "## Import libraries"
   ]
  },
  {
   "cell_type": "code",
   "execution_count": null,
   "metadata": {},
   "outputs": [],
   "source": [
    "import math\n",
    "import matplotlib\n",
    "import matplotlib.pyplot as plt\n",
    "import numpy as np\n",
    "import pandas as pd\n",
    "import scipy\n",
    "import scipy.interpolate\n",
    "import scipy.stats\n",
    "\n",
    "%matplotlib inline\n",
    "matplotlib.rcParams.update({'font.size': 20})"
   ]
  },
  {
   "cell_type": "markdown",
   "metadata": {},
   "source": [
    "## 1. Distribution functions \n",
    "\n",
    "\n",
    "### 1.1 Discrete random variable probability mass functions - PMFs\n",
    "### 1.1.1 The binomial distribution"
   ]
  },
  {
   "cell_type": "markdown",
   "metadata": {},
   "source": [
    "Recall from lecture:\n",
    "\n",
    "$$P(X=k)=P\\left(n|k\\right) = {{n}\\choose {k}}\n",
    "p^k q^{n-k} = \\frac{n!}{k!(n-k)!}p^k\\left(1-p\\right)^{n-k}$$\n",
    "\n",
    "Note, the above equation for the PMF was written using LaTeX in Markdown, for more information on LaTeX see [here](https://www.overleaf.com/learn/latex/Mathematical_expressions) is a guide to writing mathematical expressions with LaTeX."
   ]
  },
  {
   "cell_type": "markdown",
   "metadata": {},
   "source": [
    "#### Exercise 1 (in class) \n",
    "\n",
    "Create a function which describes the binomial PMF. \n",
    "\n",
    "*Hint:* look at `math.factorial` for computing factorials and `math.pow` for exponents. \n",
    "\n",
    "Note: The `math.pow` function ensures that the returned value is a `float` also it exectutes the command more rapidly than python's default `**` and is based on functions defined by the C standard. For more info see https://docs.python.org/3/library/math.html"
   ]
  },
  {
   "cell_type": "code",
   "execution_count": null,
   "metadata": {},
   "outputs": [],
   "source": [
    "def binomial_pmf(p, n, k):\n",
    "    \n",
    "    # hmmm ?\n",
    "    \n",
    "    return probability"
   ]
  },
  {
   "cell_type": "markdown",
   "metadata": {},
   "source": [
    "#### Flipping a fair coin with the binomial PMF"
   ]
  },
  {
   "cell_type": "markdown",
   "metadata": {},
   "source": [
    "What is the binomial probability of getting 5 heads when flipping a fair coin 10 times?\n",
    "\n",
    "$n$ = 10, $k$ = 5 and $p$ = 1/2"
   ]
  },
  {
   "cell_type": "code",
   "execution_count": null,
   "metadata": {},
   "outputs": [],
   "source": []
  },
  {
   "cell_type": "markdown",
   "metadata": {},
   "source": [
    "What does the binomial distribution PMF look like as a function of $n$?\n",
    "What is the largest possible value of $k$ ?"
   ]
  },
  {
   "cell_type": "code",
   "execution_count": null,
   "metadata": {},
   "outputs": [],
   "source": [
    "p = 0.5    # probability of success\n",
    "n = 12     # number of observations\n",
    "\n",
    "k_list = [ 0 + i for i in range(n+1) ]   \n",
    "\n",
    "# print(k_list)\n",
    "\n",
    "# Iterates over vales of k in k_list and call the binomial pmf for each of these values of k\n",
    "prob_X_eq_k = [ binomial_pmf(p, n, k) for k in k_list ]\n",
    "\n",
    "# Another way to do this would be\n",
    "prob_X_eq_k = [ binomial_pmf(p, n, k) for k in np.arange(0, n+1) ]\n",
    "\n",
    "# print(prob_X_eq_k)"
   ]
  },
  {
   "cell_type": "code",
   "execution_count": null,
   "metadata": {},
   "outputs": [],
   "source": [
    "# Let's visualize it!\n",
    "\n",
    "choice = ['mediumorchid','thistle']\n",
    "bar_colors = [choice[j%2] for j in k_list]\n",
    "\n",
    "plt.figure(figsize=(10,6))\n",
    "plt.bar(k_list, prob_X_eq_k, color=bar_colors) \n",
    "plt.xlabel(\"$X=k$\")\n",
    "plt.ylabel(\"$P(X=k)$\")\n",
    "plt.title(\"Binomial distribution for a fair coin\",fontsize=20)\n",
    "\n",
    "plt.show()"
   ]
  },
  {
   "cell_type": "markdown",
   "metadata": {},
   "source": [
    "Try increasing $k$ a bit more ... what happens? What if you set $k$ to be a float number?"
   ]
  },
  {
   "cell_type": "code",
   "execution_count": null,
   "metadata": {},
   "outputs": [],
   "source": []
  },
  {
   "cell_type": "markdown",
   "metadata": {},
   "source": [
    "#### Fair versus unfair coin "
   ]
  },
  {
   "cell_type": "code",
   "execution_count": null,
   "metadata": {},
   "outputs": [],
   "source": [
    "n1 = 40\n",
    "n2 = 100\n",
    "p1 = 0.5\n",
    "p2 = 0.8\n",
    "\n",
    "pX1 = [binomial_pmf(p1, n1, k) for k in np.arange(0, n1 + 1)]\n",
    "pX2 = [binomial_pmf(p2, n1, k) for k in np.arange(0, n1 + 1)]\n",
    "pX3 = [binomial_pmf(p2, n2, k) for k in np.arange(0, n2 + 1)]"
   ]
  },
  {
   "cell_type": "code",
   "execution_count": null,
   "metadata": {},
   "outputs": [],
   "source": [
    "fig = plt.figure(figsize=(7, 5))\n",
    "plt.scatter(np.arange(0, n1 + 1), pX1, c='crimson', label='p='+str(p1)+' ; '+'n='+str(n1))\n",
    "plt.scatter(np.arange(0, n1 + 1), pX2, marker=\"s\", c='cornflowerblue', label='p='+str(p2)+' ; '+'n='+str(n1))\n",
    "plt.scatter(np.arange(0, n2 + 1), pX3, marker=\">\", c='royalblue', label='p='+str(p2)+' ; '+'n='+str(n2))\n",
    "plt.xlabel('$X=k$')\n",
    "plt.ylabel('$P(X=k)$')\n",
    "plt.ylim([-0.02, 0.27])\n",
    "plt.legend()\n",
    "plt.show()"
   ]
  },
  {
   "cell_type": "markdown",
   "metadata": {},
   "source": [
    "You can now reproduce the [Wikipedia plot](https://en.wikipedia.org/wiki/Binomial_distribution#/media/File:Binomial_distribution_pmf.svg). All you have to do is change the parameters!"
   ]
  },
  {
   "cell_type": "markdown",
   "metadata": {},
   "source": [
    "### 1.1.2 The Poisson distribution"
   ]
  },
  {
   "cell_type": "markdown",
   "metadata": {},
   "source": [
    "Recall the expression for the Poisson distribution, it is used to describe discrete random variable occurences within an interval"
   ]
  },
  {
   "cell_type": "markdown",
   "metadata": {},
   "source": [
    "$$ P(X=k) = \\frac{\\lambda^k e^{-\\lambda}}{k!} $$"
   ]
  },
  {
   "cell_type": "markdown",
   "metadata": {},
   "source": [
    "Let's create a function for $P(X=k)$ and include arguments for $\\lambda$ and *k*"
   ]
  },
  {
   "cell_type": "code",
   "execution_count": null,
   "metadata": {},
   "outputs": [],
   "source": [
    "def poisson_pmf(lamb, k):\n",
    "    \n",
    "    probability = math.pow(lamb, k) * math.exp(-lamb) / math.factorial(k)\n",
    "    \n",
    "    return probability"
   ]
  },
  {
   "cell_type": "markdown",
   "metadata": {},
   "source": [
    "Let's imagine that we know that our mean and standard deviations are equal to 2, i.e. $\\lambda=2$ and see what $P_{\\text poisson}(X=k)$ looks like"
   ]
  },
  {
   "cell_type": "code",
   "execution_count": null,
   "metadata": {},
   "outputs": [],
   "source": [
    "lamb = 2\n",
    "poisson_probs = [poisson_pmf(lamb, k) for k in np.arange(0, 21)]"
   ]
  },
  {
   "cell_type": "markdown",
   "metadata": {},
   "source": [
    "Let's reproduce this Wikipedia plot https://en.wikipedia.org/wiki/Poisson_distribution#/media/File:Poisson_pmf.svg"
   ]
  },
  {
   "cell_type": "code",
   "execution_count": null,
   "metadata": {},
   "outputs": [],
   "source": [
    "pX1 = [poisson_pmf(1, k) for k in np.arange(0, 21)]\n",
    "pX2 = [poisson_pmf(4, k) for k in np.arange(0, 21)]\n",
    "pX3 = [poisson_pmf(10, k) for k in np.arange(0, 21)]\n",
    "\n",
    "fig = plt.figure(figsize=(7, 5))\n",
    "\n",
    "plt.plot(np.arange(0, 21), pX1, c='grey', linewidth=2, zorder=0)\n",
    "plt.plot(np.arange(0, 21), pX2, c='grey', linewidth=2, zorder=1)\n",
    "plt.plot(np.arange(0, 21), pX3, c='grey', linewidth=2, zorder=2)\n",
    "\n",
    "plt.scatter(np.arange(0, 21), pX1, s=80, c='goldenrod', edgecolors='k', label='$\\lambda =1$', zorder=3)\n",
    "plt.scatter(np.arange(0, 21), pX2, s=80, c='purple', edgecolors='k', label='$\\lambda =4$', zorder=4)\n",
    "plt.scatter(np.arange(0, 21), pX3, s=80, c='lightsteelblue',  edgecolors='k', label='$\\lambda =10$', zorder=5)\n",
    "\n",
    "plt.legend()\n",
    "plt.ylim([0, 0.4])\n",
    "plt.ylabel(\"$P_{\\sf poisson}(X=k)$\")\n",
    "plt.xlabel(\"$X=k$\")\n",
    "\n",
    "plt.show()"
   ]
  },
  {
   "cell_type": "markdown",
   "metadata": {},
   "source": [
    "### 1.2 Continuous random variable probability distribution functions - PDFs\n",
    "\n",
    "### 1.2.1 The Gaussian distribution a.k.a the Normal distribution"
   ]
  },
  {
   "cell_type": "markdown",
   "metadata": {},
   "source": [
    "Recall from the slides, that for a given variance $\\sigma^2$ and mean $\\mu$ the probability of the random variable $X=x$ according to the Normal distribution is"
   ]
  },
  {
   "cell_type": "markdown",
   "metadata": {},
   "source": [
    "$$P(x) = \\frac{1}{\\sqrt{2 \\pi \\sigma^{2}}}e^{-\\frac{(x-\\mu)^{2}}{2\\sigma^{2}}} $$"
   ]
  },
  {
   "cell_type": "markdown",
   "metadata": {},
   "source": [
    "#### Exercise 2 (in class)\n",
    "Define a function for the Normal PDF. It should take $x$, $\\mu$, $\\sigma$ in input"
   ]
  },
  {
   "cell_type": "code",
   "execution_count": null,
   "metadata": {},
   "outputs": [],
   "source": [
    "def normal_pdf(x, mu, sigma):\n",
    "    # ... hmmm\n",
    "    return probability"
   ]
  },
  {
   "cell_type": "code",
   "execution_count": null,
   "metadata": {},
   "outputs": [],
   "source": [
    "normal_pdf(5, 0, 1)"
   ]
  },
  {
   "cell_type": "markdown",
   "metadata": {},
   "source": [
    "Call the function on a list of numbers"
   ]
  },
  {
   "cell_type": "markdown",
   "metadata": {},
   "source": [
    "Hint: look at `np.linspace`"
   ]
  },
  {
   "cell_type": "code",
   "execution_count": null,
   "metadata": {},
   "outputs": [],
   "source": [
    "[ normal_pdf(x, 0, 1) for x in np.linspace(-10, 10, 20) ]"
   ]
  },
  {
   "cell_type": "markdown",
   "metadata": {},
   "source": [
    "Let's plot the **Standard Normal PDF**"
   ]
  },
  {
   "cell_type": "code",
   "execution_count": null,
   "metadata": {},
   "outputs": [],
   "source": [
    "pX = [normal_pdf(x, 0, 1.0) for x in np.linspace(-5, 5, 100)]\n",
    "\n",
    "fig = plt.figure(figsize=(8,5))\n",
    "ax1 = plt.plot(np.linspace(-5, 5, 100), pX, c='purple', linewidth=3, label='$\\mu$=0, $\\sigma^{2}$=1')\n",
    "plt.legend(loc='upper right')\n",
    "plt.xlabel('$x$')\n",
    "plt.ylabel('$P(x)$')\n",
    "plt.grid(True)\n",
    "plt.minorticks_on()\n",
    "plt.tick_params(direction='in', length=10)\n",
    "plt.tick_params(which='minor', direction='in', length=5)\n",
    "plt.show()"
   ]
  },
  {
   "cell_type": "markdown",
   "metadata": {},
   "source": [
    "### 2. Cummulative distribution functions"
   ]
  },
  {
   "cell_type": "markdown",
   "metadata": {},
   "source": [
    "Let's look at the CDF for an empirical distribution. Recall this from our descriptive statistics notebook."
   ]
  },
  {
   "cell_type": "code",
   "execution_count": null,
   "metadata": {},
   "outputs": [],
   "source": [
    "data = pd.read_csv('datasets/HCEPDB_moldata.csv')\n",
    "\n",
    "population = data.sample(frac = 0.001) \n",
    "population.describe()"
   ]
  },
  {
   "cell_type": "markdown",
   "metadata": {},
   "source": [
    "Let's plot our `'mass'` column again"
   ]
  },
  {
   "cell_type": "code",
   "execution_count": null,
   "metadata": {},
   "outputs": [],
   "source": [
    "population['mass'].hist(bins=30, color='royalblue')"
   ]
  },
  {
   "cell_type": "markdown",
   "metadata": {},
   "source": [
    "### 2.1 Empirical CDF"
   ]
  },
  {
   "cell_type": "markdown",
   "metadata": {},
   "source": [
    "Now we want to compute the cummulative distribution function of this discrete data set \n",
    "$F_X(x) = \\sum_{i=0}^{\\left\\lfloor k \\right\\rfloor\n",
    "}P(X=i)$, we can approximate it as the normalized sum of counts $C_k$ up to the $k-th$ bin of width $\\Delta k$ with $N_{bins}$ from our histogram, i.e.\n",
    "\n",
    "$$F_X(k) \\approx \\sum_{j=1}^{N_k} C_j \\cdot \\Delta j$$\n"
   ]
  },
  {
   "cell_type": "code",
   "execution_count": null,
   "metadata": {},
   "outputs": [],
   "source": [
    "num_bins = 30\n",
    "counts, bin_edges = np.histogram(population['mass'].values, bins=num_bins, density=True)\n",
    "cdf = np.cumsum(counts*np.diff(bin_edges))\n",
    "plt.plot (bin_edges[1:], cdf, '->', color='royalblue') \n",
    "plt.xlabel('x')\n",
    "plt.ylabel('$F_X(x)$ Empirical CDF')\n",
    "plt.show()"
   ]
  },
  {
   "cell_type": "markdown",
   "metadata": {},
   "source": [
    "### 2.2 Interpolating to compute the empirical CDF"
   ]
  },
  {
   "cell_type": "markdown",
   "metadata": {},
   "source": [
    "If you aren't sure what interpolation is, read [this](https://en.wikipedia.org/wiki/Interpolation). We will look at an example of interpolation when we introduce the concept of Regression, in that case we will consider linear interpolation.\n",
    "\n",
    "We will procede as above and interpolate our CDF bins to get a smoother function."
   ]
  },
  {
   "cell_type": "code",
   "execution_count": null,
   "metadata": {},
   "outputs": [],
   "source": [
    "def inverse_cdf(data, set_bins=40):\n",
    "    \n",
    "    hist_data, bin_edges = np.histogram(data, bins=set_bins, density=True)\n",
    "    cdf_bins = np.cumsum(hist_data * np.diff(bin_edges))\n",
    "    cdf_bins = np.insert(cdf_bins, 0, 0)\n",
    "    \n",
    "    inv_cdf = scipy.interpolate.interp1d(cdf_bins, bin_edges)\n",
    "    cdf = scipy.interpolate.interp1d(bin_edges, cdf_bins)\n",
    "    \n",
    "    return [cdf, inv_cdf]"
   ]
  },
  {
   "cell_type": "markdown",
   "metadata": {},
   "source": [
    "Use the cell below to call our function with `set_bins = 30`"
   ]
  },
  {
   "cell_type": "code",
   "execution_count": null,
   "metadata": {},
   "outputs": [],
   "source": []
  },
  {
   "cell_type": "markdown",
   "metadata": {},
   "source": [
    "Let's plot the CDF!"
   ]
  },
  {
   "cell_type": "code",
   "execution_count": null,
   "metadata": {},
   "outputs": [],
   "source": [
    "xmin = np.min(population['mass'].values)\n",
    "xmax = np.max(population['mass'].values)\n",
    "x = np.linspace(xmin, xmax, 1000)"
   ]
  },
  {
   "cell_type": "code",
   "execution_count": null,
   "metadata": {},
   "outputs": [],
   "source": [
    "plt.figure()\n",
    "plt.plot(x, cdf(x),'-',lw='3',color='royalblue')\n",
    "plt.xlabel('x')\n",
    "plt.ylabel('$F_X(x)$ Empirical CDF')\n",
    "plt.show()"
   ]
  },
  {
   "cell_type": "markdown",
   "metadata": {},
   "source": [
    "### 2.3 Some CDFs are implemented in scipy "
   ]
  },
  {
   "cell_type": "markdown",
   "metadata": {},
   "source": [
    "Many CDFs are implemented in scipy, for more info see [here](https://docs.scipy.org/doc/scipy/reference/stats.html).\n",
    "\n",
    "Let's look at a Normal distribution"
   ]
  },
  {
   "cell_type": "code",
   "execution_count": null,
   "metadata": {},
   "outputs": [],
   "source": [
    "x = np.linspace(-15,15, 100) \n",
    "\n",
    "fig, ax = plt.subplots(1,2, figsize=(11,4))\n",
    "\n",
    "\n",
    "ax[1].plot(x,scipy.stats.norm.cdf(x),'-', lw=3, color='cornflowerblue', label='CDF')\n",
    "\n",
    "ax[1].set_xlabel('x')\n",
    "ax[1].set_ylabel('$F_X(x)$')\n",
    "ax[1].legend(loc='upper left')\n",
    "\n",
    "\n",
    "ax[0].plot(x, scipy.stats.norm.pdf(x),'-', lw=3, color='purple', label='PDF')\n",
    "\n",
    "ax[0].set_ylabel('$P(X=x)$')\n",
    "ax[0].set_xlabel('x')\n",
    "ax[0].legend(loc='upper left')\n",
    "\n",
    "plt.tight_layout()"
   ]
  },
  {
   "cell_type": "markdown",
   "metadata": {},
   "source": [
    "For a binomial distribution"
   ]
  },
  {
   "cell_type": "code",
   "execution_count": null,
   "metadata": {},
   "outputs": [],
   "source": [
    "x = np.linspace(1,20, 20)\n",
    "# n = 10 ; p = 0.5\n",
    "cdf_x = scipy.stats.binom.cdf(x, 10, 0.5)\n",
    "pmf_x = scipy.stats.binom.pmf(x, 10, 0.5)\n",
    "rv = scipy.stats.binom(10, 0.5)\n",
    "\n",
    "\n",
    "fig, ax = plt.subplots(1,2, figsize=(11,4))\n",
    "\n",
    "ax[0].plot(x, pmf_x,'o', lw=2, color='plum', markeredgecolor='purple', markersize=10, label='binom pmf')\n",
    "ax[0].vlines(x, 0, rv.pmf(x), colors='salmon', linestyles='-', lw=2, label='frozen pmf')\n",
    "ax[0].set_xlabel('k')\n",
    "ax[0].set_ylabel('$P(X=k)$')\n",
    "ax[0].legend()\n",
    "\n",
    "\n",
    "ax[1].plot(x, cdf_x,'o', lw=2, color='cornflowerblue', markeredgecolor='midnightblue', markersize=10, label='binom cdf')\n",
    "ax[1].vlines(x, 0, rv.cdf(x), colors='lightblue',  linestyles='-', lw=2, label='frozen cdf')\n",
    "ax[1].set_ylabel('$F_X(k)$')\n",
    "ax[1].set_xlabel('k')\n",
    "ax[1].legend()\n",
    "\n",
    "plt.tight_layout()\n"
   ]
  },
  {
   "cell_type": "markdown",
   "metadata": {},
   "source": [
    "## 3. Sampling from distributions using the inverse CDF"
   ]
  },
  {
   "cell_type": "code",
   "execution_count": null,
   "metadata": {},
   "outputs": [],
   "source": [
    "zero2one = np.linspace(0, .9999, num=100)"
   ]
  },
  {
   "cell_type": "markdown",
   "metadata": {},
   "source": [
    "Let's begin by plotting the inverse CDF"
   ]
  },
  {
   "cell_type": "code",
   "execution_count": null,
   "metadata": {},
   "outputs": [],
   "source": [
    "plt.figure(figsize=(6, 5))\n",
    "plt.plot(zero2one, inv_cdf(zero2one),lw=3,color=\"chocolate\")\n",
    "plt.xlabel(\"x\")\n",
    "plt.ylabel(\"$F^{-1}_X(x)$\")\n",
    "plt.show()"
   ]
  },
  {
   "cell_type": "markdown",
   "metadata": {},
   "source": [
    "Now we can sample from our inverse CDF to generate values from our empirical distribution"
   ]
  },
  {
   "cell_type": "markdown",
   "metadata": {},
   "source": [
    "Let's do that with `np.random.rand`. Why are we using this random function? What is special about how it works that makes it useful with inverse CDF?"
   ]
  },
  {
   "cell_type": "markdown",
   "metadata": {},
   "source": [
    "OK, let's put this together with something like:\n",
    "\n",
    "`sample = inv_cdf(np.random.rand(1000))`"
   ]
  },
  {
   "cell_type": "code",
   "execution_count": null,
   "metadata": {},
   "outputs": [],
   "source": [
    "sample = inv_cdf(np.random.rand(1000))"
   ]
  },
  {
   "cell_type": "markdown",
   "metadata": {},
   "source": [
    "Now make a histogram of sample and set the bins to 100. How does it look? What happens when you increase the argument to `np.random.rand`?"
   ]
  },
  {
   "cell_type": "markdown",
   "metadata": {},
   "source": [
    "Recall our original distribution"
   ]
  },
  {
   "cell_type": "code",
   "execution_count": null,
   "metadata": {},
   "outputs": [],
   "source": [
    "population['mass'].hist(bins=100, color='royalblue')"
   ]
  },
  {
   "cell_type": "markdown",
   "metadata": {},
   "source": [
    "#### Exercise 3 (in class)\n",
    "Make your histogram hereafter and play with the number of points in your sample! "
   ]
  },
  {
   "cell_type": "code",
   "execution_count": null,
   "metadata": {},
   "outputs": [],
   "source": []
  },
  {
   "cell_type": "code",
   "execution_count": null,
   "metadata": {},
   "outputs": [],
   "source": []
  }
 ],
 "metadata": {
  "kernelspec": {
   "display_name": "Python (tunnel)",
   "language": "python",
   "name": "python3"
  },
  "language_info": {
   "codemirror_mode": {
    "name": "ipython",
    "version": 3
   },
   "file_extension": ".py",
   "mimetype": "text/x-python",
   "name": "python",
   "nbconvert_exporter": "python",
   "pygments_lexer": "ipython3",
   "version": "3.7.7"
  }
 },
 "nbformat": 4,
 "nbformat_minor": 2
}
