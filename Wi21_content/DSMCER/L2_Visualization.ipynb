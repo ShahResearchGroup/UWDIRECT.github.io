{
 "cells": [
  {
   "cell_type": "markdown",
   "metadata": {},
   "source": [
    "# Data Science Methods for Clean Energy Research \n",
    "## *Introduction to <font color=blue>Data Visualization</font>*"
   ]
  },
  {
   "cell_type": "markdown",
   "metadata": {},
   "source": [
<<<<<<< Updated upstream
    "In this notebook we will look at functions which enable us to plot data using python. Three libraries will be considered, <code> pandas </code>, <code> matplotlib </code> and <code> seaborn </code>. "
=======
    "In this notebook we will look at functions which enable us to plot data using python. Three libraries will be considered, <code>pandas</code>, <code> matplotlib</code> and <code>seaborn</code>. "
>>>>>>> Stashed changes
   ]
  },
  {
   "cell_type": "markdown",
   "metadata": {},
   "source": [
    "## Outline \n",
    "\n",
    "### 1. Use <code> matplotlib </code> to visualize data in lists or numpy arrays\n",
    "#### 1.1 Plots of 2D data\n",
    "* line plots\n",
    "* scatter plot\n",
    "* histograms\n",
    "* colors, markers, linetypes, markertypes \n",
    "* legends, titles and axis labels\n",
    "\n",
    "#### 1.2 More than one 2D plot\n",
    "\n",
    "#### 1.2 Plots of 3D data\n",
    "\n",
    "###  2. Use <code> pandas </code> to visualize data in pandas dataframes"
   ]
  },
  {
   "cell_type": "markdown",
   "metadata": {},
   "source": [
    "---"
   ]
  },
  {
   "cell_type": "markdown",
   "metadata": {},
   "source": [
    "### Load libraries"
   ]
  },
  {
   "cell_type": "markdown",
   "metadata": {},
   "source": [
    "\n",
    "Import libraries for visualization and data operations. It is always good practice to do this at the beginning of a notebook. If you don't have seaborn, you can install it with conda install seaborn."
   ]
  },
  {
   "cell_type": "code",
   "execution_count": null,
   "metadata": {},
   "outputs": [],
   "source": [
    "import matplotlib\n",
    "import matplotlib.pyplot as plt\n",
    "\n",
<<<<<<< Updated upstream
    "\n",
=======
>>>>>>> Stashed changes
    "import seaborn as sns\n",
    "import pandas as pd\n",
    "\n",
    "import random\n",
    "import numpy as np"
   ]
  },
  {
   "cell_type": "markdown",
   "metadata": {},
   "source": [
    "Use notebook magic to render matplotlib figures inline with notebook cells."
   ]
  },
  {
   "cell_type": "code",
   "execution_count": null,
   "metadata": {},
   "outputs": [],
   "source": [
    "%matplotlib inline"
   ]
  },
  {
   "cell_type": "markdown",
   "metadata": {},
   "source": [
    "## 1. Matplotlib"
   ]
  },
  {
   "cell_type": "markdown",
   "metadata": {},
   "source": [
    "### 1.1 Plot data in 2D"
   ]
  },
  {
   "cell_type": "markdown",
   "metadata": {},
   "source": [
    "You are given data which indicates Dr V's position in her 20x20 foot office when she is searching for the coffee machine. She forgot to write her numbers to a file so we generate them hereafter using <code> numpy </code> and <code> random </code>:"
   ]
  },
  {
   "cell_type": "code",
   "execution_count": null,
   "metadata": {},
   "outputs": [],
   "source": [
    "# Very important data - points which indicates the position of Dr V on the best path connecting Dr V to the coffee machine\n",
    "length = 20   # Size of room in feet\n",
    "m = 1         # Slope of shortest path\n",
    "b = 0         # Intercept of shortest path\n",
    "x1 = np.linspace(0,length,10)  # Position along x\n",
    "y1 = m*x1 + b                  # Position along y"
   ]
  },
  {
   "cell_type": "code",
   "execution_count": null,
   "metadata": {},
   "outputs": [],
   "source": [
    "# Other possible Dr V positions in the room\n",
    "random.seed(19)\n",
    "x2 = np.linspace(0,20,5000)\n",
    "y2_rand = [ random.random()*20 for i in range(5000) ]"
   ]
  },
  {
   "cell_type": "markdown",
   "metadata": {},
   "source": [
    "#### 1.1 A line plot"
   ]
  },
  {
   "cell_type": "markdown",
   "metadata": {},
   "source": [
    "Now we use the <code>plot()</code> function from <code>pyplot</code> in <code>matplotlib</code> to plot the data. This command generates a figure but not axes object."
   ]
  },
  {
   "cell_type": "code",
   "execution_count": null,
   "metadata": {},
   "outputs": [],
   "source": [
    "# What does the important data look like?\n",
    "plt.figure()\n",
    "plt.plot(x1, y1)"
   ]
  },
  {
   "cell_type": "code",
   "execution_count": null,
   "metadata": {},
   "outputs": [],
   "source": [
    "# What do the points look like?\n",
    "plt.figure()\n",
    "plt.plot(x1, y1, linestyle=' ', marker='x')"
   ]
  },
  {
   "cell_type": "code",
   "execution_count": null,
   "metadata": {},
   "outputs": [],
   "source": [
    "# Define marker and linestyle contemporarily\n",
    "plt.figure()\n",
    "plt.plot(x1, y1, 'x') "
   ]
  },
  {
   "cell_type": "markdown",
   "metadata": {},
   "source": [
    "In the above plots we are not defining axes and a figure separately, if desired this can be done as following. The axes define the area over which to plot data. For more information on creating figures see [here](https://matplotlib.org/tutorials/introductory/usage.html#sphx-glr-tutorials-introductory-usage-py)."
   ]
  },
  {
   "cell_type": "code",
   "execution_count": null,
   "metadata": {},
   "outputs": [],
   "source": [
    "fig, ax = plt.subplots()  # Create a figure containing a single axes.\n",
    "ax.plot(x1, y1, linestyle=' ', marker='x')  # Plot some data on the axes.\n",
    "plt.show()"
   ]
  },
  {
   "cell_type": "code",
   "execution_count": null,
   "metadata": {},
   "outputs": [],
   "source": [
    "plt.figure()\n",
    "plt.title(\"10 important red points!\")\n",
    "plt.plot(x1, y1,'xr',label='red points')\n",
    "plt.plot(x2, y2_rand,'x', color='magenta', label='magenta points')\n",
    "plt.legend(bbox_to_anchor=(1.05, 1), loc='upper left', fontsize='small')\n",
    "plt.show()"
   ]
  },
  {
   "cell_type": "markdown",
   "metadata": {},
   "source": [
    "Time to fix the plots - need to change the **colors**, **markers**, **linestyle**, **fontsize** and **add labels!**\n",
    "\n",
    "* Info on markers - https://matplotlib.org/3.3.3/api/markers_api.html\n",
    "* Info on colors - https://matplotlib.org/3.1.0/gallery/color/named_colors.html\n",
    "* Info on fontsize and text - https://matplotlib.org/3.1.1/tutorials/text/text_intro.html\n",
    "* Info on linestyle - https://matplotlib.org/3.1.0/gallery/lines_bars_and_markers/linestyles.html\n",
    "* Info on legend - https://matplotlib.org/3.1.1/api/_as_gen/matplotlib.pyplot.legend.html\n",
    "\n",
    "and much more can be found on https://matplotlib.org"
   ]
  },
  {
   "cell_type": "code",
   "execution_count": null,
   "metadata": {},
   "outputs": [],
   "source": [
    "# Increase overall fontsize - this can be done once at the beginning when importing libraries\n",
    "matplotlib.rcParams.update({'font.size': 22})"
   ]
  },
  {
   "cell_type": "code",
   "execution_count": null,
   "metadata": {},
   "outputs": [],
   "source": [
    "# Change title make it clearer to understand - here changing fontsize of title only\n",
    "plt.figure()\n",
    "plt.title(\"Shortest path from desk to coffee machine!\", fontsize=18)\n",
    "\n",
    "# Change marker and marker size for important points and plot them last (overlap of data)\n",
    "plt.plot(x2, y2_rand,'x', color='tab:grey', label='other points')\n",
    "plt.plot(x1, y1,'o', color='tab:red', markersize=15, label='shortest path')\n",
    "\n",
    "# Label the x and y axis\n",
    "plt.xlabel('office length [feet]')\n",
    "plt.ylabel('office width [feet]')\n",
    "\n",
    "# Add a legend and place it out the box\n",
    "plt.legend(bbox_to_anchor=(1.05, 1), loc='upper left', fontsize='small')\n"
   ]
  },
  {
   "cell_type": "markdown",
   "metadata": {},
   "source": [
    "### 1.2 Many plots in 2D"
   ]
  },
  {
   "cell_type": "markdown",
   "metadata": {},
   "source": [
    "What if we wanted to compare our initial version and current version next to each other? How can we create more than one plot in matplotlib?"
   ]
  },
  {
   "cell_type": "code",
   "execution_count": null,
   "metadata": {},
   "outputs": [],
   "source": [
    "# Create a figure object of size wxh 15x6\n",
    "fig = plt.figure(figsize=(15,6))\n",
    "# Define one row and two columns\n",
    "ax = fig.subplots(nrows=1,ncols=2)\n",
    "\n",
    "# Define what we will plot in the first plot on the left hand size (index 0)\n",
    "ax[0].set_title(\"10 important red points!\")\n",
    "ax[0].plot(x1, y1,'xr',label='red points')\n",
    "ax[0].plot(x2, y2_rand,'x', color='magenta', label='magenta points')\n",
    "ax[0].legend(loc='upper left', fontsize='small')\n",
    "\n",
    "# Define what we will plot in the second plot starting on the left hand size (index 1)\n",
    "ax[1].set_title(\"Shortest path from desk to coffee machine!\")\n",
    "ax[1].plot(x2, y2_rand,'x', color='tab:grey', label='other points')\n",
    "ax[1].plot(x1, y1,'o', color='tab:red', markersize=15, label='shortest path')\n",
    "ax[1].set_xlabel('office length [feet]')\n",
    "ax[1].set_ylabel('office width [feet]')\n",
    "ax[1].legend(loc='upper left', fontsize='small')\n",
    "ax[1].set_xlim([0,10])\n",
    "# Make sure there is space for each plot\n",
    "fig.tight_layout()"
   ]
  },
  {
   "cell_type": "markdown",
   "metadata": {},
   "source": [
    "Note that we have the same interval on the x and y axis for each plot - that helps to make a reasonable comparison. You can use <code>ax[0].set_xlim([xmin,xmax])</code> to set a range, same for the y axis"
   ]
  },
  {
   "cell_type": "markdown",
   "metadata": {},
   "source": [
    "### Exercise 1 (in class) - beyond a line plot ... how about a histogram?"
   ]
  },
  {
   "cell_type": "markdown",
   "metadata": {},
   "source": [
    "Let's see where SV is in the room respect to the office length by using a histogram. Use the <code>plt.hist()</code> [function](https://matplotlib.org/3.3.3/api/_as_gen/matplotlib.pyplot.hist.html) to visualize the <code> y2_rand </code> positions :\n",
    "* test the number of bins using <code> bins= </code>\n",
    "* change the color of your plot\n",
    "* add an xlabel and a ylabel\n",
    "* put your plot in the chat"
   ]
  },
  {
   "cell_type": "markdown",
   "metadata": {},
   "source": [
    "Ok now you made a beautiful plot, how do you save it? You can use the <code>savefig()</code> function"
   ]
  },
  {
   "cell_type": "code",
   "execution_count": null,
   "metadata": {},
   "outputs": [],
   "source": [
    "plt.figure()\n",
    "plt.hist(y2_rand, bins=5, color='cornflowerblue', edgecolor=\"papayawhip\", width=4, linewidth=3)\n",
    "plt.savefig(\"my_DSMS_plot.png\",transparent=True, dpi=300,bbox_inches='tight')"
   ]
  },
  {
   "cell_type": "markdown",
   "metadata": {},
   "source": [
    "### 1.3 Plot data in 3D"
   ]
  },
  {
   "cell_type": "code",
   "execution_count": null,
   "metadata": {},
   "outputs": [],
   "source": [
    "def earth(theta, phi):\n",
    "    a = 6378.137\n",
    "    b = 6356.752\n",
    "    c = 6371.000\n",
    "    x = a*np.sin(theta)*np.cos(phi)\n",
    "    y = b*np.sin(theta)*np.sin(phi)\n",
    "    z = c*np.cos(theta)\n",
    "    return x, y, z"
   ]
  },
  {
   "cell_type": "code",
   "execution_count": null,
   "metadata": {},
   "outputs": [],
   "source": [
    "%matplotlib notebook\n",
    "import matplotlib.pyplot as plt\n",
    "from mpl_toolkits.mplot3d import Axes3D"
   ]
  },
  {
   "cell_type": "code",
   "execution_count": null,
   "metadata": {},
   "outputs": [],
   "source": [
    "fig = plt.figure()\n",
    "ax = fig.add_subplot(111, projection='3d')\n",
    "\n",
    "theta = np.array([ random.random() * np.pi for i in range(500) ])\n",
    "phi = np.array([ random.random() * 2 * np.pi for i in range(500) ])\n",
    "x, y, z = earth(theta, phi)\n",
    "ax.scatter(x, y, z)"
   ]
  },
  {
   "cell_type": "code",
   "execution_count": null,
   "metadata": {},
   "outputs": [],
   "source": [
    "fig = plt.figure()\n",
    "ax = fig.add_subplot(111, projection='3d')\n",
    "ax.set_box_aspect((np.ptp(x), np.ptp(y), np.ptp(z)))\n",
    "ax.scatter(x, y, z)"
   ]
  },
  {
   "cell_type": "code",
   "execution_count": null,
   "metadata": {},
   "outputs": [],
   "source": [
    "fig = plt.figure()\n",
    "ax = fig.add_subplot(111, projection='3d')\n",
    "ax.set_box_aspect((np.ptp(x), np.ptp(y), np.ptp(z)))\n",
    "ax.plot_trisurf(x, y, z, cmap ='viridis', edgecolor ='green')"
   ]
  },
  {
   "cell_type": "code",
   "execution_count": null,
   "metadata": {},
   "outputs": [],
   "source": [
    "fig = plt.figure()\n",
    "ax = fig.add_subplot(111, projection='3d')\n",
    "ax.set_box_aspect((np.ptp(x), np.ptp(y), np.ptp(z)))\n",
    "ax.plot3D(x, y, z, 'ko', alpha=0.8)\n",
    "ax.plot3D(x, y, z, 'b', alpha=0.3)"
   ]
  },
  {
   "cell_type": "markdown",
   "metadata": {},
   "source": [
    "## 2. Pandas"
   ]
  },
  {
   "cell_type": "code",
   "execution_count": null,
   "metadata": {},
   "outputs": [],
   "source": [
    "print(\"Next time :)\")"
   ]
  },
  {
   "cell_type": "code",
   "execution_count": null,
   "metadata": {},
   "outputs": [],
   "source": []
  }
 ],
 "metadata": {
  "kernelspec": {
   "display_name": "Python (tunnel)",
   "language": "python",
   "name": "python3"
  },
  "language_info": {
   "codemirror_mode": {
    "name": "ipython",
    "version": 3
   },
   "file_extension": ".py",
   "mimetype": "text/x-python",
   "name": "python",
   "nbconvert_exporter": "python",
   "pygments_lexer": "ipython3",
   "version": "3.7.7"
  }
 },
 "nbformat": 4,
 "nbformat_minor": 2
}
