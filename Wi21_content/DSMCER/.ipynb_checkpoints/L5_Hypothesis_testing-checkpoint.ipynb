{
 "cells": [
  {
   "cell_type": "markdown",
   "metadata": {},
   "source": [
    "# Data Science Methods for Clean Energy Research \n",
    "## *Hypothesis testing*\n",
    "\n",
    "## Outline\n",
    "\n",
    "Today, we will explore the concept of Hypothesis testing.\n",
    "\n",
    "### 1. Introduction to Hypothesis testing - 1 sample\n",
    "* 1.1 Making a hypothesis - null and alternative\n",
    "* 1.2 Significance level and p-values\n",
    "* 1.3 Test statistics \n",
    "    * The student t-distribution\n",
    "* 1.4 Student t-test / algorithm for 1 sample\n",
    "    * Example applying the student t-test to a sample of puppies\n",
    "* 1.5 Confidence intervals\n",
    "\n",
    "### 2. Two sample Hypothesis testing\n",
    "* 2.1 Unpaired two sample t-test\n",
    "* 2.2 Paired two sample t-test\n",
    "\n",
    "### 3. Parametric vs non parametric tests\n",
    "\n"
   ]
  },
  {
   "cell_type": "markdown",
   "metadata": {},
   "source": [
    "---"
   ]
  },
  {
   "cell_type": "markdown",
   "metadata": {},
   "source": [
    "## Let's load the libraries / modules"
   ]
  },
  {
   "cell_type": "code",
   "execution_count": null,
   "metadata": {},
   "outputs": [],
   "source": [
    "import matplotlib\n",
    "import matplotlib.pyplot as plt\n",
    "from matplotlib import cm\n",
    "import numpy as np\n",
    "import pandas as pd\n",
    "import scipy  # Note that you need version 1.6.0 of scipy!\n",
    "import scipy.stats as stats\n",
    "import math\n",
    "\n",
    "\n",
    "%matplotlib inline\n",
    "matplotlib.rcParams.update({'font.size': 18})"
   ]
  },
  {
   "cell_type": "markdown",
   "metadata": {},
   "source": [
    "## 1. Introduction to Hypothesis testing - 1 sample"
   ]
  },
  {
   "cell_type": "markdown",
   "metadata": {},
   "source": [
    "We are given a sample dataset for some 6 month old **<span style=\"color:darkmagenta\"> puppies</span>** raised in a farm on mount Rainier and living on the farm. We want to evaluate whether the puppies have been well fed and have the correct weight based on the average weight of 6 month old puppies. Our random variable is the weight of the puppies $X$."
   ]
  },
  {
   "cell_type": "markdown",
   "metadata": {},
   "source": [
    "\n",
    "\n",
    "<div>\n",
    "<img src=https://drive.google.com/uc?export=view&id=14rqkMEMWFjqs-c59kEzJxK6-HyIE2MrV width=\"600\" align=left>\n",
    "</div>"
   ]
  },
  {
   "cell_type": "code",
   "execution_count": null,
   "metadata": {},
   "outputs": [],
   "source": [
    "df_puppies = pd.read_csv('mount_rainier_puppies.csv',index_col=0)\n",
    "df_puppies.describe()"
   ]
  },
  {
   "cell_type": "code",
   "execution_count": null,
   "metadata": {},
   "outputs": [],
   "source": [
    "df_puppies['weight [lb]'].plot.hist(color=\"darkmagenta\", edgecolor='white')\n",
    "plt.title('Mount Rainier puppy weight',fontsize=16)\n",
    "plt.xlabel(\"weight [lb]\")\n",
    "plt.show()"
   ]
  },
  {
   "cell_type": "markdown",
   "metadata": {},
   "source": [
    "### 1.1 Making a Hypothesis: null and alternative"
   ]
  },
  {
   "cell_type": "markdown",
   "metadata": {},
   "source": [
    "We are told that the average weight of puppies for the entire population at 4months is 14lbs. We looked at the above histogram and are worried that the puppies might have eaten a bit too many snacks and that they are above the average in terms of weight?\n",
    "\n",
    "We can make a **<span style=\"color:blue\">null hypothesis </span>**, $H_0$ \n",
    "* Null hypothesis, $H_0$: the mean weight of the mount rainer puppies is equal the national average, \n",
    "\n",
    "  $\\overline{X}_{\\sf mount\\;rainer} = \\mu = $ 14 lbs \n",
    "  \n",
    "An **<span style=\"color:blue\">alternative hypothesis</span>** could be\n",
    "* Alternative hypothesis, $H_a$: the mean weight of the mount rainier puppies is greater than the national average,\n",
    "\n",
    "  $\\overline{X}_{\\sf mount\\;rainer} > $ 14 lbs \n",
    "  "
   ]
  },
  {
   "cell_type": "markdown",
   "metadata": {},
   "source": [
    "The null hypothesis is usually the boring hypothesis that nothing has changed. Here is another example of null and alternative hypotheses:\n",
    "\n",
    "You are given a set of data from the clean energy process and you want to know whether the values of energy are on average comparable to the average energy of an organic molecule\n",
    "\n",
    "* Null hypothesis, $H_0$: the mean $E_{LUMO}$ of the dataset is equal to the population mean $\\mu_{LUMO}$\n",
    "* Alternative hypothesis, $H_a$: the mean $E_{LUMO}$ of the dataset is different from the population mean $\\mu_{LUMO}$\n"
   ]
  },
  {
   "cell_type": "markdown",
   "metadata": {},
   "source": [
    "### 1.2 Significance level and p-values"
   ]
  },
  {
   "cell_type": "markdown",
   "metadata": {},
   "source": [
    "Now imagine we are given the exact distribution of puppy population weight, as shown hereafter and we observe that one of the puppies named Serotonin had a weight of $x =$ 20lbs. "
   ]
  },
  {
   "cell_type": "code",
   "execution_count": null,
   "metadata": {},
   "outputs": [],
   "source": [
    "def PDF_puppy_pop(w):\n",
    "    # Note: Local variables!!\n",
    "    sigma = 3\n",
    "    mu = 14\n",
    "\n",
    "    prefactor = math.pow( 2*math.pi*math.pow(sigma, 2), -0.5 ) \n",
    "    probability = prefactor * math.exp( -math.pow(w-mu, 2) / (2*math.pow(sigma, 2)) )\n",
    "            \n",
    "    return probability"
   ]
  },
  {
   "cell_type": "code",
   "execution_count": null,
   "metadata": {},
   "outputs": [],
   "source": [
    "weights = np.linspace(0,30,100)\n",
    "prob_w = [ PDF_puppy_pop(w) for w in weights ]\n",
    "fix, ax = plt.subplots(figsize=(10,5))\n",
    "\n",
    "ax.plot(weights, prob_w, color='b', lw=3, label= 'null distribution')\n",
    "ax.plot([14, 14], [0, 1], c='k')\n",
    "ax.plot([20, 20], [0, 1], c='purple')\n",
    "\n",
    "ax.text(14.5,0.15,'reference \\n $\\mu$')\n",
    "ax.text(5,0.05,'$H_0$', color='b')\n",
    "ax.text(20.5,0.10, 'observed Serotonin \\npuppy weight\\n $ x$', color='purple')\n",
    "\n",
    "ax.set_ylim([0,0.2])\n",
    "ax.fill_between(np.linspace(0,8,100), np.zeros(100), [ PDF_puppy_pop(w) for w in np.linspace(0,8,100) ] , facecolor='rebeccapurple', alpha=0.3)\n",
    "ax.fill_between(np.linspace(20,30,100), np.zeros(100), [ PDF_puppy_pop(w) for w in np.linspace(20,30,100) ] , facecolor='rebeccapurple', alpha=0.8)\n",
    "ax.text(21,0.02,\"P-value:\\nprobability of \\nobserving a more \\nextreme value\", color='rebeccapurple')\n",
    "plt.legend()\n",
    "plt.show()"
   ]
  },
  {
   "cell_type": "markdown",
   "metadata": {},
   "source": [
    "How **likely** is is it that our puppy's weight **was drawn** from this population distribution? Should our null hypothesis be accepted or rejected? Is our $x$ observation unlikely to have occurred given the null hypothesis distribution i.e. is it **<span style=\"color:blue\">statistically significant</span>** and is our alternative hypothesis correct?\n",
    "\n",
    "* The **<span style=\"color:blue\">p-value</span>** of $x$ is the probability of obtaining a result greater or equal to our observed value\n",
    "* $x$ is considered as **statistically significant** when $$p \\leq \\alpha$$ where $\\alpha$ is the **<span style=\"color:blue\">significance level</span>** chosen for our study\n",
    "* $\\alpha$ is chosen before data collection, and is typically set to a low value e.g. 5% "
   ]
  },
  {
   "cell_type": "markdown",
   "metadata": {},
   "source": [
    "**Note: p-values** on their own **<span style=\"color:firebrick\">do not</span>**\n",
    "* Measure the probability a hypothesis such as the null hypothesis is true\n",
    "* Measure the probability your data were produced by random chance\n",
    "* Tell you anything about effect size\n",
    "* Tell you anything about the importance of a result\n",
    "\n"
   ]
  },
  {
   "cell_type": "markdown",
   "metadata": {},
   "source": [
    "One issue is that to carry out the above test, **we need to know the null hypothesis population distribution**! Otherwise we will not be able to compute the p-value to compare it to a chosen significance level ... \n",
    "\n",
    "Is there a way to avoid this problem? ... we are going to need more puppy weights ..."
   ]
  },
  {
   "cell_type": "markdown",
   "metadata": {},
   "source": [
    "### 1.3 Test statistics - estimating the mean and standard deviation of our unknown distribution\n",
    "\n",
    "### 1.3.1 The Student *t-distribution*"
   ]
  },
  {
   "cell_type": "markdown",
   "metadata": {},
   "source": [
    "\n",
    "Thanks to the Central limit theorem we know that given population samples $X_i$ containing $n$ points, when we take the limit of $n\\rightarrow\\infty$, the distribution of means obtained from the samples follows a Normal distribution.\n",
    "\n",
    "Specifically we know that with growing $n$ the distribution of means will have expressions for the mean and standard deviations defined as following\n",
    "\n",
    "$$\\mu_{\\bar{X}} \\approx \\mu $$\n",
    "\n",
    "$$\\sigma_{\\bar{X}}\\approx \\frac{\\sigma}{\\sqrt{n}}$$\n",
    "\n",
    "So we could think of **comparing the means** - i.e. how different is the mean weight of our puppy sample respect to the mean of the population, assuming that $H_0$ follows a normal distribution?\n",
    "\n",
    "We can introduce a distance of our mean $\\bar{X}$ from the true mean $\\mu$ \n",
    "$$D = \\bar{X}-\\mu$$ \n",
    "and normalize it respect to the standard deviation, appoximated to be $$\\sigma\\approx s$$\n",
    "this quantity is defined as $t$\n",
    "$$t=\\frac{\\bar{X}-\\mu}{\\frac{s}{\\sqrt{n}}}$$\n",
    "\n",
    "where\n",
    "\n",
    "$$ s = \\sqrt{\\frac{\\sum_{i=1}^n\\left (x_i - \\bar{x}\\right)^2}{n-1}} $$\n",
    "\n",
    "\n",
    "The distribution of $t$ values is close to being normal but it is slightly different - this comes from the fact that we are approximating $\\sigma \\approx s$. It becomes normal as $n\\rightarrow\\infty$. It is known as the **[Student t-distribution](https://en.wikipedia.org/wiki/Student%27s_t-distribution)**. \n",
    "\n",
    "A good reference on p-values and Student t-testing can be found here - _Significance, p-values, t-tests. Points of significance.  Nature, 2013._ \n"
   ]
  },
  {
   "cell_type": "markdown",
   "metadata": {},
   "source": [
    "#### Let's plot the t-distribution as a function of $n$"
   ]
  },
  {
   "cell_type": "code",
   "execution_count": null,
   "metadata": {},
   "outputs": [],
   "source": [
    "fig, ax = plt.subplots(figsize=(8,6))\n",
    "\n",
    "df = [ 3, 5, 10]\n",
    "x = np.linspace(-5, 5, 100)\n",
    "\n",
    "viridis = cm.get_cmap(\"Blues_r\", len(df))\n",
    "line_styles = ['-', '-.', '--', '.', 'loosely dashed']\n",
    "c=0\n",
    "for d in df:\n",
    "    ax.plot(x, stats.t.pdf(x, d-1),'-', linestyle=line_styles[c], color=viridis(c-1), lw=2,  label='Student t distrib ; n = '+str(d))\n",
    "    c+=1\n",
    "ax.plot(x, stats.t.pdf(x, 100000),'-', color='k', lw=2,  label='Normal')\n",
    "ax.set_xlim([-4,4])\n",
    "ax.legend(loc=\"upper right\", bbox_to_anchor=(1.7, 1.0))\n",
    "ax.set_xlabel('$t$ value')\n",
    "ax.set_ylabel('Probability distribution')\n",
    "plt.title('$t$ distribution - $H_0$')\n",
    "plt.show()\n"
   ]
  },
  {
   "cell_type": "markdown",
   "metadata": {},
   "source": [
    "Note that the tails of the Student t-distribution are higher than the normal distribution! This comes from the fact that our sample variance is usually smaller than the true variance.\n",
    "\n",
    "<span style=\"color:royalblue\">We can extract p-values by integrating the above Student's t-distribution!!</span>\n",
    "\n",
    "\n",
    "**<span style=\"color:firebrick\">Important:</span>** If your true data follows a different type fo distribution, you will have to use a different test statistic! e.g. the [Binomial test](https://en.wikipedia.org/wiki/Binomial_test)"
   ]
  },
  {
   "cell_type": "markdown",
   "metadata": {},
   "source": [
    "### 1.4 One sample Student t-test algorithm  "
   ]
  },
  {
   "cell_type": "markdown",
   "metadata": {},
   "source": [
    "Ok so now we have the tools to work out our first hypothesis test. The process for any hypothesis test is as following\n",
    "\n",
    "<ol>\n",
    "<li> Define the <b>null</b> and <b>alternative</b> hypothesis </li>\n",
    "<ul>\n",
    "<li><i>Null hypothesis</i>: the average weight of the 4 month old mount rainier puppies is equal to the average puppy population weight - 14lbs</li>\n",
    "<li><i>Alternative hypothesis</i>: The puppies had too many snacks and their average weight is larger than the average puppy population weight - this is an upper-tailed alternative hypothesis </li>\n",
    "</ul>\n",
    "<br>    \n",
    "<div class=\"container\" style=\"height: 150px;\">\n",
    "<img src=https://drive.google.com/uc?export=view&id=1Xe5E9xMhvkF7B73qq7mRBLurprzo54C2 width=\"600\" align=left>\n",
    "</div>\n",
    "<br><br>   \n",
    "    \n",
    "\n",
    "<li>Decide which test is appropriate and define the <b>test statistic</b> </li>\n",
    "<ul>    \n",
    "<li>We believe the puppy population weight null hypothesis distribution is normal, and our alternative hypothesis is that the average sample weight is larger than the population average therefore we will use the <i>Student's upper-tail t-test</i></li>\n",
    "</ul>\n",
    "<br>\n",
    "<li>Obtain the <b>null hypothesis distribution</b> based on the chosen test statistic - that is simply the Student's T distribution for our given number of puppies in the sample</li>\n",
    "    <br>\n",
    "<li>Choose a <b>significance level</b> $\\alpha$ - we will choose $\\alpha$ = 0.05, i.e 5%</li>\n",
    "<br>    \n",
    "<li>Compute the <b>p-value</b></li>\n",
    "<li><b>Compare</b> the p-value to $\\alpha$ and decide whether your alternative hypothesis is valid - this will be true so long as $p<\\alpha$</li>  \n",
    "</ol>"
   ]
  },
  {
   "cell_type": "markdown",
   "metadata": {},
   "source": [
    "### Example - the mount Rainier puppies\n",
    "\n",
    "Let's carry this out for the puppies, we have done everthing up to **step 4** and we need to compute the p-value for an upper tailed test (**step 5**). To compute the p-value we would need to integrate our Student t-distribution between the weight of our puppies and $+\\infty$. This distribution is a bit funky ...\n",
    "\n",
    "$$P_{\\sf{student\\; t-distrib}}(X\\leq x) = \\frac{\\Gamma{\\left(\\frac{\\nu + 1}{2}\\right)}}{\\sqrt{\\nu\\pi}\\,\\Gamma(\\frac{\\nu}{2}}\\left(1+\\frac{x^2}{\\nu}\\right)^{-\\frac{\\nu+1}{2}}$$\n",
    "\n",
    "Phew ... that is a lot of Gamma functions!!! \n",
    "\n",
    "Luckily for us, the values of the integral have been calculated for us in **tables** and we can access them using\n",
    "\n",
    "`scipy.stats.ttest_1samp(a, popmean, alternative={‘two-sided’, ‘less’, ‘greater’}, **kwargs)`\n",
    "\n",
    "by default this function takes the sample data, a, in an array format, the population mean, popmean and  returns the t-value and the p-value for a two tailed test. If you have installed the latest version of `scipy` 1.6.0, you can set they type of test using the `alternative` keyword. Otherwise, you will need to divide the output p-value by 2! Also we will have to consider the sign of the *t* value to decide whether to accept or reject the null hypothesis. \n",
    "\n",
    "* We will reject the null hypothesis for our upper-tailed test when $\\frac{p}{2} < \\alpha$ and $t > 0$ (i.e. our mean is greater than the population mean)\n",
    "\n",
    "* If we were carrying out a lower-tailed test we would reject the null hypothesis if  $\\frac{p}{2} < \\alpha$ and $t < 0$\n",
    "\n",
    "For more info on this function see [here](https://docs.scipy.org/doc/scipy/reference/generated/scipy.stats.ttest_1samp.html)."
   ]
  },
  {
   "cell_type": "markdown",
   "metadata": {},
   "source": [
    "### In class exercise: compute the t-value and p-value for the mount rainier puppies"
   ]
  },
  {
   "cell_type": "code",
   "execution_count": null,
   "metadata": {},
   "outputs": [],
   "source": [
    "# Define the significance level to be 0.05\n",
    "\n",
    "\n",
    "# P-value for the puppies given that we are given the mean of 14 of our population\n",
    "\n"
   ]
  },
  {
   "cell_type": "code",
   "execution_count": null,
   "metadata": {},
   "outputs": [],
   "source": [
    "result = stats.ttest_1samp(df_puppies['weight [lb]'].values, 14, alternative='greater')\n",
    "\n",
    "print(\"t-value\", result.statistic)\n",
    "print(\"p-value\", result.pvalue)\n",
    "print(\"significance level\", alpha)\n",
    "\n",
    "if result.pvalue < alpha :\n",
    "    print(\"\\nHmmm it looks like our puppies had too many snacks! We have to reject the null hypothesis\")\n",
    "else:\n",
    "    print(\"\\nOur puppies are in line with the average\")"
   ]
  },
  {
   "cell_type": "markdown",
   "metadata": {},
   "source": [
    "### 1.5 Confidence intervals\n",
    "\n",
    "Here is a great point in which to get back to the concept of **confidence intervals (CI)**. A confidence interval indicates a range of plausible values for an unknown parameter such as the mean. It can be used as an error bar. A CI has an associated **confidence level** that the true population parameter is in the proposed range. The user chooses the confidence level. \n",
    "\n",
    "Confidence intervals are often defined as $$CI=\\left[ \\,x − c\\cdot \\sigma_X \\,; \\,x + c\\cdot \\sigma_X \n",
    "\\,\\right]$$ \n",
    "\n",
    "* $x$ realization of the dataset / sample\n",
    "* $c$ is a constant\n",
    "* $\\sigma_X$ standard deviation of the dataset\n",
    "\n",
    "We can use the Student t-distribution single sample two-sided t-test to estimate a confidence interval from our sample\n",
    "\n",
    "* evaluate $\\bar{x}$\n",
    "* choose a confidence level $C$ between 0 and 100% usually one defines $C=(1-\\alpha)*100$ \n",
    "* use the one sample Student t-test to compute $t$ for $\\nu=n-1$\n",
    "\n",
    "You are done! Your Student t-test based CI is\n",
    "$$CI=\\left[ \\,\\bar{x} − t\\cdot \\frac{s}{\\sqrt{n}} \\,; \\,\\bar{x} + t\\cdot \\frac{s}{\\sqrt{n}}\\,\\right]$$ \n",
    "\n",
    "We can use the `scipy.stats.t.interval(alpha, df, loc=0, scale=1)` function. **<span style=\"color:crimson\"> Watch out!</span>** - here `alpha` is not the significance level, but it is $C/100$ !\n",
    "\n",
    "[Statistical tests, P values, confidence intervals, and power: a guide to misinterpretations Eur J Epidemiol. 2016; 31: 337–350.](https://link.springer.com/article/10.1007%2Fs10654-016-0149-3)"
   ]
  },
  {
   "cell_type": "code",
   "execution_count": null,
   "metadata": {},
   "outputs": [],
   "source": [
    "confidence_level = 0.80\n",
    "nu = df_puppies['weight [lb]'].values.size - 1\n",
    "\n",
    "sample_mean = np.mean(df_puppies['weight [lb]'].values)\n",
    "\n",
    "sample_SE = np.std(df_puppies['weight [lb]'].values)\n",
    "\n",
    "\n",
    "confidence_interval = scipy.stats.t.interval(confidence_level, nu, sample_mean, sample_SE)\n",
    "\n",
    "print('If 100 intervals were generated from this sample '+ str(confidence_level*100)+'%\\nwould indicate that the mean weight of the puppies is in the following confidence interval:\\n', confidence_interval)"
   ]
  },
  {
   "cell_type": "markdown",
   "metadata": {},
   "source": [
    "A **common misunderstanding** about CIs is that for 95% confidence level interval CI ($N_1 , N_2 $), there is a 95% probability that the true population mean lies between $N_1$ and $N_2$. This is an incorrect interpretation of 95% CI because the true population mean is a fixed unknown value that can be either inside or outside the CI\n"
   ]
  },
  {
   "cell_type": "markdown",
   "metadata": {},
   "source": [
    "## 2. Two sample hypothesis testing"
   ]
  },
  {
   "cell_type": "markdown",
   "metadata": {},
   "source": [
    "### 2.1 Unpaired two sample test using the t-distribution "
   ]
  },
  {
   "cell_type": "markdown",
   "metadata": {},
   "source": [
    "An unpaired two sample test is a test performed on the data of two random samples, each independently obtained from a **different given population**. The purpose of the test is to determine whether the **difference between these two populations is statistically significant**.\n",
    "\n",
    "We can use an unpaired **two sample t-test** when\n",
    "\n",
    "* the two samples are independent\n",
    "* the values of the variables we are comparing are quantitative and in the same units \n",
    "* the two samples follow a normal distribution and have roughly the same variance\n",
    " "
   ]
  },
  {
   "cell_type": "markdown",
   "metadata": {},
   "source": [
    "Let's consider a second dataset of puppy weights. This one was obtained from puppies in various homes in Washington state. Could these puppies have come from Mount Rainier? Is their mean weight significantly different from the first data set?\n",
    "\n",
    "Let's load the data and see"
   ]
  },
  {
   "cell_type": "code",
   "execution_count": null,
   "metadata": {},
   "outputs": [],
   "source": [
    "WA_puppies = pd.read_csv('WA_puppies.csv',index_col=0)\n",
    "WA_puppies.describe()"
   ]
  },
  {
   "cell_type": "markdown",
   "metadata": {},
   "source": [
    "We can use the \n",
    "\n",
    "`scipy.stats.ttest_ind(a, b, axis=0, equal_var=True, nan_policy='propagate', alternative='two-sided')`\n",
    "\n",
    "function which carries out the T-test for the means of two independent samples of scores, as for the one sample test, it returns the t-value and the p-value\n",
    "\n",
    "by setting `equal_var = True` we carry out the test under the ansatz that both populations have the same variance. If you set it to `False` you will carry out the Welch's t-test .. for more info see [here](https://en.wikipedia.org/wiki/Welch%27s_t-test) \n",
    "\n",
    "* **null hypothesis**: both samples have the same population mean $\\mu_1 = \\mu_2$ - all puppies come from Mount Rainier\n",
    "* **alternative hypothesis**: samples have a statistically different population mean $\\mu_1 \\neq \\mu_2$ - they do not all come from Mount Rainier\n",
    "* significance level $\\alpha$ = 0.05"
   ]
  },
  {
   "cell_type": "code",
   "execution_count": null,
   "metadata": {},
   "outputs": [],
   "source": [
    "results = scipy.stats.ttest_ind(df_puppies['weight [lb]'].values, WA_puppies['weight [lb]'].values)"
   ]
  },
  {
   "cell_type": "code",
   "execution_count": null,
   "metadata": {},
   "outputs": [],
   "source": [
    "print(results)\n",
    "\n",
    "if results.pvalue > alpha:\n",
    "    print(\"\\nIt looks like the puppies did not all come from Mount Rainier\")\n",
    "else:\n",
    "    print(\"\\nAll the puppies came from Mount Rainier\")"
   ]
  },
  {
   "cell_type": "markdown",
   "metadata": {},
   "source": [
    "### 2.2 Paired two sample t-test"
   ]
  },
  {
   "cell_type": "markdown",
   "metadata": {},
   "source": [
    "The paired t-test, tests whether the mean values of two **dependent** samples differ significantly from each other. \n",
    "\n",
    "We can use the **paired two sample t-test** when:\n",
    "\n",
    "* we have two dependent samples\n",
    "* we have the same units for the variables of interest (quantitative)\n",
    "* we assume that the difference between the paired values is normally distributed"
   ]
  },
  {
   "cell_type": "markdown",
   "metadata": {},
   "source": [
    "For example we could test whether the weight of the puppies depends on the fact that the data was collected before or after the christmas break - i.e. did they receive so many treats over christmas that their weight increased.\n",
    "\n",
    "\n",
    "* Null hypothesis: The mean value of the two dependent puppy weight samples is equal.\n",
    "* Alternative hypothesis: The mean values of the two dependent puppy weight samples are different.\n",
    "\n"
   ]
  },
  {
   "cell_type": "code",
   "execution_count": null,
   "metadata": {},
   "outputs": [],
   "source": [
    "df_puppies_pre_xmass = pd.read_csv('mount_rainier_puppies_before_xmass.csv',index_col=0)"
   ]
  },
  {
   "cell_type": "markdown",
   "metadata": {},
   "source": [
    "How does it work? We can use a single sample t-test! Indeed, if we define $X_{diff}$ as our random variable - the difference between two values, one from sample 1 and one from sample 2, we know that the population mean of the the null hypothesis is zero!\n",
    "\n",
    "$$t=\\frac{\\bar{X}_{diff}-\\mu}{\\frac{s_{diff}}{\\sqrt{n}}}=\\frac{\\bar{X}_{diff}-0}{\\frac{s_{diff}}{\\sqrt{n}}}$$\n",
    "\n",
    "\n",
    "There is a function in `scipy` which will do this for us\n",
    "\n",
    "`scipy.stats.ttest_rel(a, b, axis=0, nan_policy='propagate', alternative='two-sided')`"
   ]
  },
  {
   "cell_type": "markdown",
   "metadata": {},
   "source": [
    "### In class exercise - let's test this out for the puppies"
   ]
  },
  {
   "cell_type": "code",
   "execution_count": null,
   "metadata": {},
   "outputs": [],
   "source": [
    "# Define the significance level alpha = 0.05\n",
    "\n",
    "\n",
    "# Compute p-value and t-value \n"
   ]
  },
  {
   "cell_type": "code",
   "execution_count": null,
   "metadata": {},
   "outputs": [],
   "source": [
    "print(\"p-value\",results.pvalue,\"t-value\", results.statistic)\n",
    "\n",
    "if results.pvalue < alpha:\n",
    "    print(\"\\nIt looks like the puppies ate too many snacks over xmass!\")\n",
    "else:\n",
    "    print(\"\\nThe puppies' weight does not seem correlated to the xmass break\")"
   ]
  },
  {
   "cell_type": "markdown",
   "metadata": {},
   "source": [
    "### 3. Parametric versus non parametric tests"
   ]
  },
  {
   "cell_type": "markdown",
   "metadata": {},
   "source": [
    "What we saw today are **parametric tests**; they make assumptions about the parameters and form of the population distributions from which our data are being sampled!\n",
    "\n",
    "**Non-parametric tests** are “distribution-free” tests; they make fewer if any assumptions about the nature of the data!\n",
    "\n",
    "Can be useful if:\n",
    "* Your data deviate from canonical distributions, e.g. skew\n",
    "* Your data are better described by the median (recall...)\n",
    "* You have small sample sizes\n",
    "* Your data are ranked or ordinal in nature\n",
    "\n",
    "Examples of parametric and non parametric tests:\n",
    "\n",
    "|Samples| Parametric tests     | Non-parametric tests |\n",
    "|:----------|:----------- | :----------- |\n",
    "|one | 1-sample t-test    | 1-sample Sign, 1-sample Wilcoxon    |\n",
    "|two | Unpaired or Paired t-test   | Mann-Whitney U-test        |"
   ]
  },
  {
   "cell_type": "markdown",
   "metadata": {},
   "source": [
    "### Summary of t-tests\n",
    "\n",
    "<div class=\"container\" style=\"height: 150px;\">\n",
    "<img src=https://datatab.net/assets/tutorial/paired_tTest_en.png width=\"600\" align=left>\n",
    "</div>\n"
   ]
  },
  {
   "cell_type": "code",
   "execution_count": null,
   "metadata": {},
   "outputs": [],
   "source": []
  }
 ],
 "metadata": {
  "kernelspec": {
   "display_name": "Python (tunnel)",
   "language": "python",
   "name": "python3"
  },
  "language_info": {
   "codemirror_mode": {
    "name": "ipython",
    "version": 3
   },
   "file_extension": ".py",
   "mimetype": "text/x-python",
   "name": "python",
   "nbconvert_exporter": "python",
   "pygments_lexer": "ipython3",
   "version": "3.7.7"
  }
 },
 "nbformat": 4,
 "nbformat_minor": 1
}
