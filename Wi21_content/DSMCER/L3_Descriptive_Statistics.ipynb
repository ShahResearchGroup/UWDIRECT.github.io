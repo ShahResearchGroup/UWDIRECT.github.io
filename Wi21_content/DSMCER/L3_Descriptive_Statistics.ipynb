{
 "cells": [
  {
   "cell_type": "markdown",
   "metadata": {},
   "source": [
    "# Data Science Methods for Clean Energy Research \n",
    "## *Descriptive Statistics*\n",
    "\n",
    "## Outline\n",
    "### 1. Computing the mean median and variance of a dataset population\n",
    "### 2. Drawing samples and Distribution of sample mean & variance \n",
    "### 3. Bootstrapping\n"
   ]
  },
  {
   "cell_type": "markdown",
   "metadata": {},
   "source": [
    "---"
   ]
  },
  {
   "cell_type": "markdown",
   "metadata": {},
   "source": [
    "## Import libraries and dataset"
   ]
  },
  {
   "cell_type": "markdown",
   "metadata": {},
   "source": [
    "We import the libraries we will need to use"
   ]
  },
  {
   "cell_type": "code",
   "execution_count": 1,
   "metadata": {},
   "outputs": [],
   "source": [
    "import pandas as pd\n",
    "import numpy as np\n",
    "import matplotlib\n",
    "import matplotlib.pyplot as plt\n",
    "\n",
    "from IPython.display import clear_output, display\n",
    "%matplotlib inline\n",
    "matplotlib.rcParams.update({'font.size': 22})"
   ]
  },
  {
   "cell_type": "markdown",
   "metadata": {},
   "source": [
    "You can find many datasets on kaggle, ranging from search for exoplanets to world happiness!\n",
    "\n",
    "https://www.kaggle.com/unsdsn/world-happiness"
   ]
  },
  {
   "cell_type": "code",
   "execution_count": 2,
   "metadata": {},
   "outputs": [
    {
     "data": {
      "text/html": [
       "<div>\n",
       "<style scoped>\n",
       "    .dataframe tbody tr th:only-of-type {\n",
       "        vertical-align: middle;\n",
       "    }\n",
       "\n",
       "    .dataframe tbody tr th {\n",
       "        vertical-align: top;\n",
       "    }\n",
       "\n",
       "    .dataframe thead th {\n",
       "        text-align: right;\n",
       "    }\n",
       "</style>\n",
       "<table border=\"1\" class=\"dataframe\">\n",
       "  <thead>\n",
       "    <tr style=\"text-align: right;\">\n",
       "      <th></th>\n",
       "      <th>Happiness Rank</th>\n",
       "      <th>Happiness Score</th>\n",
       "      <th>Standard Error</th>\n",
       "      <th>Economy (GDP per Capita)</th>\n",
       "      <th>Family</th>\n",
       "      <th>Health (Life Expectancy)</th>\n",
       "      <th>Freedom</th>\n",
       "      <th>Trust (Government Corruption)</th>\n",
       "      <th>Generosity</th>\n",
       "      <th>Dystopia Residual</th>\n",
       "    </tr>\n",
       "  </thead>\n",
       "  <tbody>\n",
       "    <tr>\n",
       "      <th>count</th>\n",
       "      <td>158.000000</td>\n",
       "      <td>158.000000</td>\n",
       "      <td>158.000000</td>\n",
       "      <td>158.000000</td>\n",
       "      <td>158.000000</td>\n",
       "      <td>158.000000</td>\n",
       "      <td>158.000000</td>\n",
       "      <td>158.000000</td>\n",
       "      <td>158.000000</td>\n",
       "      <td>158.000000</td>\n",
       "    </tr>\n",
       "    <tr>\n",
       "      <th>mean</th>\n",
       "      <td>79.493671</td>\n",
       "      <td>5.375734</td>\n",
       "      <td>0.047885</td>\n",
       "      <td>0.846137</td>\n",
       "      <td>0.991046</td>\n",
       "      <td>0.630259</td>\n",
       "      <td>0.428615</td>\n",
       "      <td>0.143422</td>\n",
       "      <td>0.237296</td>\n",
       "      <td>2.098977</td>\n",
       "    </tr>\n",
       "    <tr>\n",
       "      <th>std</th>\n",
       "      <td>45.754363</td>\n",
       "      <td>1.145010</td>\n",
       "      <td>0.017146</td>\n",
       "      <td>0.403121</td>\n",
       "      <td>0.272369</td>\n",
       "      <td>0.247078</td>\n",
       "      <td>0.150693</td>\n",
       "      <td>0.120034</td>\n",
       "      <td>0.126685</td>\n",
       "      <td>0.553550</td>\n",
       "    </tr>\n",
       "    <tr>\n",
       "      <th>min</th>\n",
       "      <td>1.000000</td>\n",
       "      <td>2.839000</td>\n",
       "      <td>0.018480</td>\n",
       "      <td>0.000000</td>\n",
       "      <td>0.000000</td>\n",
       "      <td>0.000000</td>\n",
       "      <td>0.000000</td>\n",
       "      <td>0.000000</td>\n",
       "      <td>0.000000</td>\n",
       "      <td>0.328580</td>\n",
       "    </tr>\n",
       "    <tr>\n",
       "      <th>25%</th>\n",
       "      <td>40.250000</td>\n",
       "      <td>4.526000</td>\n",
       "      <td>0.037268</td>\n",
       "      <td>0.545808</td>\n",
       "      <td>0.856823</td>\n",
       "      <td>0.439185</td>\n",
       "      <td>0.328330</td>\n",
       "      <td>0.061675</td>\n",
       "      <td>0.150553</td>\n",
       "      <td>1.759410</td>\n",
       "    </tr>\n",
       "    <tr>\n",
       "      <th>50%</th>\n",
       "      <td>79.500000</td>\n",
       "      <td>5.232500</td>\n",
       "      <td>0.043940</td>\n",
       "      <td>0.910245</td>\n",
       "      <td>1.029510</td>\n",
       "      <td>0.696705</td>\n",
       "      <td>0.435515</td>\n",
       "      <td>0.107220</td>\n",
       "      <td>0.216130</td>\n",
       "      <td>2.095415</td>\n",
       "    </tr>\n",
       "    <tr>\n",
       "      <th>75%</th>\n",
       "      <td>118.750000</td>\n",
       "      <td>6.243750</td>\n",
       "      <td>0.052300</td>\n",
       "      <td>1.158448</td>\n",
       "      <td>1.214405</td>\n",
       "      <td>0.811013</td>\n",
       "      <td>0.549092</td>\n",
       "      <td>0.180255</td>\n",
       "      <td>0.309883</td>\n",
       "      <td>2.462415</td>\n",
       "    </tr>\n",
       "    <tr>\n",
       "      <th>max</th>\n",
       "      <td>158.000000</td>\n",
       "      <td>7.587000</td>\n",
       "      <td>0.136930</td>\n",
       "      <td>1.690420</td>\n",
       "      <td>1.402230</td>\n",
       "      <td>1.025250</td>\n",
       "      <td>0.669730</td>\n",
       "      <td>0.551910</td>\n",
       "      <td>0.795880</td>\n",
       "      <td>3.602140</td>\n",
       "    </tr>\n",
       "  </tbody>\n",
       "</table>\n",
       "</div>"
      ],
      "text/plain": [
       "       Happiness Rank  Happiness Score  Standard Error  \\\n",
       "count      158.000000       158.000000      158.000000   \n",
       "mean        79.493671         5.375734        0.047885   \n",
       "std         45.754363         1.145010        0.017146   \n",
       "min          1.000000         2.839000        0.018480   \n",
       "25%         40.250000         4.526000        0.037268   \n",
       "50%         79.500000         5.232500        0.043940   \n",
       "75%        118.750000         6.243750        0.052300   \n",
       "max        158.000000         7.587000        0.136930   \n",
       "\n",
       "       Economy (GDP per Capita)      Family  Health (Life Expectancy)  \\\n",
       "count                158.000000  158.000000                158.000000   \n",
       "mean                   0.846137    0.991046                  0.630259   \n",
       "std                    0.403121    0.272369                  0.247078   \n",
       "min                    0.000000    0.000000                  0.000000   \n",
       "25%                    0.545808    0.856823                  0.439185   \n",
       "50%                    0.910245    1.029510                  0.696705   \n",
       "75%                    1.158448    1.214405                  0.811013   \n",
       "max                    1.690420    1.402230                  1.025250   \n",
       "\n",
       "          Freedom  Trust (Government Corruption)  Generosity  \\\n",
       "count  158.000000                     158.000000  158.000000   \n",
       "mean     0.428615                       0.143422    0.237296   \n",
       "std      0.150693                       0.120034    0.126685   \n",
       "min      0.000000                       0.000000    0.000000   \n",
       "25%      0.328330                       0.061675    0.150553   \n",
       "50%      0.435515                       0.107220    0.216130   \n",
       "75%      0.549092                       0.180255    0.309883   \n",
       "max      0.669730                       0.551910    0.795880   \n",
       "\n",
       "       Dystopia Residual  \n",
       "count         158.000000  \n",
       "mean            2.098977  \n",
       "std             0.553550  \n",
       "min             0.328580  \n",
       "25%             1.759410  \n",
       "50%             2.095415  \n",
       "75%             2.462415  \n",
       "max             3.602140  "
      ]
     },
     "execution_count": 2,
     "metadata": {},
     "output_type": "execute_result"
    }
   ],
   "source": [
    "df = pd.read_csv('datasets/2015.csv')\n",
    "df.describe()"
   ]
  },
  {
   "cell_type": "markdown",
   "metadata": {},
   "source": [
    "We will assume that this dataset is complete and that somehow it is the full **population**. In reality it would still be a sample. Let's look at a histogram of the 'Happiness Score', the histogram is a representation of the **distribution** of the population of Happiness Scores."
   ]
  },
  {
   "cell_type": "code",
   "execution_count": 3,
   "metadata": {},
   "outputs": [
    {
     "data": {
      "image/png": "[encoded data removed]",
      "text/plain": [
       "<Figure size 432x288 with 1 Axes>"
      ]
     },
     "metadata": {
      "needs_background": "light"
     },
     "output_type": "display_data"
    }
   ],
   "source": [
    "df['Happiness Score'].hist(bins=18, color='royalblue', alpha=0.8)\n",
    "plt.xlabel('Happiness Score')\n",
    "plt.ylabel('Distribution of \\n Happiness Score population')\n",
    "plt.show()"
   ]
  },
  {
   "cell_type": "markdown",
   "metadata": {},
   "source": [
    "We can see that the population isn't normally distributed - **does not follow** a perfect Gaussian or Normal distribution:\n",
    "\n",
    "$$p(x) = \\frac{1}{\\sqrt{ 2 \\pi \\sigma^2 }} e^{ - \\frac{ (x - \\mu)^2 } {2 \\sigma^2} }$$"
   ]
  },
  {
   "cell_type": "code",
   "execution_count": 4,
   "metadata": {},
   "outputs": [
    {
     "data": {
      "image/png": "[encoded data removed]",
      "text/plain": [
       "<Figure size 432x288 with 1 Axes>"
      ]
     },
     "metadata": {
      "needs_background": "light"
     },
     "output_type": "display_data"
    }
   ],
   "source": [
    "df['Happiness Score'].hist(bins=18, density=True, color='royalblue',alpha=0.8)\n",
    "plt.xlabel('Happiness Score')\n",
    "plt.ylabel('Probability distribution of \\n Happiness Score population')\n",
    "\n",
    "# Let's see what the best gaussian would look like\n",
    "sigma = 1.145010\n",
    "mu = 5.375734\n",
    "bins = np.linspace(2.839000,7.587000,30)\n",
    "plt.plot(bins, 1/(sigma * np.sqrt(2 * np.pi)) * np.exp( - (bins - mu)**2 / (2 * sigma**2) ),linewidth=4, color='red')\n",
    "plt.show()"
   ]
  },
  {
   "cell_type": "markdown",
   "metadata": {},
   "source": [
    "What if we estimated the probability distribution using a [kernel density estimate](https://en.wikipedia.org/wiki/Kernel_density_estimation)? .. we will see it is not a Gaussian distribution yet again."
   ]
  },
  {
   "cell_type": "code",
   "execution_count": 5,
   "metadata": {},
   "outputs": [
    {
     "data": {
      "text/plain": [
       "Text(0, 0.5, 'Probability distribution of \\n Happiness Score population')"
      ]
     },
     "execution_count": 5,
     "metadata": {},
     "output_type": "execute_result"
    },
    {
     "data": {
      "image/png": "[encoded data removed]",
      "text/plain": [
       "<Figure size 432x288 with 1 Axes>"
      ]
     },
     "metadata": {
      "needs_background": "light"
     },
     "output_type": "display_data"
    }
   ],
   "source": [
    "df['Happiness Score'].plot.kde(linewidth=4,color=\"crimson\")\n",
    "plt.xlabel('Happiness Score')\n",
    "plt.ylabel('Probability distribution of \\n Happiness Score population')"
   ]
  },
  {
   "cell_type": "markdown",
   "metadata": {},
   "source": [
    "## 1) Computing the mean, median, standard deviation and variance\n",
    "\n",
    "Wait how did I get the **mean** and **standard** deviation? Well we assumed we had the entire population so we computed it simply as \n",
    "\n",
    "$${\\mu}=\\frac{\\sum_{i=1}^N X_i}{N}$$ \n",
    "\n",
    "$$\\sigma=\\sqrt{\\sum_{i=1}^N\\frac{(X_i-\\mu)^2}{N}}$$\n"
   ]
  },
  {
   "cell_type": "code",
   "execution_count": 7,
   "metadata": {},
   "outputs": [
    {
     "name": "stdout",
     "output_type": "stream",
     "text": [
      "158\n",
      "5.37573417721519\n",
      "5.3757341772151905\n"
     ]
    }
   ],
   "source": [
    "N = len(df['Happiness Score'].values )\n",
    "print(N)\n",
    "mean = np.sum( df['Happiness Score'].values ) / N \n",
    "print(mean)\n",
    "mean = 0.0\n",
    "for i in range(N):\n",
    "    mean = mean + df['Happiness Score'].values[i]\n",
    "mean = mean /N\n",
    "print(mean)"
   ]
  },
  {
   "cell_type": "code",
   "execution_count": 8,
   "metadata": {},
   "outputs": [
    {
     "data": {
      "text/plain": [
       "count    158.000000\n",
       "mean       5.375734\n",
       "std        1.145010\n",
       "min        2.839000\n",
       "25%        4.526000\n",
       "50%        5.232500\n",
       "75%        6.243750\n",
       "max        7.587000\n",
       "Name: Happiness Score, dtype: float64"
      ]
     },
     "execution_count": 8,
     "metadata": {},
     "output_type": "execute_result"
    }
   ],
   "source": [
    "df['Happiness Score'].describe()"
   ]
  },
  {
   "cell_type": "markdown",
   "metadata": {},
   "source": [
    "### Exercise 1: Compute the standard deviation and variance "
   ]
  },
  {
   "cell_type": "code",
   "execution_count": 10,
   "metadata": {},
   "outputs": [
    {
     "data": {
      "text/plain": [
       "205.83456883544304"
      ]
     },
     "execution_count": 10,
     "metadata": {},
     "output_type": "execute_result"
    }
   ],
   "source": [
    "np.sum( [ (Xi - mean)**2 for Xi in df['Happiness Score'].values ] ) "
   ]
  },
  {
   "cell_type": "code",
   "execution_count": 11,
   "metadata": {},
   "outputs": [],
   "source": [
    "stdev = np.sqrt( np.sum( [ (Xi - mean)**2 for Xi in df['Happiness Score'].values ] ) / N )\n",
    "var = stdev**2"
   ]
  },
  {
   "cell_type": "code",
   "execution_count": 12,
   "metadata": {},
   "outputs": [
    {
     "name": "stdout",
     "output_type": "stream",
     "text": [
      "5.3757341772151905 1.1413809336358134 1.3027504356673612\n"
     ]
    }
   ],
   "source": [
    "print(mean, stdev, var)"
   ]
  },
  {
   "cell_type": "code",
   "execution_count": 14,
   "metadata": {},
   "outputs": [
    {
     "data": {
      "text/plain": [
       "count    158.000000\n",
       "mean       5.375734\n",
       "std        1.145010\n",
       "min        2.839000\n",
       "25%        4.526000\n",
       "50%        5.232500\n",
       "75%        6.243750\n",
       "max        7.587000\n",
       "Name: Happiness Score, dtype: float64"
      ]
     },
     "execution_count": 14,
     "metadata": {},
     "output_type": "execute_result"
    }
   ],
   "source": [
    "df['Happiness Score'].describe()"
   ]
  },
  {
   "cell_type": "markdown",
   "metadata": {},
   "source": [
    "Slightly different standard deviation? Because describe computes std as the corrected sample standard deviation which is unbiased\n",
    "\n",
    "$$\\sigma=\\sqrt{\\sum_{i=1}^{N}\\frac{(X_i-\\mu)^2}{N-1}}$$"
   ]
  },
  {
   "cell_type": "code",
   "execution_count": 15,
   "metadata": {},
   "outputs": [
    {
     "name": "stdout",
     "output_type": "stream",
     "text": [
      "1.1450101349520663\n"
     ]
    }
   ],
   "source": [
    "stdev = np.sqrt(np.sum([(Xi - mean)**2 for Xi in df['Happiness Score'].values])/(N-1))\n",
    "print(stdev)"
   ]
  },
  {
   "cell_type": "markdown",
   "metadata": {},
   "source": [
    "### Exercise 2: Compute the median "
   ]
  },
  {
   "cell_type": "code",
   "execution_count": 16,
   "metadata": {},
   "outputs": [
    {
     "name": "stdout",
     "output_type": "stream",
     "text": [
      "my median 5.2325\n",
      "their median 5.2325\n"
     ]
    }
   ],
   "source": [
    "HS = np.sort(df['Happiness Score'].values)\n",
    "if len(HS) %2 == 0:\n",
    "    median = ( HS[int(len(HS)/2)-1] + HS[int(len(HS)/2)] )/2\n",
    "else:\n",
    "    median = HS[int(len(HS)/2)-1] \n",
    "    \n",
    "print(\"my median\", median)    \n",
    "median = df['Happiness Score'].median()\n",
    "print(\"their median\", median)"
   ]
  },
  {
   "cell_type": "markdown",
   "metadata": {},
   "source": [
    "Where do these values end up on the plot?"
   ]
  },
  {
   "cell_type": "code",
   "execution_count": 17,
   "metadata": {},
   "outputs": [
    {
     "data": {
      "text/plain": [
       "(2.6, 7.6)"
      ]
     },
     "execution_count": 17,
     "metadata": {},
     "output_type": "execute_result"
    },
    {
     "data": {
      "image/png": "[encoded data removed]",
      "text/plain": [
       "<Figure size 432x288 with 1 Axes>"
      ]
     },
     "metadata": {
      "needs_background": "light"
     },
     "output_type": "display_data"
    }
   ],
   "source": [
    "df['Happiness Score'].hist(bins=18,density=True,color='royalblue',alpha=0.8)\n",
    "df['Happiness Score'].plot.kde(linewidth=4,color=\"crimson\")\n",
    "plt.plot(median*np.ones(10),np.linspace(0,0.5,10),lw=3,color='black',label='median')\n",
    "plt.plot(mean*np.ones(10),np.linspace(0,0.5,10),lw=3,color='limegreen',label='mean')\n",
    "plt.xlabel('Happiness Score')\n",
    "plt.ylabel('Probability distribution of \\n Happiness Score population')\n",
    "plt.legend(bbox_to_anchor=(1.05, 1), loc='upper left', fontsize='small')\n",
    "plt.xlim([2.6,7.6])"
   ]
  },
  {
   "cell_type": "markdown",
   "metadata": {},
   "source": [
    "## 2) Sampling from a population, sample distributions & the central limit theorem"
   ]
  },
  {
   "cell_type": "markdown",
   "metadata": {},
   "source": [
    "Let's go back to our Clean Energy Project database and load the data. Note: make sure you have the correct path to that file."
   ]
  },
  {
   "cell_type": "code",
   "execution_count": 18,
   "metadata": {},
   "outputs": [],
   "source": [
    "data = pd.read_csv('datasets/HCEPDB_moldata.csv')"
   ]
  },
  {
   "cell_type": "code",
   "execution_count": 19,
   "metadata": {},
   "outputs": [
    {
     "data": {
      "text/html": [
       "<div>\n",
       "<style scoped>\n",
       "    .dataframe tbody tr th:only-of-type {\n",
       "        vertical-align: middle;\n",
       "    }\n",
       "\n",
       "    .dataframe tbody tr th {\n",
       "        vertical-align: top;\n",
       "    }\n",
       "\n",
       "    .dataframe thead th {\n",
       "        text-align: right;\n",
       "    }\n",
       "</style>\n",
       "<table border=\"1\" class=\"dataframe\">\n",
       "  <thead>\n",
       "    <tr style=\"text-align: right;\">\n",
       "      <th></th>\n",
       "      <th>id</th>\n",
       "      <th>mass</th>\n",
       "      <th>pce</th>\n",
       "      <th>voc</th>\n",
       "      <th>jsc</th>\n",
       "      <th>e_homo_alpha</th>\n",
       "      <th>e_gap_alpha</th>\n",
       "      <th>e_lumo_alpha</th>\n",
       "    </tr>\n",
       "  </thead>\n",
       "  <tbody>\n",
       "    <tr>\n",
       "      <th>count</th>\n",
       "      <td>2.322849e+06</td>\n",
       "      <td>2.322849e+06</td>\n",
       "      <td>2.322849e+06</td>\n",
       "      <td>2.322849e+06</td>\n",
       "      <td>2.322849e+06</td>\n",
       "      <td>2.322849e+06</td>\n",
       "      <td>2.322849e+06</td>\n",
       "      <td>2.322849e+06</td>\n",
       "    </tr>\n",
       "    <tr>\n",
       "      <th>mean</th>\n",
       "      <td>1.328794e+06</td>\n",
       "      <td>4.155640e+02</td>\n",
       "      <td>3.924612e+00</td>\n",
       "      <td>5.520989e-01</td>\n",
       "      <td>1.204695e+02</td>\n",
       "      <td>-5.173904e+00</td>\n",
       "      <td>1.881213e+00</td>\n",
       "      <td>-3.292690e+00</td>\n",
       "    </tr>\n",
       "    <tr>\n",
       "      <th>std</th>\n",
       "      <td>8.569731e+05</td>\n",
       "      <td>5.985317e+01</td>\n",
       "      <td>2.507639e+00</td>\n",
       "      <td>3.037830e-01</td>\n",
       "      <td>6.676970e+01</td>\n",
       "      <td>3.028554e-01</td>\n",
       "      <td>4.002805e-01</td>\n",
       "      <td>3.902608e-01</td>\n",
       "    </tr>\n",
       "    <tr>\n",
       "      <th>min</th>\n",
       "      <td>1.000000e+00</td>\n",
       "      <td>1.682378e+02</td>\n",
       "      <td>0.000000e+00</td>\n",
       "      <td>0.000000e+00</td>\n",
       "      <td>0.000000e+00</td>\n",
       "      <td>-7.512315e+00</td>\n",
       "      <td>-2.939619e-03</td>\n",
       "      <td>-6.086537e+00</td>\n",
       "    </tr>\n",
       "    <tr>\n",
       "      <th>25%</th>\n",
       "      <td>6.121220e+05</td>\n",
       "      <td>3.784536e+02</td>\n",
       "      <td>2.058252e+00</td>\n",
       "      <td>3.428861e-01</td>\n",
       "      <td>6.967192e+01</td>\n",
       "      <td>-5.367790e+00</td>\n",
       "      <td>1.588780e+00</td>\n",
       "      <td>-3.587081e+00</td>\n",
       "    </tr>\n",
       "    <tr>\n",
       "      <th>50%</th>\n",
       "      <td>1.224067e+06</td>\n",
       "      <td>4.155597e+02</td>\n",
       "      <td>3.419332e+00</td>\n",
       "      <td>5.405897e-01</td>\n",
       "      <td>1.119042e+02</td>\n",
       "      <td>-5.158766e+00</td>\n",
       "      <td>1.866297e+00</td>\n",
       "      <td>-3.280963e+00</td>\n",
       "    </tr>\n",
       "    <tr>\n",
       "      <th>75%</th>\n",
       "      <td>1.977982e+06</td>\n",
       "      <td>4.566924e+02</td>\n",
       "      <td>5.607110e+00</td>\n",
       "      <td>7.499653e-01</td>\n",
       "      <td>1.627444e+02</td>\n",
       "      <td>-4.966306e+00</td>\n",
       "      <td>2.161109e+00</td>\n",
       "      <td>-3.006803e+00</td>\n",
       "    </tr>\n",
       "    <tr>\n",
       "      <th>max</th>\n",
       "      <td>3.102853e+06</td>\n",
       "      <td>6.863590e+02</td>\n",
       "      <td>1.113013e+01</td>\n",
       "      <td>2.178957e+00</td>\n",
       "      <td>3.970383e+02</td>\n",
       "      <td>-3.632374e+00</td>\n",
       "      <td>3.803964e+00</td>\n",
       "      <td>-1.148421e+00</td>\n",
       "    </tr>\n",
       "  </tbody>\n",
       "</table>\n",
       "</div>"
      ],
      "text/plain": [
       "                 id          mass           pce           voc           jsc  \\\n",
       "count  2.322849e+06  2.322849e+06  2.322849e+06  2.322849e+06  2.322849e+06   \n",
       "mean   1.328794e+06  4.155640e+02  3.924612e+00  5.520989e-01  1.204695e+02   \n",
       "std    8.569731e+05  5.985317e+01  2.507639e+00  3.037830e-01  6.676970e+01   \n",
       "min    1.000000e+00  1.682378e+02  0.000000e+00  0.000000e+00  0.000000e+00   \n",
       "25%    6.121220e+05  3.784536e+02  2.058252e+00  3.428861e-01  6.967192e+01   \n",
       "50%    1.224067e+06  4.155597e+02  3.419332e+00  5.405897e-01  1.119042e+02   \n",
       "75%    1.977982e+06  4.566924e+02  5.607110e+00  7.499653e-01  1.627444e+02   \n",
       "max    3.102853e+06  6.863590e+02  1.113013e+01  2.178957e+00  3.970383e+02   \n",
       "\n",
       "       e_homo_alpha   e_gap_alpha  e_lumo_alpha  \n",
       "count  2.322849e+06  2.322849e+06  2.322849e+06  \n",
       "mean  -5.173904e+00  1.881213e+00 -3.292690e+00  \n",
       "std    3.028554e-01  4.002805e-01  3.902608e-01  \n",
       "min   -7.512315e+00 -2.939619e-03 -6.086537e+00  \n",
       "25%   -5.367790e+00  1.588780e+00 -3.587081e+00  \n",
       "50%   -5.158766e+00  1.866297e+00 -3.280963e+00  \n",
       "75%   -4.966306e+00  2.161109e+00 -3.006803e+00  \n",
       "max   -3.632374e+00  3.803964e+00 -1.148421e+00  "
      ]
     },
     "execution_count": 19,
     "metadata": {},
     "output_type": "execute_result"
    }
   ],
   "source": [
    "data.describe()"
   ]
  },
  {
   "cell_type": "markdown",
   "metadata": {},
   "source": [
    "This dataset is huge! We will take a random slice and assume that our slice represents a full population (again this is actually a large sample) and look at the mass values. We are making this approximation to accelerate the calculations in the notebook."
   ]
  },
  {
   "cell_type": "code",
   "execution_count": 20,
   "metadata": {},
   "outputs": [
    {
     "data": {
      "text/html": [
       "<div>\n",
       "<style scoped>\n",
       "    .dataframe tbody tr th:only-of-type {\n",
       "        vertical-align: middle;\n",
       "    }\n",
       "\n",
       "    .dataframe tbody tr th {\n",
       "        vertical-align: top;\n",
       "    }\n",
       "\n",
       "    .dataframe thead th {\n",
       "        text-align: right;\n",
       "    }\n",
       "</style>\n",
       "<table border=\"1\" class=\"dataframe\">\n",
       "  <thead>\n",
       "    <tr style=\"text-align: right;\">\n",
       "      <th></th>\n",
       "      <th>id</th>\n",
       "      <th>mass</th>\n",
       "      <th>pce</th>\n",
       "      <th>voc</th>\n",
       "      <th>jsc</th>\n",
       "      <th>e_homo_alpha</th>\n",
       "      <th>e_gap_alpha</th>\n",
       "      <th>e_lumo_alpha</th>\n",
       "    </tr>\n",
       "  </thead>\n",
       "  <tbody>\n",
       "    <tr>\n",
       "      <th>count</th>\n",
       "      <td>1.161420e+05</td>\n",
       "      <td>116142.000000</td>\n",
       "      <td>116142.000000</td>\n",
       "      <td>116142.000000</td>\n",
       "      <td>116142.000000</td>\n",
       "      <td>116142.000000</td>\n",
       "      <td>116142.000000</td>\n",
       "      <td>116142.000000</td>\n",
       "    </tr>\n",
       "    <tr>\n",
       "      <th>mean</th>\n",
       "      <td>1.325880e+06</td>\n",
       "      <td>415.472423</td>\n",
       "      <td>3.930950</td>\n",
       "      <td>0.552928</td>\n",
       "      <td>120.642947</td>\n",
       "      <td>-5.174728</td>\n",
       "      <td>1.880648</td>\n",
       "      <td>-3.294080</td>\n",
       "    </tr>\n",
       "    <tr>\n",
       "      <th>std</th>\n",
       "      <td>8.570744e+05</td>\n",
       "      <td>59.680178</td>\n",
       "      <td>2.503126</td>\n",
       "      <td>0.303720</td>\n",
       "      <td>66.840624</td>\n",
       "      <td>0.302892</td>\n",
       "      <td>0.400233</td>\n",
       "      <td>0.388830</td>\n",
       "    </tr>\n",
       "    <tr>\n",
       "      <th>min</th>\n",
       "      <td>2.400000e+01</td>\n",
       "      <td>171.198100</td>\n",
       "      <td>0.000000</td>\n",
       "      <td>0.000000</td>\n",
       "      <td>0.000000</td>\n",
       "      <td>-6.577861</td>\n",
       "      <td>0.699908</td>\n",
       "      <td>-4.434504</td>\n",
       "    </tr>\n",
       "    <tr>\n",
       "      <th>25%</th>\n",
       "      <td>6.091268e+05</td>\n",
       "      <td>378.453600</td>\n",
       "      <td>2.068900</td>\n",
       "      <td>0.343825</td>\n",
       "      <td>69.671923</td>\n",
       "      <td>-5.369008</td>\n",
       "      <td>1.588149</td>\n",
       "      <td>-3.587581</td>\n",
       "    </tr>\n",
       "    <tr>\n",
       "      <th>50%</th>\n",
       "      <td>1.219154e+06</td>\n",
       "      <td>415.520100</td>\n",
       "      <td>3.431066</td>\n",
       "      <td>0.542137</td>\n",
       "      <td>111.904241</td>\n",
       "      <td>-5.160336</td>\n",
       "      <td>1.865638</td>\n",
       "      <td>-3.283589</td>\n",
       "    </tr>\n",
       "    <tr>\n",
       "      <th>75%</th>\n",
       "      <td>1.975185e+06</td>\n",
       "      <td>456.640800</td>\n",
       "      <td>5.609493</td>\n",
       "      <td>0.751457</td>\n",
       "      <td>163.205996</td>\n",
       "      <td>-4.967020</td>\n",
       "      <td>2.159822</td>\n",
       "      <td>-3.008878</td>\n",
       "    </tr>\n",
       "    <tr>\n",
       "      <th>max</th>\n",
       "      <td>3.102846e+06</td>\n",
       "      <td>686.359000</td>\n",
       "      <td>11.111687</td>\n",
       "      <td>1.977861</td>\n",
       "      <td>395.010898</td>\n",
       "      <td>-3.985371</td>\n",
       "      <td>3.501607</td>\n",
       "      <td>-1.573264</td>\n",
       "    </tr>\n",
       "  </tbody>\n",
       "</table>\n",
       "</div>"
      ],
      "text/plain": [
       "                 id           mass            pce            voc  \\\n",
       "count  1.161420e+05  116142.000000  116142.000000  116142.000000   \n",
       "mean   1.325880e+06     415.472423       3.930950       0.552928   \n",
       "std    8.570744e+05      59.680178       2.503126       0.303720   \n",
       "min    2.400000e+01     171.198100       0.000000       0.000000   \n",
       "25%    6.091268e+05     378.453600       2.068900       0.343825   \n",
       "50%    1.219154e+06     415.520100       3.431066       0.542137   \n",
       "75%    1.975185e+06     456.640800       5.609493       0.751457   \n",
       "max    3.102846e+06     686.359000      11.111687       1.977861   \n",
       "\n",
       "                 jsc   e_homo_alpha    e_gap_alpha   e_lumo_alpha  \n",
       "count  116142.000000  116142.000000  116142.000000  116142.000000  \n",
       "mean      120.642947      -5.174728       1.880648      -3.294080  \n",
       "std        66.840624       0.302892       0.400233       0.388830  \n",
       "min         0.000000      -6.577861       0.699908      -4.434504  \n",
       "25%        69.671923      -5.369008       1.588149      -3.587581  \n",
       "50%       111.904241      -5.160336       1.865638      -3.283589  \n",
       "75%       163.205996      -4.967020       2.159822      -3.008878  \n",
       "max       395.010898      -3.985371       3.501607      -1.573264  "
      ]
     },
     "execution_count": 20,
     "metadata": {},
     "output_type": "execute_result"
    }
   ],
   "source": [
    "population = data.sample(frac = 0.05) \n",
    "population.describe()"
   ]
  },
  {
   "cell_type": "code",
   "execution_count": 21,
   "metadata": {},
   "outputs": [
    {
     "name": "stdout",
     "output_type": "stream",
     "text": [
      "pop mean 415.47242266449683 pop stdev 59.68017770206631\n"
     ]
    }
   ],
   "source": [
    "true_mean = population['mass'].mean()\n",
    "true_stdev = population['mass'].std()\n",
    "print(\"pop mean\", true_mean, \"pop stdev\", true_stdev)"
   ]
  },
  {
   "cell_type": "code",
   "execution_count": 22,
   "metadata": {},
   "outputs": [
    {
     "data": {
      "text/plain": [
       "<AxesSubplot:ylabel='Frequency'>"
      ]
     },
     "execution_count": 22,
     "metadata": {},
     "output_type": "execute_result"
    },
    {
     "data": {
      "image/png": "[encoded data removed]",
      "text/plain": [
       "<Figure size 432x288 with 1 Axes>"
      ]
     },
     "metadata": {
      "needs_background": "light"
     },
     "output_type": "display_data"
    }
   ],
   "source": [
    "population['mass'].plot.hist(bins=50, color='violet')"
   ]
  },
  {
   "cell_type": "code",
   "execution_count": 23,
   "metadata": {},
   "outputs": [
    {
     "data": {
      "text/plain": [
       "<AxesSubplot:ylabel='Density'>"
      ]
     },
     "execution_count": 23,
     "metadata": {},
     "output_type": "execute_result"
    },
    {
     "data": {
      "image/png": "[encoded data removed]",
      "text/plain": [
       "<Figure size 432x288 with 1 Axes>"
      ]
     },
     "metadata": {
      "needs_background": "light"
     },
     "output_type": "display_data"
    }
   ],
   "source": [
    "population['mass'].plot.kde(color='purple',lw=4)"
   ]
  },
  {
   "cell_type": "markdown",
   "metadata": {},
   "source": [
    "Our goal is to **sample** from the mass values to attempt to compute the true population mean and standard deviation. Let's write a function that samples the  dataframe with an argument *n* that is the number of samples to take. We want to sample without replacement."
   ]
  },
  {
   "cell_type": "code",
   "execution_count": 3,
   "metadata": {},
   "outputs": [],
   "source": [
    "def draw_sample(df, column, n):\n",
    "    subset_indices = np.random.choice(np.array(list(df[column].index)), size=n, replace=True)\n",
    "    sample = pd.DataFrame(data=df[column][subset_indices].values, columns=['sample'])\n",
    "    return sample"
   ]
  },
  {
   "cell_type": "code",
   "execution_count": 25,
   "metadata": {},
   "outputs": [],
   "source": [
    "sample = draw_sample(population,'mass', 20)"
   ]
  },
  {
   "cell_type": "code",
   "execution_count": 26,
   "metadata": {},
   "outputs": [
    {
     "data": {
      "text/html": [
       "<div>\n",
       "<style scoped>\n",
       "    .dataframe tbody tr th:only-of-type {\n",
       "        vertical-align: middle;\n",
       "    }\n",
       "\n",
       "    .dataframe tbody tr th {\n",
       "        vertical-align: top;\n",
       "    }\n",
       "\n",
       "    .dataframe thead th {\n",
       "        text-align: right;\n",
       "    }\n",
       "</style>\n",
       "<table border=\"1\" class=\"dataframe\">\n",
       "  <thead>\n",
       "    <tr style=\"text-align: right;\">\n",
       "      <th></th>\n",
       "      <th>sample</th>\n",
       "    </tr>\n",
       "  </thead>\n",
       "  <tbody>\n",
       "    <tr>\n",
       "      <th>0</th>\n",
       "      <td>403.6367</td>\n",
       "    </tr>\n",
       "    <tr>\n",
       "      <th>1</th>\n",
       "      <td>386.4126</td>\n",
       "    </tr>\n",
       "    <tr>\n",
       "      <th>2</th>\n",
       "      <td>468.5838</td>\n",
       "    </tr>\n",
       "    <tr>\n",
       "      <th>3</th>\n",
       "      <td>325.5629</td>\n",
       "    </tr>\n",
       "    <tr>\n",
       "      <th>4</th>\n",
       "      <td>400.4452</td>\n",
       "    </tr>\n",
       "    <tr>\n",
       "      <th>5</th>\n",
       "      <td>417.3926</td>\n",
       "    </tr>\n",
       "    <tr>\n",
       "      <th>6</th>\n",
       "      <td>352.4198</td>\n",
       "    </tr>\n",
       "    <tr>\n",
       "      <th>7</th>\n",
       "      <td>475.5507</td>\n",
       "    </tr>\n",
       "    <tr>\n",
       "      <th>8</th>\n",
       "      <td>381.5295</td>\n",
       "    </tr>\n",
       "    <tr>\n",
       "      <th>9</th>\n",
       "      <td>416.5518</td>\n",
       "    </tr>\n",
       "    <tr>\n",
       "      <th>10</th>\n",
       "      <td>458.4657</td>\n",
       "    </tr>\n",
       "    <tr>\n",
       "      <th>11</th>\n",
       "      <td>255.3187</td>\n",
       "    </tr>\n",
       "    <tr>\n",
       "      <th>12</th>\n",
       "      <td>310.3604</td>\n",
       "    </tr>\n",
       "    <tr>\n",
       "      <th>13</th>\n",
       "      <td>392.4408</td>\n",
       "    </tr>\n",
       "    <tr>\n",
       "      <th>14</th>\n",
       "      <td>429.5015</td>\n",
       "    </tr>\n",
       "    <tr>\n",
       "      <th>15</th>\n",
       "      <td>512.4779</td>\n",
       "    </tr>\n",
       "    <tr>\n",
       "      <th>16</th>\n",
       "      <td>413.4305</td>\n",
       "    </tr>\n",
       "    <tr>\n",
       "      <th>17</th>\n",
       "      <td>444.5764</td>\n",
       "    </tr>\n",
       "    <tr>\n",
       "      <th>18</th>\n",
       "      <td>479.6707</td>\n",
       "    </tr>\n",
       "    <tr>\n",
       "      <th>19</th>\n",
       "      <td>341.3929</td>\n",
       "    </tr>\n",
       "  </tbody>\n",
       "</table>\n",
       "</div>"
      ],
      "text/plain": [
       "      sample\n",
       "0   403.6367\n",
       "1   386.4126\n",
       "2   468.5838\n",
       "3   325.5629\n",
       "4   400.4452\n",
       "5   417.3926\n",
       "6   352.4198\n",
       "7   475.5507\n",
       "8   381.5295\n",
       "9   416.5518\n",
       "10  458.4657\n",
       "11  255.3187\n",
       "12  310.3604\n",
       "13  392.4408\n",
       "14  429.5015\n",
       "15  512.4779\n",
       "16  413.4305\n",
       "17  444.5764\n",
       "18  479.6707\n",
       "19  341.3929"
      ]
     },
     "execution_count": 26,
     "metadata": {},
     "output_type": "execute_result"
    }
   ],
   "source": [
    "sample"
   ]
  },
  {
   "cell_type": "markdown",
   "metadata": {},
   "source": [
    "Now we want to draw *M* samples of size *n* from the population and see what the mean and standard deviation are for these samples."
   ]
  },
  {
   "cell_type": "markdown",
   "metadata": {},
   "source": [
    "### Exercise 3: Breakout room"
   ]
  },
  {
   "cell_type": "markdown",
   "metadata": {},
   "source": [
    "Create a function which calls <code>draw_sample</code> *M* times and returns the mean and standard deviation of each sample. \n",
    "\n",
    "Input arguments should include\n",
    "\n",
    "* a variable called .. let's say <code>sample_funct</code> this variable will be used to refer to the <code>draw_sample</code> function\n",
    "* a variable for the dataframe\n",
    "* a variable for the column of interest\n",
    "* a variable for the number of calls *M*\n",
    "* a variable for the number of data points per samples *n*\n",
    "\n",
    "The output should include\n",
    "\n",
    "* a list which contains the means\n",
    "* a list which contains the standard deviations"
   ]
  },
  {
   "cell_type": "markdown",
   "metadata": {},
   "source": [
    "Hint: your function might look like:\n",
    "\n",
    "<code>def repeat_samples_stats(sample_funct, df, column, M, n):  \n",
    "   means = []  \n",
    "   stdevs = []  \n",
    "   ...  \n",
    "   return (means, stdevs)\n",
    "</code>\n",
    "\n",
    "then use the append method to append each mean and sd value to the end of each respective list."
   ]
  },
  {
   "cell_type": "code",
   "execution_count": 1,
   "metadata": {},
   "outputs": [],
   "source": [
    "def repeat_samples_stats(sample_funct, df, column, M, n):\n",
    "    \n",
    "    means = []\n",
    "    stdevs = []\n",
    "    \n",
    "    for i in range(M):\n",
    "        if i%10 ==0:\n",
    "            clear_output(wait=True)\n",
    "            print(\"Iteration \", i, \"of \", M)\n",
    "        sample = sample_funct(df, column, n)\n",
    "        means.append(sample['sample'].mean())\n",
    "        stdevs.append(sample['sample'].std())\n",
    "    \n",
    "    return (means, stdevs)"
   ]
  },
  {
   "cell_type": "markdown",
   "metadata": {},
   "source": [
    "Let's use our function to make 20 samples and compute 20 means and 20 standard deviations. We will extract 50 points per sample."
   ]
  },
  {
   "cell_type": "code",
   "execution_count": 4,
   "metadata": {},
   "outputs": [
    {
     "ename": "NameError",
     "evalue": "name 'population' is not defined",
     "output_type": "error",
     "traceback": [
      "\u001b[0;31m---------------------------------------------------------------------------\u001b[0m",
      "\u001b[0;31mNameError\u001b[0m                                 Traceback (most recent call last)",
      "\u001b[0;32m<ipython-input-4-2c36f35a87e1>\u001b[0m in \u001b[0;36m<module>\u001b[0;34m\u001b[0m\n\u001b[0;32m----> 1\u001b[0;31m \u001b[0mmeans_1\u001b[0m\u001b[0;34m,\u001b[0m \u001b[0mstdevs_1\u001b[0m \u001b[0;34m=\u001b[0m \u001b[0mrepeat_samples_stats\u001b[0m\u001b[0;34m(\u001b[0m\u001b[0mdraw_sample\u001b[0m\u001b[0;34m,\u001b[0m \u001b[0mpopulation\u001b[0m\u001b[0;34m,\u001b[0m \u001b[0;34m'mass'\u001b[0m\u001b[0;34m,\u001b[0m \u001b[0;36m500\u001b[0m\u001b[0;34m,\u001b[0m \u001b[0;36m50\u001b[0m\u001b[0;34m)\u001b[0m\u001b[0;34m\u001b[0m\u001b[0;34m\u001b[0m\u001b[0m\n\u001b[0m",
      "\u001b[0;31mNameError\u001b[0m: name 'population' is not defined"
     ]
    }
   ],
   "source": [
    "means_1, stdevs_1 = repeat_samples_stats(draw_sample, population, 'mass', 500, 50)"
   ]
  },
  {
   "cell_type": "code",
   "execution_count": 30,
   "metadata": {},
   "outputs": [
    {
     "data": {
      "text/plain": [
       "[421.92705000000007,\n",
       " 420.03432999999995,\n",
       " 394.525026,\n",
       " 419.36172600000003,\n",
       " 410.7027099999999,\n",
       " 397.58663600000006,\n",
       " 411.530834,\n",
       " 411.9823099999999,\n",
       " 419.6309800000001,\n",
       " 396.96857000000006,\n",
       " 413.90731,\n",
       " 422.64751,\n",
       " 423.602396,\n",
       " 415.72183600000005,\n",
       " 426.7961640000001,\n",
       " 422.505552,\n",
       " 397.147002,\n",
       " 402.05158599999993,\n",
       " 415.4085979999999,\n",
       " 422.96065600000003,\n",
       " 410.38790199999994,\n",
       " 401.717686,\n",
       " 403.288652,\n",
       " 416.56599,\n",
       " 410.09145600000005,\n",
       " 413.41098000000005,\n",
       " 424.50803599999995,\n",
       " 424.92899400000005,\n",
       " 420.5086439999999,\n",
       " 413.21335,\n",
       " 404.6634,\n",
       " 407.48403399999995,\n",
       " 417.60447400000004,\n",
       " 401.35731200000004,\n",
       " 410.8715959999999,\n",
       " 415.1160780000001,\n",
       " 406.04154800000003,\n",
       " 415.073224,\n",
       " 416.92652000000004,\n",
       " 416.191924,\n",
       " 408.312296,\n",
       " 425.38734600000004,\n",
       " 418.194324,\n",
       " 423.4015119999999,\n",
       " 428.716184,\n",
       " 404.76988,\n",
       " 411.8390980000001,\n",
       " 411.213704,\n",
       " 418.268496,\n",
       " 417.696532,\n",
       " 424.60581600000006,\n",
       " 431.81207800000004,\n",
       " 413.26489399999997,\n",
       " 410.86456,\n",
       " 401.343554,\n",
       " 418.382384,\n",
       " 438.176142,\n",
       " 404.08740199999994,\n",
       " 406.93353200000007,\n",
       " 410.49758799999995,\n",
       " 391.318972,\n",
       " 411.00640400000003,\n",
       " 406.709728,\n",
       " 419.5051000000001,\n",
       " 408.14080400000006,\n",
       " 408.49425199999996,\n",
       " 416.93679599999996,\n",
       " 406.43600599999996,\n",
       " 414.011972,\n",
       " 436.451256,\n",
       " 409.88266,\n",
       " 435.33027800000013,\n",
       " 425.461196,\n",
       " 406.013362,\n",
       " 420.00414200000006,\n",
       " 415.826176,\n",
       " 420.7371,\n",
       " 419.0713339999999,\n",
       " 416.352308,\n",
       " 420.020136,\n",
       " 411.6505640000001,\n",
       " 427.47733199999993,\n",
       " 409.67497199999997,\n",
       " 427.36376999999993,\n",
       " 409.66698199999996,\n",
       " 406.44930800000003,\n",
       " 425.05093800000003,\n",
       " 422.080136,\n",
       " 426.76107399999995,\n",
       " 420.593092,\n",
       " 413.891306,\n",
       " 433.5713800000001,\n",
       " 403.115088,\n",
       " 412.98457800000006,\n",
       " 422.009516,\n",
       " 426.80460999999997,\n",
       " 406.55482800000004,\n",
       " 401.70163199999996,\n",
       " 419.506648,\n",
       " 418.38958399999996,\n",
       " 408.13545999999997,\n",
       " 407.003664,\n",
       " 425.19271999999995,\n",
       " 423.138528,\n",
       " 426.47692399999994,\n",
       " 412.14714200000003,\n",
       " 415.1403159999999,\n",
       " 415.321268,\n",
       " 413.519544,\n",
       " 401.3101899999999,\n",
       " 403.84994600000005,\n",
       " 412.931714,\n",
       " 419.00530599999996,\n",
       " 404.03245799999996,\n",
       " 415.2332099999999,\n",
       " 412.17224000000004,\n",
       " 420.34680199999997,\n",
       " 418.17604999999986,\n",
       " 421.90293600000007,\n",
       " 413.30334200000004,\n",
       " 415.2982839999999,\n",
       " 408.12080000000003,\n",
       " 414.538142,\n",
       " 410.78488400000003,\n",
       " 412.225654,\n",
       " 421.189366,\n",
       " 422.213138,\n",
       " 416.196996,\n",
       " 416.7973160000001,\n",
       " 421.87899600000003,\n",
       " 429.37353200000007,\n",
       " 421.4356440000001,\n",
       " 406.370816,\n",
       " 417.68286800000004,\n",
       " 410.96410799999995,\n",
       " 423.29740000000004,\n",
       " 405.27851200000003,\n",
       " 430.925936,\n",
       " 401.43641400000007,\n",
       " 411.68294399999996,\n",
       " 420.32146199999994,\n",
       " 410.09855799999997,\n",
       " 430.925786,\n",
       " 401.33181600000006,\n",
       " 420.509478,\n",
       " 427.115184,\n",
       " 400.088808,\n",
       " 408.9587,\n",
       " 417.3393919999999,\n",
       " 410.73762800000003,\n",
       " 414.29413200000005,\n",
       " 421.0308820000001,\n",
       " 425.403858,\n",
       " 409.68358199999994,\n",
       " 423.36279199999996,\n",
       " 414.10492400000004,\n",
       " 408.51970000000006,\n",
       " 411.9359199999999,\n",
       " 415.26514,\n",
       " 416.02959200000004,\n",
       " 414.96990399999993,\n",
       " 411.352628,\n",
       " 417.855862,\n",
       " 411.087244,\n",
       " 407.501388,\n",
       " 420.9646719999999,\n",
       " 424.52051,\n",
       " 408.65478800000005,\n",
       " 423.521236,\n",
       " 416.694122,\n",
       " 422.77019000000007,\n",
       " 418.95515199999994,\n",
       " 430.507794,\n",
       " 407.687114,\n",
       " 417.377866,\n",
       " 403.47598,\n",
       " 410.856,\n",
       " 434.34905,\n",
       " 409.365918,\n",
       " 432.281864,\n",
       " 417.60337400000003,\n",
       " 412.10314600000004,\n",
       " 421.24369200000007,\n",
       " 419.481694,\n",
       " 420.2932040000001,\n",
       " 415.008586,\n",
       " 404.81911199999996,\n",
       " 406.34423000000004,\n",
       " 427.641966,\n",
       " 427.883844,\n",
       " 432.428968,\n",
       " 422.83590999999996,\n",
       " 415.38403000000005,\n",
       " 424.94217600000013,\n",
       " 426.630412,\n",
       " 416.081566,\n",
       " 417.299346,\n",
       " 424.089982,\n",
       " 404.24069800000007,\n",
       " 416.75486000000006,\n",
       " 418.12535199999996,\n",
       " 419.21530800000005,\n",
       " 413.111284,\n",
       " 418.950546,\n",
       " 409.36467000000005,\n",
       " 415.75470600000006,\n",
       " 428.31134599999996,\n",
       " 420.8717899999999,\n",
       " 416.50901999999996,\n",
       " 412.95933600000006,\n",
       " 399.55904000000004,\n",
       " 408.78820999999994,\n",
       " 414.58987799999994,\n",
       " 419.073494,\n",
       " 419.42103199999997,\n",
       " 396.03922399999993,\n",
       " 413.10381800000005,\n",
       " 411.703198,\n",
       " 405.130366,\n",
       " 412.36494,\n",
       " 425.17913400000003,\n",
       " 417.5813160000001,\n",
       " 415.366654,\n",
       " 424.0510939999999,\n",
       " 412.51278199999996,\n",
       " 419.40767999999997,\n",
       " 417.16420000000005,\n",
       " 414.28775800000005,\n",
       " 405.543488,\n",
       " 401.67877400000003,\n",
       " 417.89055400000007,\n",
       " 400.9191859999999,\n",
       " 440.127972,\n",
       " 430.25968199999994,\n",
       " 414.51522,\n",
       " 427.74563800000004,\n",
       " 404.86652200000003,\n",
       " 420.30985999999996,\n",
       " 403.4598380000001,\n",
       " 426.34204,\n",
       " 433.11162600000006,\n",
       " 417.802714,\n",
       " 425.585282,\n",
       " 417.587192,\n",
       " 407.3623360000001,\n",
       " 416.29620200000005,\n",
       " 418.069234,\n",
       " 424.042194,\n",
       " 393.15047599999997,\n",
       " 407.3905879999999,\n",
       " 409.1734919999999,\n",
       " 405.01243800000003,\n",
       " 392.419004,\n",
       " 424.0217059999999,\n",
       " 410.9787119999999,\n",
       " 410.8776899999999,\n",
       " 398.23097199999995,\n",
       " 405.4673060000001,\n",
       " 398.77741799999995,\n",
       " 428.036676,\n",
       " 421.6662,\n",
       " 421.9387760000001,\n",
       " 407.894994,\n",
       " 416.0829,\n",
       " 409.33666200000005,\n",
       " 419.92428,\n",
       " 420.154646,\n",
       " 413.24861000000004,\n",
       " 408.26732200000004,\n",
       " 408.75129999999996,\n",
       " 422.492654,\n",
       " 415.460932,\n",
       " 413.59416799999997,\n",
       " 415.64328200000006,\n",
       " 420.3308480000001,\n",
       " 417.954458,\n",
       " 407.29356400000006,\n",
       " 416.405614,\n",
       " 410.48697999999996,\n",
       " 416.54330000000004,\n",
       " 430.60694600000005,\n",
       " 421.245874,\n",
       " 412.63903999999997,\n",
       " 427.23634,\n",
       " 413.561542,\n",
       " 418.9080160000001,\n",
       " 427.64358400000003,\n",
       " 411.77320999999995,\n",
       " 426.219568,\n",
       " 424.130602,\n",
       " 417.277092,\n",
       " 428.18541000000005,\n",
       " 419.81104199999993,\n",
       " 424.851868,\n",
       " 394.2569299999999,\n",
       " 420.007596,\n",
       " 409.493658,\n",
       " 408.87979400000006,\n",
       " 420.80234400000006,\n",
       " 417.13601,\n",
       " 427.41574799999995,\n",
       " 413.571436,\n",
       " 412.48966600000006,\n",
       " 415.8589380000001,\n",
       " 410.932186,\n",
       " 410.94397999999995,\n",
       " 404.352046,\n",
       " 417.68705200000005,\n",
       " 424.57435999999996,\n",
       " 428.42565400000007,\n",
       " 407.89549199999993,\n",
       " 425.9531340000001,\n",
       " 425.14981,\n",
       " 412.716906,\n",
       " 414.12614599999995,\n",
       " 402.87669999999997,\n",
       " 406.5400859999999,\n",
       " 425.740006,\n",
       " 412.34189399999997,\n",
       " 426.0908160000001,\n",
       " 424.43609799999996,\n",
       " 419.2946799999999,\n",
       " 417.753494,\n",
       " 418.71136399999995,\n",
       " 424.470904,\n",
       " 424.65717200000006,\n",
       " 413.127672,\n",
       " 412.563174,\n",
       " 405.7968499999999,\n",
       " 419.209366,\n",
       " 407.54664000000014,\n",
       " 414.34240000000005,\n",
       " 420.479728,\n",
       " 418.978742,\n",
       " 415.629544,\n",
       " 434.56688,\n",
       " 425.597624,\n",
       " 424.32528999999994,\n",
       " 413.20493200000004,\n",
       " 400.978916,\n",
       " 415.79878400000007,\n",
       " 404.83232799999996,\n",
       " 402.2134239999999,\n",
       " 414.75801600000005,\n",
       " 421.87708399999997,\n",
       " 404.79253000000006,\n",
       " 409.06488799999994,\n",
       " 417.05821000000003,\n",
       " 420.158988,\n",
       " 430.5216840000001,\n",
       " 417.07872,\n",
       " 429.398272,\n",
       " 407.43292399999996,\n",
       " 417.79637,\n",
       " 415.270734,\n",
       " 424.47057,\n",
       " 421.65155200000004,\n",
       " 418.77272200000004,\n",
       " 402.459832,\n",
       " 421.260548,\n",
       " 405.8868680000001,\n",
       " 418.14345000000003,\n",
       " 423.80360799999994,\n",
       " 425.550478,\n",
       " 408.665282,\n",
       " 420.797554,\n",
       " 408.938496,\n",
       " 414.89107800000005,\n",
       " 416.592788,\n",
       " 429.0278820000001,\n",
       " 403.992206,\n",
       " 404.667648,\n",
       " 415.73151600000006,\n",
       " 424.00334000000004,\n",
       " 407.72390000000007,\n",
       " 420.727582,\n",
       " 419.66817,\n",
       " 423.6009,\n",
       " 421.145852,\n",
       " 400.86017200000003,\n",
       " 401.315904,\n",
       " 405.477446,\n",
       " 406.55907999999994,\n",
       " 420.12058200000007,\n",
       " 416.180046,\n",
       " 421.24950999999993,\n",
       " 409.38642200000004,\n",
       " 417.3120519999999,\n",
       " 409.337714,\n",
       " 429.95197199999996,\n",
       " 410.78691000000003,\n",
       " 417.84353600000003,\n",
       " 410.118582,\n",
       " 424.45126199999993,\n",
       " 395.79635400000006,\n",
       " 428.79067800000007,\n",
       " 418.1664340000001,\n",
       " 403.87167200000005,\n",
       " 407.03926000000007,\n",
       " 415.162708,\n",
       " 407.535942,\n",
       " 405.922362,\n",
       " 449.836752,\n",
       " 424.68210400000004,\n",
       " 398.0378379999999,\n",
       " 414.07683,\n",
       " 418.83826,\n",
       " 414.86400799999996,\n",
       " 405.1211740000001,\n",
       " 432.01475400000004,\n",
       " 413.00388599999997,\n",
       " 408.828464,\n",
       " 423.09008400000005,\n",
       " 408.54629800000004,\n",
       " 417.59772599999997,\n",
       " 412.65140399999996,\n",
       " 423.61936000000003,\n",
       " 430.110194,\n",
       " 417.63233,\n",
       " 410.3884799999999,\n",
       " 407.688286,\n",
       " 418.94068599999997,\n",
       " 439.752136,\n",
       " 422.76421200000004,\n",
       " 427.87600399999997,\n",
       " 406.255528,\n",
       " 427.200692,\n",
       " 423.14790200000004,\n",
       " 418.56167800000003,\n",
       " 413.64980199999997,\n",
       " 416.120582,\n",
       " 422.012424,\n",
       " 422.821852,\n",
       " 423.69282200000004,\n",
       " 404.20116599999994,\n",
       " 418.726662,\n",
       " 413.63231999999994,\n",
       " 412.361786,\n",
       " 426.69141800000006,\n",
       " 420.9538160000001,\n",
       " 415.720772,\n",
       " 421.907892,\n",
       " 417.715326,\n",
       " 409.71089199999994,\n",
       " 403.103626,\n",
       " 415.5886579999999,\n",
       " 420.478304,\n",
       " 410.620958,\n",
       " 425.69887800000004,\n",
       " 406.1377140000001,\n",
       " 418.500892,\n",
       " 425.941984,\n",
       " 422.50265200000007,\n",
       " 405.18946200000005,\n",
       " 395.33427399999994,\n",
       " 404.38534400000003,\n",
       " 410.834982,\n",
       " 416.70488000000006,\n",
       " 410.21610200000003,\n",
       " 425.91294999999997,\n",
       " 420.584016,\n",
       " 410.37595400000004,\n",
       " 414.866444,\n",
       " 409.77201,\n",
       " 407.2469500000001,\n",
       " 413.096012,\n",
       " 404.427022,\n",
       " 407.992664,\n",
       " 417.560006,\n",
       " 403.67470000000003,\n",
       " 402.876608,\n",
       " 410.77076200000005,\n",
       " 410.28347800000006,\n",
       " 414.02759000000003,\n",
       " 402.51291599999996,\n",
       " 417.55035000000004,\n",
       " 400.56464400000004,\n",
       " 428.255026,\n",
       " 409.0767799999999,\n",
       " 408.072318,\n",
       " 406.42316800000003,\n",
       " 429.2435080000001,\n",
       " 421.65511,\n",
       " 425.70641600000005,\n",
       " 405.114422,\n",
       " 429.44901,\n",
       " 422.18336600000004,\n",
       " 420.00176200000004,\n",
       " 414.93841399999997,\n",
       " 408.939018,\n",
       " 418.96084599999995,\n",
       " 414.333894,\n",
       " 424.504284,\n",
       " 411.57561200000004,\n",
       " 418.55247199999997,\n",
       " 415.323208,\n",
       " 424.63387599999993,\n",
       " 412.93527199999994,\n",
       " 433.36519799999996,\n",
       " 434.387088]"
      ]
     },
     "execution_count": 30,
     "metadata": {},
     "output_type": "execute_result"
    }
   ],
   "source": [
    "means_1"
   ]
  },
  {
   "cell_type": "markdown",
   "metadata": {},
   "source": [
    "What does the distribution of the means look like - i.e. let's consider all these means as data points part of a sample or population. We will first use matplotlib"
   ]
  },
  {
   "cell_type": "code",
   "execution_count": 31,
   "metadata": {},
   "outputs": [
    {
     "data": {
      "image/png": "[encoded data removed]",
      "text/plain": [
       "<Figure size 432x288 with 1 Axes>"
      ]
     },
     "metadata": {
      "needs_background": "light"
     },
     "output_type": "display_data"
    }
   ],
   "source": [
    "plt.hist(means_1,bins=50,color='mediumaquamarine')\n",
    "plt.show()"
   ]
  },
  {
   "cell_type": "markdown",
   "metadata": {},
   "source": [
    "### Exercise 4 (in class) - play with the number of samples and points per sample"
   ]
  },
  {
   "cell_type": "code",
   "execution_count": 32,
   "metadata": {},
   "outputs": [
    {
     "name": "stdout",
     "output_type": "stream",
     "text": [
      "Iteration  490 of  500\n"
     ]
    }
   ],
   "source": [
    "means_2, stdevs_2 = repeat_samples_stats(draw_sample, population, 'mass', 500, 1000)"
   ]
  },
  {
   "cell_type": "code",
   "execution_count": 33,
   "metadata": {},
   "outputs": [
    {
     "data": {
      "image/png": "[encoded data removed]",
      "text/plain": [
       "<Figure size 432x288 with 1 Axes>"
      ]
     },
     "metadata": {
      "needs_background": "light"
     },
     "output_type": "display_data"
    }
   ],
   "source": [
    "plt.hist(means_2, bins=50,color='mediumaquamarine')\n",
    "plt.show()"
   ]
  },
  {
   "cell_type": "markdown",
   "metadata": {},
   "source": [
    "Now let's make a function with five arguments `sample_stats_funct`, `df`, `column`, `M` and `n` that takes the return values from the last function and\n",
    "* converts the lists to a single dataframe\n",
    "* plots two histograms of the columns (mean, sd)\n",
    "* prints out the mean and sd of the columns"
   ]
  },
  {
   "cell_type": "code",
   "execution_count": 34,
   "metadata": {},
   "outputs": [],
   "source": [
    "def describe_sample(sample_stats_funct, df, column, M, n):\n",
    "    means, sds = sample_stats_funct(draw_sample, df, column, M, n)\n",
    "    df = pd.DataFrame(data={'means': means, 'sds': sds})\n",
    "    \n",
    "    df.hist(bins=100,color='mediumorchid')\n",
    "    print('Mean: {}'.format(np.round(df['means'].mean(), 3)))\n",
    "    print('Std Dev: {}'.format(np.round(df['sds'].mean(), 3)))\n",
    "    \n",
    "    return df"
   ]
  },
  {
   "cell_type": "code",
   "execution_count": 39,
   "metadata": {},
   "outputs": [
    {
     "name": "stdout",
     "output_type": "stream",
     "text": [
      "Iteration  990 of  1000\n",
      "Mean: 415.186\n",
      "Std Dev: 59.56\n"
     ]
    },
    {
     "data": {
      "image/png": "[encoded data removed]",
      "text/plain": [
       "<Figure size 432x288 with 2 Axes>"
      ]
     },
     "metadata": {
      "needs_background": "light"
     },
     "output_type": "display_data"
    }
   ],
   "source": [
    "df = describe_sample(repeat_samples_stats, population, 'mass', 1000, 100)"
   ]
  },
  {
   "cell_type": "code",
   "execution_count": 38,
   "metadata": {},
   "outputs": [
    {
     "name": "stdout",
     "output_type": "stream",
     "text": [
      "415.47242266449683 59.68017770206631\n"
     ]
    }
   ],
   "source": [
    "print(true_mean, true_stdev)"
   ]
  },
  {
   "cell_type": "code",
   "execution_count": 36,
   "metadata": {},
   "outputs": [
    {
     "name": "stdout",
     "output_type": "stream",
     "text": [
      "Iteration  990 of  1000\n",
      "Mean: 415.621\n",
      "Std Dev: 59.437\n"
     ]
    },
    {
     "data": {
      "image/png": "[encoded data removed]",
      "text/plain": [
       "<Figure size 432x288 with 2 Axes>"
      ]
     },
     "metadata": {
      "needs_background": "light"
     },
     "output_type": "display_data"
    }
   ],
   "source": [
    "df = describe_sample(repeat_samples_stats, population, 'mass', 1000, 50)"
   ]
  },
  {
   "cell_type": "code",
   "execution_count": null,
   "metadata": {},
   "outputs": [],
   "source": []
  },
  {
   "cell_type": "code",
   "execution_count": null,
   "metadata": {},
   "outputs": [],
   "source": []
  },
  {
   "cell_type": "code",
   "execution_count": null,
   "metadata": {},
   "outputs": [],
   "source": []
  },
  {
   "cell_type": "code",
   "execution_count": null,
   "metadata": {},
   "outputs": [],
   "source": []
  },
  {
   "cell_type": "markdown",
   "metadata": {},
   "source": [
    "## Next time - Bootstrapping"
   ]
  },
  {
   "cell_type": "code",
   "execution_count": null,
   "metadata": {},
   "outputs": [],
   "source": []
  }
 ],
 "metadata": {
  "kernelspec": {
   "display_name": "Python (tunnel)",
   "language": "python",
   "name": "python3"
  },
  "language_info": {
   "codemirror_mode": {
    "name": "ipython",
    "version": 3
   },
   "file_extension": ".py",
   "mimetype": "text/x-python",
   "name": "python",
   "nbconvert_exporter": "python",
   "pygments_lexer": "ipython3",
   "version": "3.7.7"
  }
 },
 "nbformat": 4,
 "nbformat_minor": 2
}
