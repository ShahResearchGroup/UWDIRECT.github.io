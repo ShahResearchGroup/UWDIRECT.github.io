{
 "cells": [
  {
   "cell_type": "markdown",
   "metadata": {},
   "source": [
    "# Data Science Methods for Clean Energy Research \n",
    "## _Neural Networks_\n",
    "\n",
    "## Outline"
   ]
  },
  {
   "cell_type": "markdown",
   "metadata": {},
   "source": [
    "### 1. Load dataset & rescale\n",
    "### 2. Build a NN model with Keras\n",
    "### 3. Train NN and test\n",
    "### 4. Increase complexity of NN"
   ]
  },
  {
   "cell_type": "code",
   "execution_count": 74,
   "metadata": {},
   "outputs": [
    {
     "name": "stdout",
     "output_type": "stream",
     "text": [
      "2.4.3\n",
      "1.19.2\n",
      "The autoreload extension is already loaded. To reload it, use:\n",
      "  %reload_ext autoreload\n"
     ]
    }
   ],
   "source": [
    "# Import plotting libraries\n",
    "import matplotlib \n",
    "from matplotlib import pyplot as plt\n",
    "matplotlib.rcParams.update({'font.size': 20})\n",
    "plt.rcParams.update({'font.size': 22})\n",
    "\n",
    "import keras\n",
    "from keras.models import Sequential\n",
    "from keras.layers import Dense\n",
    "from keras.wrappers.scikit_learn import KerasRegressor\n",
    "\n",
    "print(keras.__version__)\n",
    "import numpy as np\n",
    "\n",
    "print(np.__version__)\n",
    "import pandas as pd\n",
    "from sklearn.model_selection import cross_val_score\n",
    "from sklearn.model_selection import KFold\n",
    "from sklearn.model_selection import train_test_split\n",
    "from sklearn.preprocessing import StandardScaler\n",
    "\n",
    "# Set larger fontsize for all plots\n",
    "%load_ext autoreload\n",
    "%autoreload 2\n"
   ]
  },
  {
   "cell_type": "code",
   "execution_count": 26,
   "metadata": {},
   "outputs": [
    {
     "name": "stdout",
     "output_type": "stream",
     "text": [
      "4.48.0\n"
     ]
    }
   ],
   "source": [
    "import tqdm\n",
    "from tqdm.keras import TqdmCallback\n",
    "\n",
    "print(tqdm.__version__)"
   ]
  },
  {
   "cell_type": "markdown",
   "metadata": {},
   "source": [
    "### 1. Loading the data, splitting into train and test and rescaling"
   ]
  },
  {
   "cell_type": "markdown",
   "metadata": {},
   "source": [
    "Set our random seed so that all computations are deterministic"
   ]
  },
  {
   "cell_type": "code",
   "execution_count": 3,
   "metadata": {},
   "outputs": [],
   "source": [
    "seed = 42"
   ]
  },
  {
   "cell_type": "markdown",
   "metadata": {},
   "source": [
    "Read in the raw data for the HCEPDB into a pandas dataframe"
   ]
  },
  {
   "cell_type": "code",
   "execution_count": 4,
   "metadata": {},
   "outputs": [
    {
     "data": {
      "text/html": [
       "<div>\n",
       "<style scoped>\n",
       "    .dataframe tbody tr th:only-of-type {\n",
       "        vertical-align: middle;\n",
       "    }\n",
       "\n",
       "    .dataframe tbody tr th {\n",
       "        vertical-align: top;\n",
       "    }\n",
       "\n",
       "    .dataframe thead th {\n",
       "        text-align: right;\n",
       "    }\n",
       "</style>\n",
       "<table border=\"1\" class=\"dataframe\">\n",
       "  <thead>\n",
       "    <tr style=\"text-align: right;\">\n",
       "      <th></th>\n",
       "      <th>id</th>\n",
       "      <th>SMILES_str</th>\n",
       "      <th>stoich_str</th>\n",
       "      <th>mass</th>\n",
       "      <th>pce</th>\n",
       "      <th>voc</th>\n",
       "      <th>jsc</th>\n",
       "      <th>e_homo_alpha</th>\n",
       "      <th>e_gap_alpha</th>\n",
       "      <th>e_lumo_alpha</th>\n",
       "      <th>tmp_smiles_str</th>\n",
       "    </tr>\n",
       "  </thead>\n",
       "  <tbody>\n",
       "    <tr>\n",
       "      <th>0</th>\n",
       "      <td>655365</td>\n",
       "      <td>C1C=CC=C1c1cc2[se]c3c4occc4c4nsnc4c3c2cn1</td>\n",
       "      <td>C18H9N3OSSe</td>\n",
       "      <td>394.3151</td>\n",
       "      <td>5.161953</td>\n",
       "      <td>0.867601</td>\n",
       "      <td>91.567575</td>\n",
       "      <td>-5.467601</td>\n",
       "      <td>2.022944</td>\n",
       "      <td>-3.444656</td>\n",
       "      <td>C1=CC=C(C1)c1cc2[se]c3c4occc4c4nsnc4c3c2cn1</td>\n",
       "    </tr>\n",
       "    <tr>\n",
       "      <th>1</th>\n",
       "      <td>1245190</td>\n",
       "      <td>C1C=CC=C1c1cc2[se]c3c(ncc4ccccc34)c2c2=C[SiH2]...</td>\n",
       "      <td>C22H15NSeSi</td>\n",
       "      <td>400.4135</td>\n",
       "      <td>5.261398</td>\n",
       "      <td>0.504824</td>\n",
       "      <td>160.401549</td>\n",
       "      <td>-5.104824</td>\n",
       "      <td>1.630750</td>\n",
       "      <td>-3.474074</td>\n",
       "      <td>C1=CC=C(C1)c1cc2[se]c3c(ncc4ccccc34)c2c2=C[SiH...</td>\n",
       "    </tr>\n",
       "    <tr>\n",
       "      <th>2</th>\n",
       "      <td>21847</td>\n",
       "      <td>C1C=c2ccc3c4c[nH]cc4c4c5[SiH2]C(=Cc5oc4c3c2=C1...</td>\n",
       "      <td>C24H17NOSi</td>\n",
       "      <td>363.4903</td>\n",
       "      <td>0.000000</td>\n",
       "      <td>0.000000</td>\n",
       "      <td>197.474780</td>\n",
       "      <td>-4.539526</td>\n",
       "      <td>1.462158</td>\n",
       "      <td>-3.077368</td>\n",
       "      <td>C1=CC=C(C1)C1=Cc2oc3c(c2[SiH2]1)c1c[nH]cc1c1cc...</td>\n",
       "    </tr>\n",
       "    <tr>\n",
       "      <th>3</th>\n",
       "      <td>65553</td>\n",
       "      <td>[SiH2]1C=CC2=C1C=C([SiH2]2)C1=Cc2[se]ccc2[SiH2]1</td>\n",
       "      <td>C12H12SeSi3</td>\n",
       "      <td>319.4448</td>\n",
       "      <td>6.138294</td>\n",
       "      <td>0.630274</td>\n",
       "      <td>149.887545</td>\n",
       "      <td>-5.230274</td>\n",
       "      <td>1.682250</td>\n",
       "      <td>-3.548025</td>\n",
       "      <td>C1=CC2=C([SiH2]1)C=C([SiH2]2)C1=Cc2[se]ccc2[Si...</td>\n",
       "    </tr>\n",
       "    <tr>\n",
       "      <th>4</th>\n",
       "      <td>720918</td>\n",
       "      <td>C1C=c2c3ccsc3c3[se]c4cc(oc4c3c2=C1)C1=CC=CC1</td>\n",
       "      <td>C20H12OSSe</td>\n",
       "      <td>379.3398</td>\n",
       "      <td>1.991366</td>\n",
       "      <td>0.242119</td>\n",
       "      <td>126.581347</td>\n",
       "      <td>-4.842119</td>\n",
       "      <td>1.809439</td>\n",
       "      <td>-3.032680</td>\n",
       "      <td>C1=CC=C(C1)c1cc2[se]c3c4sccc4c4=CCC=c4c3c2o1</td>\n",
       "    </tr>\n",
       "  </tbody>\n",
       "</table>\n",
       "</div>"
      ],
      "text/plain": [
       "        id                                         SMILES_str   stoich_str  \\\n",
       "0   655365          C1C=CC=C1c1cc2[se]c3c4occc4c4nsnc4c3c2cn1  C18H9N3OSSe   \n",
       "1  1245190  C1C=CC=C1c1cc2[se]c3c(ncc4ccccc34)c2c2=C[SiH2]...  C22H15NSeSi   \n",
       "2    21847  C1C=c2ccc3c4c[nH]cc4c4c5[SiH2]C(=Cc5oc4c3c2=C1...   C24H17NOSi   \n",
       "3    65553   [SiH2]1C=CC2=C1C=C([SiH2]2)C1=Cc2[se]ccc2[SiH2]1  C12H12SeSi3   \n",
       "4   720918       C1C=c2c3ccsc3c3[se]c4cc(oc4c3c2=C1)C1=CC=CC1   C20H12OSSe   \n",
       "\n",
       "       mass       pce       voc         jsc  e_homo_alpha  e_gap_alpha  \\\n",
       "0  394.3151  5.161953  0.867601   91.567575     -5.467601     2.022944   \n",
       "1  400.4135  5.261398  0.504824  160.401549     -5.104824     1.630750   \n",
       "2  363.4903  0.000000  0.000000  197.474780     -4.539526     1.462158   \n",
       "3  319.4448  6.138294  0.630274  149.887545     -5.230274     1.682250   \n",
       "4  379.3398  1.991366  0.242119  126.581347     -4.842119     1.809439   \n",
       "\n",
       "   e_lumo_alpha                                     tmp_smiles_str  \n",
       "0     -3.444656        C1=CC=C(C1)c1cc2[se]c3c4occc4c4nsnc4c3c2cn1  \n",
       "1     -3.474074  C1=CC=C(C1)c1cc2[se]c3c(ncc4ccccc34)c2c2=C[SiH...  \n",
       "2     -3.077368  C1=CC=C(C1)C1=Cc2oc3c(c2[SiH2]1)c1c[nH]cc1c1cc...  \n",
       "3     -3.548025  C1=CC2=C([SiH2]1)C=C([SiH2]2)C1=Cc2[se]ccc2[Si...  \n",
       "4     -3.032680       C1=CC=C(C1)c1cc2[se]c3c4sccc4c4=CCC=c4c3c2o1  "
      ]
     },
     "execution_count": 4,
     "metadata": {},
     "output_type": "execute_result"
    }
   ],
   "source": [
    "df = pd.read_csv('datasets/HCEPDB_moldata.csv')\n",
    "df.head()"
   ]
  },
  {
   "cell_type": "code",
   "execution_count": 6,
   "metadata": {},
   "outputs": [],
   "source": [
    "df_smaller = df.sample(frac=0.05, random_state=42)"
   ]
  },
  {
   "cell_type": "code",
   "execution_count": 7,
   "metadata": {},
   "outputs": [
    {
     "data": {
      "text/html": [
       "<div>\n",
       "<style scoped>\n",
       "    .dataframe tbody tr th:only-of-type {\n",
       "        vertical-align: middle;\n",
       "    }\n",
       "\n",
       "    .dataframe tbody tr th {\n",
       "        vertical-align: top;\n",
       "    }\n",
       "\n",
       "    .dataframe thead th {\n",
       "        text-align: right;\n",
       "    }\n",
       "</style>\n",
       "<table border=\"1\" class=\"dataframe\">\n",
       "  <thead>\n",
       "    <tr style=\"text-align: right;\">\n",
       "      <th></th>\n",
       "      <th>id</th>\n",
       "      <th>mass</th>\n",
       "      <th>pce</th>\n",
       "      <th>voc</th>\n",
       "      <th>jsc</th>\n",
       "      <th>e_homo_alpha</th>\n",
       "      <th>e_gap_alpha</th>\n",
       "      <th>e_lumo_alpha</th>\n",
       "    </tr>\n",
       "  </thead>\n",
       "  <tbody>\n",
       "    <tr>\n",
       "      <th>count</th>\n",
       "      <td>1.161420e+05</td>\n",
       "      <td>116142.000000</td>\n",
       "      <td>116142.000000</td>\n",
       "      <td>116142.000000</td>\n",
       "      <td>116142.000000</td>\n",
       "      <td>116142.000000</td>\n",
       "      <td>116142.000000</td>\n",
       "      <td>116142.000000</td>\n",
       "    </tr>\n",
       "    <tr>\n",
       "      <th>mean</th>\n",
       "      <td>1.332811e+06</td>\n",
       "      <td>415.385002</td>\n",
       "      <td>3.914043</td>\n",
       "      <td>0.551061</td>\n",
       "      <td>120.355437</td>\n",
       "      <td>-5.173697</td>\n",
       "      <td>1.881362</td>\n",
       "      <td>-3.292335</td>\n",
       "    </tr>\n",
       "    <tr>\n",
       "      <th>std</th>\n",
       "      <td>8.588534e+05</td>\n",
       "      <td>60.038619</td>\n",
       "      <td>2.508809</td>\n",
       "      <td>0.304212</td>\n",
       "      <td>67.138869</td>\n",
       "      <td>0.303192</td>\n",
       "      <td>0.402179</td>\n",
       "      <td>0.392375</td>\n",
       "    </tr>\n",
       "    <tr>\n",
       "      <th>min</th>\n",
       "      <td>1.400000e+01</td>\n",
       "      <td>170.214000</td>\n",
       "      <td>0.000000</td>\n",
       "      <td>0.000000</td>\n",
       "      <td>0.000000</td>\n",
       "      <td>-6.706440</td>\n",
       "      <td>0.739248</td>\n",
       "      <td>-4.612211</td>\n",
       "    </tr>\n",
       "    <tr>\n",
       "      <th>25%</th>\n",
       "      <td>6.113565e+05</td>\n",
       "      <td>378.449600</td>\n",
       "      <td>2.052101</td>\n",
       "      <td>0.340866</td>\n",
       "      <td>69.223461</td>\n",
       "      <td>-5.368425</td>\n",
       "      <td>1.587198</td>\n",
       "      <td>-3.587542</td>\n",
       "    </tr>\n",
       "    <tr>\n",
       "      <th>50%</th>\n",
       "      <td>1.228647e+06</td>\n",
       "      <td>415.590300</td>\n",
       "      <td>3.414881</td>\n",
       "      <td>0.540327</td>\n",
       "      <td>111.468683</td>\n",
       "      <td>-5.159293</td>\n",
       "      <td>1.867783</td>\n",
       "      <td>-3.281914</td>\n",
       "    </tr>\n",
       "    <tr>\n",
       "      <th>75%</th>\n",
       "      <td>1.989328e+06</td>\n",
       "      <td>456.676400</td>\n",
       "      <td>5.597673</td>\n",
       "      <td>0.750006</td>\n",
       "      <td>163.205996</td>\n",
       "      <td>-4.965303</td>\n",
       "      <td>2.162630</td>\n",
       "      <td>-3.005953</td>\n",
       "    </tr>\n",
       "    <tr>\n",
       "      <th>max</th>\n",
       "      <td>3.102826e+06</td>\n",
       "      <td>686.359000</td>\n",
       "      <td>11.117424</td>\n",
       "      <td>2.106440</td>\n",
       "      <td>379.595427</td>\n",
       "      <td>-4.021910</td>\n",
       "      <td>3.629397</td>\n",
       "      <td>-1.397800</td>\n",
       "    </tr>\n",
       "  </tbody>\n",
       "</table>\n",
       "</div>"
      ],
      "text/plain": [
       "                 id           mass            pce            voc  \\\n",
       "count  1.161420e+05  116142.000000  116142.000000  116142.000000   \n",
       "mean   1.332811e+06     415.385002       3.914043       0.551061   \n",
       "std    8.588534e+05      60.038619       2.508809       0.304212   \n",
       "min    1.400000e+01     170.214000       0.000000       0.000000   \n",
       "25%    6.113565e+05     378.449600       2.052101       0.340866   \n",
       "50%    1.228647e+06     415.590300       3.414881       0.540327   \n",
       "75%    1.989328e+06     456.676400       5.597673       0.750006   \n",
       "max    3.102826e+06     686.359000      11.117424       2.106440   \n",
       "\n",
       "                 jsc   e_homo_alpha    e_gap_alpha   e_lumo_alpha  \n",
       "count  116142.000000  116142.000000  116142.000000  116142.000000  \n",
       "mean      120.355437      -5.173697       1.881362      -3.292335  \n",
       "std        67.138869       0.303192       0.402179       0.392375  \n",
       "min         0.000000      -6.706440       0.739248      -4.612211  \n",
       "25%        69.223461      -5.368425       1.587198      -3.587542  \n",
       "50%       111.468683      -5.159293       1.867783      -3.281914  \n",
       "75%       163.205996      -4.965303       2.162630      -3.005953  \n",
       "max       379.595427      -4.021910       3.629397      -1.397800  "
      ]
     },
     "execution_count": 7,
     "metadata": {},
     "output_type": "execute_result"
    }
   ],
   "source": [
    "df_smaller.describe()"
   ]
  },
  {
   "cell_type": "markdown",
   "metadata": {},
   "source": [
    "Separate out the input features from the output target `'pce'`"
   ]
  },
  {
   "cell_type": "code",
   "execution_count": 8,
   "metadata": {},
   "outputs": [],
   "source": [
    "X = df_smaller[['mass', 'voc', 'jsc', 'e_homo_alpha', 'e_gap_alpha', \n",
    "        'e_lumo_alpha']].values\n",
    "Y = df_smaller[['pce']].values"
   ]
  },
  {
   "cell_type": "markdown",
   "metadata": {},
   "source": [
    "Let's create the test / train split from this data and keep 20% for testing.  "
   ]
  },
  {
   "cell_type": "code",
   "execution_count": 9,
   "metadata": {},
   "outputs": [],
   "source": [
    "X_train_pn, X_test_pn, y_train, y_test = train_test_split(X, Y,\n",
    "                                                    test_size=0.20,\n",
    "                                                    random_state=seed)"
   ]
  },
  {
   "cell_type": "markdown",
   "metadata": {},
   "source": [
    "Now we need rescale the input features of the training set using the `StandardScaler()` class [more info](https://scikit-learn.org/stable/modules/generated/sklearn.preprocessing.StandardScaler.html) and store the scaler to use it for the future test sets. We are rescaling input features because we do not want one of the input features to matter more than the others."
   ]
  },
  {
   "cell_type": "code",
   "execution_count": 10,
   "metadata": {},
   "outputs": [],
   "source": [
    "# create the scaler from the training data only and keep it for later use\n",
    "X_train_scaler = StandardScaler().fit(X_train_pn)\n",
    "# apply the scaler transform to the training data\n",
    "X_train = X_train_scaler.transform(X_train_pn)"
   ]
  },
  {
   "cell_type": "markdown",
   "metadata": {},
   "source": [
    "Now let's reuse that scaler transform on the test set.  This way we never contaminate the test data with the training data.  We'll start with a histogram of the testing data just to prove to ourselves it is working."
   ]
  },
  {
   "cell_type": "code",
   "execution_count": 11,
   "metadata": {},
   "outputs": [
    {
     "data": {
      "image/png": "[encoded data removed]",
      "text/plain": [
       "<Figure size 720x288 with 2 Axes>"
      ]
     },
     "metadata": {
      "needs_background": "light"
     },
     "output_type": "display_data"
    }
   ],
   "source": [
    "fig, ax = plt.subplots(1,2,figsize=(10,4))\n",
    "ax[0].hist(X_test_pn[:,0], alpha=0.6, color='mediumvioletred')\n",
    "ax[0].set_xlabel('mass')\n",
    "ax[0].set_ylabel('count')\n",
    "ax[0].set_title('mass distribution',fontsize=18)\n",
    "ax[1].hist(X_test_pn[:,1], alpha=0.6, color='royalblue')\n",
    "ax[1].set_xlabel('voc')\n",
    "ax[1].set_ylabel('count')\n",
    "ax[1].set_title('voc distribution',fontsize=18)\n",
    "plt.tight_layout()\n",
    "plt.show()"
   ]
  },
  {
   "cell_type": "markdown",
   "metadata": {},
   "source": [
    "OK, now apply the training scaler transform to the test and plot a histogram"
   ]
  },
  {
   "cell_type": "code",
   "execution_count": 16,
   "metadata": {},
   "outputs": [],
   "source": [
    "X_test = X_train_scaler.transform(X_test_pn)"
   ]
  },
  {
   "cell_type": "code",
   "execution_count": 17,
   "metadata": {},
   "outputs": [
    {
     "data": {
      "image/png": "[encoded data removed]",
      "text/plain": [
       "<Figure size 720x288 with 2 Axes>"
      ]
     },
     "metadata": {
      "needs_background": "light"
     },
     "output_type": "display_data"
    }
   ],
   "source": [
    "fig, ax = plt.subplots(1,2,figsize=(10,4))\n",
    "ax[0].hist(X_test[:,0], alpha=0.6, color='mediumvioletred')\n",
    "ax[0].set_xlabel('mass')\n",
    "ax[0].set_ylabel('count')\n",
    "ax[0].set_title('mass distribution',fontsize=18)\n",
    "ax[1].hist(X_test[:,1], alpha=0.6, color='royalblue')\n",
    "ax[1].set_xlabel('voc')\n",
    "ax[1].set_ylabel('count')\n",
    "ax[1].set_title('voc distribution',fontsize=18)\n",
    "plt.tight_layout()\n",
    "plt.show()"
   ]
  },
  {
   "cell_type": "markdown",
   "metadata": {},
   "source": [
    "### 2. Creating the neural network model\n",
    "\n",
    "This is a simple neural network with one hidden layer and one output layer. Here we will use `Keras` functions [Keras documentation](https://keras.io/guides/). We will use `Dense` layers as defined [here](https://keras.io/api/layers/core_layers/dense/), and the `Adam` [optimizer](https://keras.io/api/optimizers/adam/) which relies on gradient descent."
   ]
  },
  {
   "cell_type": "code",
   "execution_count": 18,
   "metadata": {},
   "outputs": [],
   "source": [
    "def simple_network():\n",
    "    # assemble the structure\n",
    "    model = Sequential()\n",
    "    # Note - THIS IS YOUR FIRST HIDDEN LAYER - input layer is defined by input_dim!\n",
    "    model.add(Dense(6, input_dim=6, kernel_initializer='normal', activation='relu'))\n",
    "    # This is the output layer\n",
    "    model.add(Dense(1, kernel_initializer='normal'))\n",
    "    # compile the model\n",
    "    model.compile(loss='mean_squared_error', optimizer='adam')\n",
    "    return model"
   ]
  },
  {
   "cell_type": "code",
   "execution_count": 19,
   "metadata": {},
   "outputs": [
    {
     "name": "stdout",
     "output_type": "stream",
     "text": [
      "Model: \"sequential\"\n",
      "_________________________________________________________________\n",
      "Layer (type)                 Output Shape              Param #   \n",
      "=================================================================\n",
      "dense (Dense)                (None, 6)                 42        \n",
      "_________________________________________________________________\n",
      "dense_1 (Dense)              (None, 1)                 7         \n",
      "=================================================================\n",
      "Total params: 49\n",
      "Trainable params: 49\n",
      "Non-trainable params: 0\n",
      "_________________________________________________________________\n"
     ]
    }
   ],
   "source": [
    "my_model = simple_network()\n",
    "my_model.summary()"
   ]
  },
  {
   "cell_type": "markdown",
   "metadata": {},
   "source": [
    "### 3. Training the NN"
   ]
  },
  {
   "cell_type": "markdown",
   "metadata": {},
   "source": [
    "Train the neural network with the following"
   ]
  },
  {
   "cell_type": "code",
   "execution_count": 28,
   "metadata": {},
   "outputs": [
    {
     "name": "stdout",
     "output_type": "stream",
     "text": [
      "Epoch 1/150\n",
      "7/7 [==============================] - 0s 18ms/step - loss: 21.5292 - val_loss: 21.4312\n",
      "Epoch 2/150\n",
      "7/7 [==============================] - 0s 11ms/step - loss: 21.4249 - val_loss: 21.3315\n",
      "Epoch 3/150\n",
      "7/7 [==============================] - 0s 9ms/step - loss: 21.3261 - val_loss: 21.2333\n",
      "Epoch 4/150\n",
      "7/7 [==============================] - 0s 16ms/step - loss: 21.2267 - val_loss: 21.1313\n",
      "Epoch 5/150\n",
      "7/7 [==============================] - 0s 8ms/step - loss: 21.1221 - val_loss: 21.0233\n",
      "Epoch 6/150\n",
      "7/7 [==============================] - 0s 7ms/step - loss: 21.0114 - val_loss: 20.9082\n",
      "Epoch 7/150\n",
      "7/7 [==============================] - 0s 9ms/step - loss: 20.8932 - val_loss: 20.7850\n",
      "Epoch 8/150\n",
      "7/7 [==============================] - 0s 12ms/step - loss: 20.7666 - val_loss: 20.6530\n",
      "Epoch 9/150\n",
      "7/7 [==============================] - 0s 11ms/step - loss: 20.6308 - val_loss: 20.5118\n",
      "Epoch 10/150\n",
      "7/7 [==============================] - 0s 12ms/step - loss: 20.4858 - val_loss: 20.3608\n",
      "Epoch 11/150\n",
      "7/7 [==============================] - 0s 11ms/step - loss: 20.3302 - val_loss: 20.1994\n",
      "Epoch 12/150\n",
      "7/7 [==============================] - 0s 11ms/step - loss: 20.1645 - val_loss: 20.0269\n",
      "Epoch 13/150\n",
      "7/7 [==============================] - 0s 15ms/step - loss: 19.9875 - val_loss: 19.8428\n",
      "Epoch 14/150\n",
      "7/7 [==============================] - 0s 7ms/step - loss: 19.7983 - val_loss: 19.6462\n",
      "Epoch 15/150\n",
      "7/7 [==============================] - 0s 10ms/step - loss: 19.5964 - val_loss: 19.4363\n",
      "Epoch 16/150\n",
      "7/7 [==============================] - 0s 8ms/step - loss: 19.3801 - val_loss: 19.2118\n",
      "Epoch 17/150\n",
      "7/7 [==============================] - 0s 12ms/step - loss: 19.1496 - val_loss: 18.9720\n",
      "Epoch 18/150\n",
      "7/7 [==============================] - 0s 12ms/step - loss: 18.9033 - val_loss: 18.7173\n",
      "Epoch 19/150\n",
      "7/7 [==============================] - 0s 9ms/step - loss: 18.6424 - val_loss: 18.4476\n",
      "Epoch 20/150\n",
      "7/7 [==============================] - 0s 9ms/step - loss: 18.3662 - val_loss: 18.1637\n",
      "Epoch 21/150\n",
      "7/7 [==============================] - 0s 6ms/step - loss: 18.0766 - val_loss: 17.8652\n",
      "Epoch 22/150\n",
      "7/7 [==============================] - 0s 8ms/step - loss: 17.7722 - val_loss: 17.5539\n",
      "Epoch 23/150\n",
      "7/7 [==============================] - 0s 10ms/step - loss: 17.4551 - val_loss: 17.2305\n",
      "Epoch 24/150\n",
      "7/7 [==============================] - 0s 9ms/step - loss: 17.1268 - val_loss: 16.8966\n",
      "Epoch 25/150\n",
      "7/7 [==============================] - 0s 10ms/step - loss: 16.7886 - val_loss: 16.5534\n",
      "Epoch 26/150\n",
      "7/7 [==============================] - 0s 7ms/step - loss: 16.4404 - val_loss: 16.2009\n",
      "Epoch 27/150\n",
      "7/7 [==============================] - 0s 8ms/step - loss: 16.0841 - val_loss: 15.8397\n",
      "Epoch 28/150\n",
      "7/7 [==============================] - 0s 9ms/step - loss: 15.7193 - val_loss: 15.4722\n",
      "Epoch 29/150\n",
      "7/7 [==============================] - 0s 11ms/step - loss: 15.3488 - val_loss: 15.0991\n",
      "Epoch 30/150\n",
      "7/7 [==============================] - 0s 10ms/step - loss: 14.9723 - val_loss: 14.7203\n",
      "Epoch 31/150\n",
      "7/7 [==============================] - 0s 11ms/step - loss: 14.5908 - val_loss: 14.3369\n",
      "Epoch 32/150\n",
      "7/7 [==============================] - 0s 7ms/step - loss: 14.2057 - val_loss: 13.9514\n",
      "Epoch 33/150\n",
      "7/7 [==============================] - 0s 8ms/step - loss: 13.8187 - val_loss: 13.5644\n",
      "Epoch 34/150\n",
      "7/7 [==============================] - 0s 8ms/step - loss: 13.4300 - val_loss: 13.1768\n",
      "Epoch 35/150\n",
      "7/7 [==============================] - 0s 16ms/step - loss: 13.0417 - val_loss: 12.7891\n",
      "Epoch 36/150\n",
      "7/7 [==============================] - 0s 14ms/step - loss: 12.6533 - val_loss: 12.4026\n",
      "Epoch 37/150\n",
      "7/7 [==============================] - 0s 9ms/step - loss: 12.2658 - val_loss: 12.0183\n",
      "Epoch 38/150\n",
      "7/7 [==============================] - 0s 7ms/step - loss: 11.8807 - val_loss: 11.6351\n",
      "Epoch 39/150\n",
      "7/7 [==============================] - 0s 8ms/step - loss: 11.4979 - val_loss: 11.2544\n",
      "Epoch 40/150\n",
      "7/7 [==============================] - 0s 7ms/step - loss: 11.1170 - val_loss: 10.8775\n",
      "Epoch 41/150\n",
      "7/7 [==============================] - 0s 6ms/step - loss: 10.7414 - val_loss: 10.5047\n",
      "Epoch 42/150\n",
      "7/7 [==============================] - 0s 8ms/step - loss: 10.3689 - val_loss: 10.1363\n",
      "Epoch 43/150\n",
      "7/7 [==============================] - 0s 9ms/step - loss: 10.0015 - val_loss: 9.7722\n",
      "Epoch 44/150\n",
      "7/7 [==============================] - 0s 7ms/step - loss: 9.6384 - val_loss: 9.4138\n",
      "Epoch 45/150\n",
      "7/7 [==============================] - 0s 10ms/step - loss: 9.2808 - val_loss: 9.0612\n",
      "Epoch 46/150\n",
      "7/7 [==============================] - 0s 5ms/step - loss: 8.9302 - val_loss: 8.7133\n",
      "Epoch 47/150\n",
      "7/7 [==============================] - 0s 10ms/step - loss: 8.5849 - val_loss: 8.3724\n",
      "Epoch 48/150\n",
      "7/7 [==============================] - 0s 6ms/step - loss: 8.2457 - val_loss: 8.0378\n",
      "Epoch 49/150\n",
      "7/7 [==============================] - 0s 9ms/step - loss: 7.9125 - val_loss: 7.7102\n",
      "Epoch 50/150\n",
      "7/7 [==============================] - 0s 6ms/step - loss: 7.5880 - val_loss: 7.3892\n",
      "Epoch 51/150\n",
      "7/7 [==============================] - 0s 9ms/step - loss: 7.2689 - val_loss: 7.0752\n",
      "Epoch 52/150\n",
      "7/7 [==============================] - 0s 6ms/step - loss: 6.9574 - val_loss: 6.7690\n",
      "Epoch 53/150\n",
      "7/7 [==============================] - 0s 8ms/step - loss: 6.6542 - val_loss: 6.4703\n",
      "Epoch 54/150\n",
      "7/7 [==============================] - 0s 7ms/step - loss: 6.3595 - val_loss: 6.1795\n",
      "Epoch 55/150\n",
      "7/7 [==============================] - 0s 7ms/step - loss: 6.0721 - val_loss: 5.8986\n",
      "Epoch 56/150\n",
      "7/7 [==============================] - 0s 7ms/step - loss: 5.7953 - val_loss: 5.6269\n",
      "Epoch 57/150\n",
      "7/7 [==============================] - 0s 8ms/step - loss: 5.5275 - val_loss: 5.3659\n",
      "Epoch 58/150\n",
      "7/7 [==============================] - 0s 11ms/step - loss: 5.2705 - val_loss: 5.1155\n",
      "Epoch 59/150\n",
      "7/7 [==============================] - 0s 8ms/step - loss: 5.0239 - val_loss: 4.8749\n",
      "Epoch 60/150\n",
      "7/7 [==============================] - 0s 9ms/step - loss: 4.7885 - val_loss: 4.6455\n",
      "Epoch 61/150\n",
      "7/7 [==============================] - 0s 9ms/step - loss: 4.5639 - val_loss: 4.4285\n",
      "Epoch 62/150\n",
      "7/7 [==============================] - 0s 9ms/step - loss: 4.3520 - val_loss: 4.2231\n",
      "Epoch 63/150\n",
      "7/7 [==============================] - 0s 7ms/step - loss: 4.1514 - val_loss: 4.0306\n",
      "Epoch 64/150\n",
      "7/7 [==============================] - 0s 8ms/step - loss: 3.9643 - val_loss: 3.8501\n",
      "Epoch 65/150\n",
      "7/7 [==============================] - 0s 9ms/step - loss: 3.7885 - val_loss: 3.6813\n",
      "Epoch 66/150\n",
      "7/7 [==============================] - 0s 8ms/step - loss: 3.6249 - val_loss: 3.5242\n",
      "Epoch 67/150\n",
      "7/7 [==============================] - 0s 7ms/step - loss: 3.4730 - val_loss: 3.3787\n",
      "Epoch 68/150\n",
      "7/7 [==============================] - 0s 9ms/step - loss: 3.3317 - val_loss: 3.2442\n",
      "Epoch 69/150\n",
      "7/7 [==============================] - 0s 9ms/step - loss: 3.2015 - val_loss: 3.1198\n",
      "Epoch 70/150\n",
      "7/7 [==============================] - 0s 9ms/step - loss: 3.0813 - val_loss: 3.0049\n",
      "Epoch 71/150\n",
      "7/7 [==============================] - 0s 7ms/step - loss: 2.9707 - val_loss: 2.8994\n",
      "Epoch 72/150\n",
      "7/7 [==============================] - 0s 7ms/step - loss: 2.8689 - val_loss: 2.8028\n",
      "Epoch 73/150\n",
      "7/7 [==============================] - 0s 8ms/step - loss: 2.7758 - val_loss: 2.7144\n",
      "Epoch 74/150\n",
      "7/7 [==============================] - 0s 6ms/step - loss: 2.6905 - val_loss: 2.6331\n",
      "Epoch 75/150\n",
      "7/7 [==============================] - 0s 8ms/step - loss: 2.6121 - val_loss: 2.5587\n",
      "Epoch 76/150\n",
      "7/7 [==============================] - 0s 17ms/step - loss: 2.5407 - val_loss: 2.4906\n",
      "Epoch 77/150\n",
      "7/7 [==============================] - 0s 7ms/step - loss: 2.4753 - val_loss: 2.4286\n",
      "Epoch 78/150\n",
      "7/7 [==============================] - 0s 8ms/step - loss: 2.4155 - val_loss: 2.3717\n",
      "Epoch 79/150\n",
      "7/7 [==============================] - 0s 9ms/step - loss: 2.3608 - val_loss: 2.3198\n",
      "Epoch 80/150\n",
      "7/7 [==============================] - 0s 7ms/step - loss: 2.3110 - val_loss: 2.2722\n",
      "Epoch 81/150\n",
      "7/7 [==============================] - 0s 7ms/step - loss: 2.2652 - val_loss: 2.2285\n",
      "Epoch 82/150\n",
      "7/7 [==============================] - 0s 5ms/step - loss: 2.2231 - val_loss: 2.1886\n",
      "Epoch 83/150\n"
     ]
    },
    {
     "name": "stdout",
     "output_type": "stream",
     "text": [
      "7/7 [==============================] - 0s 5ms/step - loss: 2.1847 - val_loss: 2.1520\n",
      "Epoch 84/150\n",
      "7/7 [==============================] - 0s 8ms/step - loss: 2.1493 - val_loss: 2.1181\n",
      "Epoch 85/150\n",
      "7/7 [==============================] - 0s 9ms/step - loss: 2.1166 - val_loss: 2.0869\n",
      "Epoch 86/150\n",
      "7/7 [==============================] - 0s 6ms/step - loss: 2.0864 - val_loss: 2.0580\n",
      "Epoch 87/150\n",
      "7/7 [==============================] - 0s 7ms/step - loss: 2.0585 - val_loss: 2.0313\n",
      "Epoch 88/150\n",
      "7/7 [==============================] - 0s 6ms/step - loss: 2.0326 - val_loss: 2.0063\n",
      "Epoch 89/150\n",
      "7/7 [==============================] - 0s 6ms/step - loss: 2.0080 - val_loss: 1.9828\n",
      "Epoch 90/150\n",
      "7/7 [==============================] - 0s 7ms/step - loss: 1.9849 - val_loss: 1.9601\n",
      "Epoch 91/150\n",
      "7/7 [==============================] - 0s 6ms/step - loss: 1.9624 - val_loss: 1.9378\n",
      "Epoch 92/150\n",
      "7/7 [==============================] - 0s 7ms/step - loss: 1.9401 - val_loss: 1.9156\n",
      "Epoch 93/150\n",
      "7/7 [==============================] - 0s 7ms/step - loss: 1.9177 - val_loss: 1.8932\n",
      "Epoch 94/150\n",
      "7/7 [==============================] - 0s 7ms/step - loss: 1.8950 - val_loss: 1.8703\n",
      "Epoch 95/150\n",
      "7/7 [==============================] - 0s 5ms/step - loss: 1.8716 - val_loss: 1.8465\n",
      "Epoch 96/150\n",
      "7/7 [==============================] - 0s 7ms/step - loss: 1.8474 - val_loss: 1.8222\n",
      "Epoch 97/150\n",
      "7/7 [==============================] - 0s 6ms/step - loss: 1.8228 - val_loss: 1.7978\n",
      "Epoch 98/150\n",
      "7/7 [==============================] - 0s 7ms/step - loss: 1.7986 - val_loss: 1.7736\n",
      "Epoch 99/150\n",
      "7/7 [==============================] - 0s 6ms/step - loss: 1.7743 - val_loss: 1.7496\n",
      "Epoch 100/150\n",
      "7/7 [==============================] - 0s 8ms/step - loss: 1.7503 - val_loss: 1.7257\n",
      "Epoch 101/150\n",
      "7/7 [==============================] - 0s 5ms/step - loss: 1.7264 - val_loss: 1.7020\n",
      "Epoch 102/150\n",
      "7/7 [==============================] - 0s 8ms/step - loss: 1.7028 - val_loss: 1.6785\n",
      "Epoch 103/150\n",
      "7/7 [==============================] - 0s 7ms/step - loss: 1.6795 - val_loss: 1.6554\n",
      "Epoch 104/150\n",
      "7/7 [==============================] - 0s 5ms/step - loss: 1.6563 - val_loss: 1.6326\n",
      "Epoch 105/150\n",
      "7/7 [==============================] - 0s 9ms/step - loss: 1.6335 - val_loss: 1.6099\n",
      "Epoch 106/150\n",
      "7/7 [==============================] - 0s 5ms/step - loss: 1.6106 - val_loss: 1.5873\n",
      "Epoch 107/150\n",
      "7/7 [==============================] - 0s 8ms/step - loss: 1.5881 - val_loss: 1.5647\n",
      "Epoch 108/150\n",
      "7/7 [==============================] - 0s 6ms/step - loss: 1.5655 - val_loss: 1.5424\n",
      "Epoch 109/150\n",
      "7/7 [==============================] - 0s 7ms/step - loss: 1.5433 - val_loss: 1.5202\n",
      "Epoch 110/150\n",
      "7/7 [==============================] - 0s 7ms/step - loss: 1.5211 - val_loss: 1.4982\n",
      "Epoch 111/150\n",
      "7/7 [==============================] - 0s 7ms/step - loss: 1.4991 - val_loss: 1.4762\n",
      "Epoch 112/150\n",
      "7/7 [==============================] - 0s 10ms/step - loss: 1.4771 - val_loss: 1.4546\n",
      "Epoch 113/150\n",
      "7/7 [==============================] - 0s 6ms/step - loss: 1.4555 - val_loss: 1.4330\n",
      "Epoch 114/150\n",
      "7/7 [==============================] - 0s 8ms/step - loss: 1.4340 - val_loss: 1.4117\n",
      "Epoch 115/150\n",
      "7/7 [==============================] - 0s 7ms/step - loss: 1.4127 - val_loss: 1.3906\n",
      "Epoch 116/150\n",
      "7/7 [==============================] - 0s 8ms/step - loss: 1.3917 - val_loss: 1.3697\n",
      "Epoch 117/150\n",
      "7/7 [==============================] - 0s 6ms/step - loss: 1.3708 - val_loss: 1.3491\n",
      "Epoch 118/150\n",
      "7/7 [==============================] - 0s 8ms/step - loss: 1.3502 - val_loss: 1.3286\n",
      "Epoch 119/150\n",
      "7/7 [==============================] - 0s 5ms/step - loss: 1.3298 - val_loss: 1.3083\n",
      "Epoch 120/150\n",
      "7/7 [==============================] - 0s 7ms/step - loss: 1.3096 - val_loss: 1.2884\n",
      "Epoch 121/150\n",
      "7/7 [==============================] - 0s 7ms/step - loss: 1.2897 - val_loss: 1.2688\n",
      "Epoch 122/150\n",
      "7/7 [==============================] - 0s 6ms/step - loss: 1.2701 - val_loss: 1.2494\n",
      "Epoch 123/150\n",
      "7/7 [==============================] - 0s 7ms/step - loss: 1.2507 - val_loss: 1.2304\n",
      "Epoch 124/150\n",
      "7/7 [==============================] - 0s 6ms/step - loss: 1.2317 - val_loss: 1.2115\n",
      "Epoch 125/150\n",
      "7/7 [==============================] - 0s 9ms/step - loss: 1.2129 - val_loss: 1.1930\n",
      "Epoch 126/150\n",
      "7/7 [==============================] - 0s 5ms/step - loss: 1.1944 - val_loss: 1.1748\n",
      "Epoch 127/150\n",
      "7/7 [==============================] - 0s 9ms/step - loss: 1.1760 - val_loss: 1.1569\n",
      "Epoch 128/150\n",
      "7/7 [==============================] - 0s 6ms/step - loss: 1.1581 - val_loss: 1.1392\n",
      "Epoch 129/150\n",
      "7/7 [==============================] - 0s 9ms/step - loss: 1.1404 - val_loss: 1.1219\n",
      "Epoch 130/150\n",
      "7/7 [==============================] - 0s 5ms/step - loss: 1.1230 - val_loss: 1.1049\n",
      "Epoch 131/150\n",
      "7/7 [==============================] - 0s 7ms/step - loss: 1.1060 - val_loss: 1.0882\n",
      "Epoch 132/150\n",
      "7/7 [==============================] - 0s 6ms/step - loss: 1.0894 - val_loss: 1.0719\n",
      "Epoch 133/150\n",
      "7/7 [==============================] - 0s 10ms/step - loss: 1.0730 - val_loss: 1.0560\n",
      "Epoch 134/150\n",
      "7/7 [==============================] - 0s 5ms/step - loss: 1.0571 - val_loss: 1.0404\n",
      "Epoch 135/150\n",
      "7/7 [==============================] - 0s 9ms/step - loss: 1.0414 - val_loss: 1.0251\n",
      "Epoch 136/150\n",
      "7/7 [==============================] - 0s 9ms/step - loss: 1.0261 - val_loss: 1.0101\n",
      "Epoch 137/150\n",
      "7/7 [==============================] - 0s 9ms/step - loss: 1.0110 - val_loss: 0.9955\n",
      "Epoch 138/150\n",
      "7/7 [==============================] - 0s 7ms/step - loss: 0.9964 - val_loss: 0.9812\n",
      "Epoch 139/150\n",
      "7/7 [==============================] - 0s 8ms/step - loss: 0.9820 - val_loss: 0.9671\n",
      "Epoch 140/150\n",
      "7/7 [==============================] - 0s 6ms/step - loss: 0.9679 - val_loss: 0.9535\n",
      "Epoch 141/150\n",
      "7/7 [==============================] - 0s 7ms/step - loss: 0.9542 - val_loss: 0.9400\n",
      "Epoch 142/150\n",
      "7/7 [==============================] - 0s 5ms/step - loss: 0.9406 - val_loss: 0.9269\n",
      "Epoch 143/150\n",
      "7/7 [==============================] - 0s 10ms/step - loss: 0.9275 - val_loss: 0.9141\n",
      "Epoch 144/150\n",
      "7/7 [==============================] - 0s 7ms/step - loss: 0.9146 - val_loss: 0.9016\n",
      "Epoch 145/150\n",
      "7/7 [==============================] - 0s 10ms/step - loss: 0.9021 - val_loss: 0.8894\n",
      "Epoch 146/150\n",
      "7/7 [==============================] - 0s 6ms/step - loss: 0.8897 - val_loss: 0.8775\n",
      "Epoch 147/150\n",
      "7/7 [==============================] - 0s 7ms/step - loss: 0.8777 - val_loss: 0.8659\n",
      "Epoch 148/150\n",
      "7/7 [==============================] - 0s 6ms/step - loss: 0.8659 - val_loss: 0.8544\n",
      "Epoch 149/150\n",
      "7/7 [==============================] - 0s 6ms/step - loss: 0.8544 - val_loss: 0.8431\n",
      "Epoch 150/150\n",
      "7/7 [==============================] - 0s 7ms/step - loss: 0.8431 - val_loss: 0.8321\n"
     ]
    }
   ],
   "source": [
    "# initialize the random number generator - i.e. get reproducible starting weights\n",
    "np.random.seed(seed)\n",
    "# create the NN framework\n",
    "estimator = KerasRegressor(build_fn=simple_network,\n",
    "        epochs=150, batch_size=10000, verbose=0)\n",
    "history = estimator.fit(X_train, y_train, validation_split=0.33, epochs=150, \n",
    "        batch_size=10000, verbose=0, callbacks=TqdmCallback(verbose=0))"
   ]
  },
  {
   "cell_type": "markdown",
   "metadata": {},
   "source": [
    "The history object returned by the `fit` call contains the information in a fitting run."
   ]
  },
  {
   "cell_type": "code",
   "execution_count": 23,
   "metadata": {},
   "outputs": [
    {
     "name": "stdout",
     "output_type": "stream",
     "text": [
      "dict_keys(['loss', 'val_loss'])\n"
     ]
    }
   ],
   "source": [
    "print(history.history.keys())"
   ]
  },
  {
   "cell_type": "code",
   "execution_count": 28,
   "metadata": {},
   "outputs": [
    {
     "name": "stdout",
     "output_type": "stream",
     "text": [
      "final MSE for train is 0.15 and for validation is 0.15\n"
     ]
    }
   ],
   "source": [
    "print(\"final MSE for train is %.2f and for validation is %.2f\" % \n",
    "      (history.history['loss'][-1], history.history['val_loss'][-1]))"
   ]
  },
  {
   "cell_type": "markdown",
   "metadata": {},
   "source": [
    "Let's plot it!"
   ]
  },
  {
   "cell_type": "code",
   "execution_count": 24,
   "metadata": {},
   "outputs": [
    {
     "data": {
      "image/png": "[encoded data removed]",
      "text/plain": [
       "<Figure size 432x288 with 1 Axes>"
      ]
     },
     "metadata": {
      "needs_background": "light"
     },
     "output_type": "display_data"
    }
   ],
   "source": [
    "# summarize history for loss\n",
    "plt.plot(history.history['loss'], '--', c='b')\n",
    "plt.plot(history.history['val_loss'], c='crimson')\n",
    "plt.title('model loss')\n",
    "plt.ylabel('loss')\n",
    "plt.xlabel('epoch')\n",
    "plt.legend(['train', 'validation'], loc='upper left')\n",
    "plt.show()"
   ]
  },
  {
   "cell_type": "markdown",
   "metadata": {},
   "source": [
    "Let's get the MSE for the test set."
   ]
  },
  {
   "cell_type": "code",
   "execution_count": 25,
   "metadata": {},
   "outputs": [
    {
     "name": "stdout",
     "output_type": "stream",
     "text": [
      "726/726 [==============================] - 1s 818us/step - loss: 0.6302 0s - loss:\n",
      "test set mse is 0.63\n"
     ]
    }
   ],
   "source": [
    "test_loss = estimator.model.evaluate(X_test, y_test)\n",
    "print(\"test set mse is %.2f\" % test_loss)"
   ]
  },
  {
   "cell_type": "markdown",
   "metadata": {},
   "source": [
    "So our train mse is **very similar** to the training and validation at the final step!"
   ]
  },
  {
   "cell_type": "markdown",
   "metadata": {},
   "source": [
    "## Exercise: 15min Breakout room\n",
    "\n",
    "Test the following\n",
    "\n",
    "* 1) Change the **number of neurons in each layer** - do you get any errors?\n",
    "* 2) Change the **optimizer** - see [here](https://keras.io/api/optimizers/) for a list of optimzers in Keras\n",
    "* 3) Change the **activation functions** of both the hidden layer and the output layer, does your cost function final value change?\n",
    "* 4) Test the model by prediction the **unscaled `X_test_pn`**, how does the loss change? \n",
    "* 5) Train the model with the **unscaled input features** `X_train_pn` - how does the loss / cost function change?\n"
   ]
  },
  {
   "cell_type": "code",
   "execution_count": 66,
   "metadata": {},
   "outputs": [],
   "source": [
    "def simple_network_2(n1, n2, act1, act2):\n",
    "    # assemble the structure\n",
    "    model = Sequential()\n",
    "    # Note - THIS IS YOUR FIRST HIDDEN LAYER - input layer is defined by input_dim!\n",
    "    model.add(Dense(n1, input_dim=6, kernel_initializer='normal', activation=act1))\n",
    "    # This is the output layer\n",
    "    model.add(Dense(n2, kernel_initializer='normal', activation=act2))\n",
    "    # compile the model\n",
    "    model.compile(loss='mean_squared_error', optimizer='adam', metrics=['mse','mae','accuracy'])\n",
    "    return model"
   ]
  },
  {
   "cell_type": "code",
   "execution_count": 67,
   "metadata": {},
   "outputs": [
    {
     "name": "stdout",
     "output_type": "stream",
     "text": [
      "(92913, 6)\n"
     ]
    },
    {
     "data": {
      "application/vnd.jupyter.widget-view+json": {
       "model_id": "97694630a7cb4419a53feffc758248bb",
       "version_major": 2,
       "version_minor": 0
      },
      "text/plain": [
       "HBox(children=(FloatProgress(value=1.0, bar_style='info', max=1.0), HTML(value='')))"
      ]
     },
     "metadata": {},
     "output_type": "display_data"
    },
    {
     "name": "stdout",
     "output_type": "stream",
     "text": [
      "\n"
     ]
    }
   ],
   "source": [
    "# initialize the random number generator - i.e. get reproducible starting weights\n",
    "np.random.seed(seed)\n",
    "print(X_train.shape)\n",
    "# create the NN framework\n",
    "estimator = KerasRegressor(build_fn=simple_network_2,\n",
    "        epochs=150, batch_size=10000, verbose=0, n1=8, n2=2, act1='relu', act2='linear')\n",
    "history = estimator.fit(X_train, y_train, validation_split=0.33, epochs=150, \n",
    "        batch_size=10000, verbose=0, callbacks=TqdmCallback(verbose=0))"
   ]
  },
  {
   "cell_type": "code",
   "execution_count": 42,
   "metadata": {},
   "outputs": [
    {
     "name": "stdout",
     "output_type": "stream",
     "text": [
      "(92913, 6)\n"
     ]
    },
    {
     "data": {
      "application/vnd.jupyter.widget-view+json": {
       "model_id": "5092ac41e9ba494fb009f090f3e4db6f",
       "version_major": 2,
       "version_minor": 0
      },
      "text/plain": [
       "HBox(children=(FloatProgress(value=1.0, bar_style='info', max=1.0), HTML(value='')))"
      ]
     },
     "metadata": {},
     "output_type": "display_data"
    },
    {
     "name": "stdout",
     "output_type": "stream",
     "text": [
      "\n"
     ]
    }
   ],
   "source": [
    "# initialize the random number generator - i.e. get reproducible starting weights\n",
    "np.random.seed(seed)\n",
    "print(X_train.shape)\n",
    "# create the NN framework\n",
    "estimator = KerasRegressor(build_fn=simple_network_2,\n",
    "        epochs=150, batch_size=10000, verbose=0, n1=8, n2=2, act1='relu', act2='linear')\n",
    "history = estimator.fit(X_train_pn, y_train, validation_split=0.33, epochs=150, \n",
    "        batch_size=10000, verbose=0, callbacks=TqdmCallback(verbose=0))"
   ]
  },
  {
   "cell_type": "code",
   "execution_count": 43,
   "metadata": {},
   "outputs": [
    {
     "name": "stdout",
     "output_type": "stream",
     "text": [
      "726/726 [==============================] - 1s 1ms/step - loss: 21.2972\n",
      "test set mse is 21.30\n"
     ]
    }
   ],
   "source": [
    "test_loss = estimator.model.evaluate(X_test, y_test)\n",
    "print(\"test set mse is %.2f\" % test_loss)"
   ]
  },
  {
   "cell_type": "code",
   "execution_count": 44,
   "metadata": {},
   "outputs": [
    {
     "name": "stdout",
     "output_type": "stream",
     "text": [
      "726/726 [==============================] - 1s 892us/step - loss: 3.4993\n",
      "test set mse is 3.50\n"
     ]
    }
   ],
   "source": [
    "test_loss = estimator.model.evaluate(X_test_pn, y_test)\n",
    "print(\"test set mse is %.2f\" % test_loss)"
   ]
  },
  {
   "cell_type": "markdown",
   "metadata": {},
   "source": [
    "###  Let's look at another way to evaluate the set of models using cross validation\n",
    "\n",
    "Use 10 fold cross validation to evaluate the models generated from our training set.  We'll use scikit-learn's tools for this.  Remember, this is only assessing our training set.  If you get negative values, to make `cross_val_score` behave as expected, we have to flip the signs on the results (incompatibility with keras)."
   ]
  },
  {
   "cell_type": "code",
   "execution_count": 45,
   "metadata": {},
   "outputs": [
    {
     "name": "stdout",
     "output_type": "stream",
     "text": [
      "WARNING:tensorflow:5 out of the last 2056 calls to <function Model.make_test_function.<locals>.test_function at 0x7fab2b2f7f80> triggered tf.function retracing. Tracing is expensive and the excessive number of tracings could be due to (1) creating @tf.function repeatedly in a loop, (2) passing tensors with different shapes, (3) passing Python objects instead of tensors. For (1), please define your @tf.function outside of the loop. For (2), @tf.function has experimental_relax_shapes=True option that relaxes argument shapes that can avoid unnecessary retracing. For (3), please refer to https://www.tensorflow.org/tutorials/customization/performance#python_or_tensor_args and https://www.tensorflow.org/api_docs/python/tf/function for  more details.\n",
      "WARNING:tensorflow:6 out of the last 2057 calls to <function Model.make_test_function.<locals>.test_function at 0x7faad994c680> triggered tf.function retracing. Tracing is expensive and the excessive number of tracings could be due to (1) creating @tf.function repeatedly in a loop, (2) passing tensors with different shapes, (3) passing Python objects instead of tensors. For (1), please define your @tf.function outside of the loop. For (2), @tf.function has experimental_relax_shapes=True option that relaxes argument shapes that can avoid unnecessary retracing. For (3), please refer to https://www.tensorflow.org/tutorials/customization/performance#python_or_tensor_args and https://www.tensorflow.org/api_docs/python/tf/function for  more details.\n",
      "WARNING:tensorflow:7 out of the last 2058 calls to <function Model.make_test_function.<locals>.test_function at 0x7faad9e1d8c0> triggered tf.function retracing. Tracing is expensive and the excessive number of tracings could be due to (1) creating @tf.function repeatedly in a loop, (2) passing tensors with different shapes, (3) passing Python objects instead of tensors. For (1), please define your @tf.function outside of the loop. For (2), @tf.function has experimental_relax_shapes=True option that relaxes argument shapes that can avoid unnecessary retracing. For (3), please refer to https://www.tensorflow.org/tutorials/customization/performance#python_or_tensor_args and https://www.tensorflow.org/api_docs/python/tf/function for  more details.\n",
      "WARNING:tensorflow:8 out of the last 2059 calls to <function Model.make_test_function.<locals>.test_function at 0x7faad9488b90> triggered tf.function retracing. Tracing is expensive and the excessive number of tracings could be due to (1) creating @tf.function repeatedly in a loop, (2) passing tensors with different shapes, (3) passing Python objects instead of tensors. For (1), please define your @tf.function outside of the loop. For (2), @tf.function has experimental_relax_shapes=True option that relaxes argument shapes that can avoid unnecessary retracing. For (3), please refer to https://www.tensorflow.org/tutorials/customization/performance#python_or_tensor_args and https://www.tensorflow.org/api_docs/python/tf/function for  more details.\n",
      "WARNING:tensorflow:9 out of the last 2060 calls to <function Model.make_test_function.<locals>.test_function at 0x7faad96d2440> triggered tf.function retracing. Tracing is expensive and the excessive number of tracings could be due to (1) creating @tf.function repeatedly in a loop, (2) passing tensors with different shapes, (3) passing Python objects instead of tensors. For (1), please define your @tf.function outside of the loop. For (2), @tf.function has experimental_relax_shapes=True option that relaxes argument shapes that can avoid unnecessary retracing. For (3), please refer to https://www.tensorflow.org/tutorials/customization/performance#python_or_tensor_args and https://www.tensorflow.org/api_docs/python/tf/function for  more details.\n",
      "WARNING:tensorflow:10 out of the last 2061 calls to <function Model.make_test_function.<locals>.test_function at 0x7faad8309560> triggered tf.function retracing. Tracing is expensive and the excessive number of tracings could be due to (1) creating @tf.function repeatedly in a loop, (2) passing tensors with different shapes, (3) passing Python objects instead of tensors. For (1), please define your @tf.function outside of the loop. For (2), @tf.function has experimental_relax_shapes=True option that relaxes argument shapes that can avoid unnecessary retracing. For (3), please refer to https://www.tensorflow.org/tutorials/customization/performance#python_or_tensor_args and https://www.tensorflow.org/api_docs/python/tf/function for  more details.\n",
      "WARNING:tensorflow:11 out of the last 2062 calls to <function Model.make_test_function.<locals>.test_function at 0x7faad88697a0> triggered tf.function retracing. Tracing is expensive and the excessive number of tracings could be due to (1) creating @tf.function repeatedly in a loop, (2) passing tensors with different shapes, (3) passing Python objects instead of tensors. For (1), please define your @tf.function outside of the loop. For (2), @tf.function has experimental_relax_shapes=True option that relaxes argument shapes that can avoid unnecessary retracing. For (3), please refer to https://www.tensorflow.org/tutorials/customization/performance#python_or_tensor_args and https://www.tensorflow.org/api_docs/python/tf/function for  more details.\n",
      "Results: 0.34 (0.25) MSE\n"
     ]
    }
   ],
   "source": [
    "kfold = KFold(n_splits=10, random_state=seed, shuffle=True)\n",
    "\n",
    "results = cross_val_score(estimator, X_train, y_train, cv=kfold)\n",
    "print(\"Results: %.2f (%.2f) MSE\" % (-1 * results.mean(), results.std()))"
   ]
  },
  {
   "cell_type": "markdown",
   "metadata": {},
   "source": [
    "### 4. Increase complexity of NN\n",
    "\n",
    "Let's add a second hidden layer this time. Note: it is worthwhile to test how the final loss changes with number of epochs of training as well as learning rate. "
   ]
  },
  {
   "cell_type": "code",
   "execution_count": 71,
   "metadata": {},
   "outputs": [],
   "source": [
    "def medium_network():\n",
    "    # assemble the structure\n",
    "    model = Sequential()\n",
    "    model.add(Dense(600, input_dim=6, kernel_initializer='normal', activation='relu'))\n",
    "    model.add(Dense(120, kernel_initializer='normal', activation='relu'))\n",
    "    model.add(Dense(1, kernel_initializer='normal'))\n",
    "    \n",
    "    opt = keras.optimizers.Adam(learning_rate=0.9)\n",
    "    # compile the model\n",
    "    model.compile(loss='mean_squared_error', optimizer=opt)\n",
    "    return model"
   ]
  },
  {
   "cell_type": "code",
   "execution_count": 72,
   "metadata": {},
   "outputs": [
    {
     "name": "stdout",
     "output_type": "stream",
     "text": [
      "Model: \"sequential_42\"\n",
      "_________________________________________________________________\n",
      "Layer (type)                 Output Shape              Param #   \n",
      "=================================================================\n",
      "dense_100 (Dense)            (None, 600)               4200      \n",
      "_________________________________________________________________\n",
      "dense_101 (Dense)            (None, 120)               72120     \n",
      "_________________________________________________________________\n",
      "dense_102 (Dense)            (None, 1)                 121       \n",
      "=================================================================\n",
      "Total params: 76,441\n",
      "Trainable params: 76,441\n",
      "Non-trainable params: 0\n",
      "_________________________________________________________________\n"
     ]
    }
   ],
   "source": [
    "\n",
    "my_model = medium_network()\n",
    "my_model.summary()"
   ]
  },
  {
   "cell_type": "code",
   "execution_count": 73,
   "metadata": {},
   "outputs": [
    {
     "data": {
      "application/vnd.jupyter.widget-view+json": {
       "model_id": "e6bcf792ff2f412ea5cbae6ef246d866",
       "version_major": 2,
       "version_minor": 0
      },
      "text/plain": [
       "HBox(children=(FloatProgress(value=1.0, bar_style='info', max=1.0), HTML(value='')))"
      ]
     },
     "metadata": {},
     "output_type": "display_data"
    },
    {
     "name": "stdout",
     "output_type": "stream",
     "text": [
      "\n",
      "Final MSE for train is 2.489e+01 and for validation is 2.473e+01\n"
     ]
    }
   ],
   "source": [
    "# initialize the andom seed as this is used to generate\n",
    "# the starting weights\n",
    "np.random.seed(seed)\n",
    "# create the NN framework\n",
    "estimator = KerasRegressor(build_fn=medium_network,\n",
    "        epochs=150, batch_size=10000, verbose=0)\n",
    "history = estimator.fit(X_train, y_train, validation_split=0.30, epochs=150, \n",
    "        batch_size=10000, verbose=0, callbacks=TqdmCallback(verbose=0))\n",
    "\n",
    "print(\"Final MSE for train is %.3e and for validation is %.3e\" % \n",
    "      (history.history['loss'][-1], history.history['val_loss'][-1]))"
   ]
  },
  {
   "cell_type": "code",
   "execution_count": 61,
   "metadata": {},
   "outputs": [
    {
     "data": {
      "image/png": "[encoded data removed]",
      "text/plain": [
       "<Figure size 432x288 with 1 Axes>"
      ]
     },
     "metadata": {
      "needs_background": "light"
     },
     "output_type": "display_data"
    }
   ],
   "source": [
    "# summarize history for loss\n",
    "plt.plot(history.history['loss'],'--',c='b')\n",
    "plt.plot(history.history['val_loss'],c='crimson')\n",
    "plt.title('model loss')\n",
    "plt.ylabel('loss')\n",
    "plt.xlabel('epoch')\n",
    "#plt.ylim([6,8])\n",
    "plt.legend(['train', 'validation'], loc='upper left')\n",
    "plt.show()"
   ]
  },
  {
   "cell_type": "code",
   "execution_count": 62,
   "metadata": {},
   "outputs": [
    {
     "name": "stdout",
     "output_type": "stream",
     "text": [
      "726/726 [==============================] - 1s 1ms/step - loss: 0.0709A: 0s - los\n",
      "test set mse is 7.087e-02\n"
     ]
    }
   ],
   "source": [
    "test_loss = estimator.model.evaluate(X_test, y_test)\n",
    "print(\"test set mse is %.3e\" % test_loss)"
   ]
  },
  {
   "cell_type": "code",
   "execution_count": 63,
   "metadata": {},
   "outputs": [],
   "source": [
    "def medium_network(lr=0.8):\n",
    "    # assemble the structure\n",
    "    model = Sequential()\n",
    "    model.add(Dense(6, input_dim=6, kernel_initializer='normal', activation='relu'))\n",
    "    model.add(Dense(12, kernel_initializer='normal', activation='relu'))\n",
    "    model.add(Dense(1, kernel_initializer='normal'))\n",
    "    opt = keras.optimizers.Adam(learning_rate=lr)\n",
    "    # compile the model\n",
    "    model.compile(loss='mean_squared_error', optimizer=opt)\n",
    "    return model"
   ]
  },
  {
   "cell_type": "code",
   "execution_count": 64,
   "metadata": {},
   "outputs": [
    {
     "data": {
      "application/vnd.jupyter.widget-view+json": {
       "model_id": "a0226491094b456bae9c2f782a3661b0",
       "version_major": 2,
       "version_minor": 0
      },
      "text/plain": [
       "HBox(children=(FloatProgress(value=1.0, bar_style='info', max=1.0), HTML(value='')))"
      ]
     },
     "metadata": {},
     "output_type": "display_data"
    },
    {
     "name": "stdout",
     "output_type": "stream",
     "text": [
      "\n",
      "Final MSE for train is 2.142e+01 and for validation is 2.141e+01\n",
      "726/726 [==============================] - 1s 897us/step - loss: 21.69670s - loss:\n"
     ]
    },
    {
     "data": {
      "application/vnd.jupyter.widget-view+json": {
       "model_id": "8e509e191aa04225b5f8e89300f632df",
       "version_major": 2,
       "version_minor": 0
      },
      "text/plain": [
       "HBox(children=(FloatProgress(value=1.0, bar_style='info', max=1.0), HTML(value='')))"
      ]
     },
     "metadata": {},
     "output_type": "display_data"
    },
    {
     "name": "stdout",
     "output_type": "stream",
     "text": [
      "\n",
      "Final MSE for train is 1.179e+01 and for validation is 1.170e+01\n",
      "726/726 [==============================] - 1s 1ms/step - loss: 11.9112\n"
     ]
    },
    {
     "data": {
      "application/vnd.jupyter.widget-view+json": {
       "model_id": "87eb677c59a5485dab0b6f5e1cb0f474",
       "version_major": 2,
       "version_minor": 0
      },
      "text/plain": [
       "HBox(children=(FloatProgress(value=1.0, bar_style='info', max=1.0), HTML(value='')))"
      ]
     },
     "metadata": {},
     "output_type": "display_data"
    },
    {
     "name": "stdout",
     "output_type": "stream",
     "text": [
      "\n",
      "Final MSE for train is 5.312e-01 and for validation is 5.399e-01\n",
      "726/726 [==============================] - 1s 1ms/step - loss: 0.5030\n"
     ]
    },
    {
     "data": {
      "application/vnd.jupyter.widget-view+json": {
       "model_id": "68fdb703713246f2990a2140c0bf3dfb",
       "version_major": 2,
       "version_minor": 0
      },
      "text/plain": [
       "HBox(children=(FloatProgress(value=1.0, bar_style='info', max=1.0), HTML(value='')))"
      ]
     },
     "metadata": {},
     "output_type": "display_data"
    },
    {
     "name": "stdout",
     "output_type": "stream",
     "text": [
      "\n",
      "Final MSE for train is 2.324e-02 and for validation is 2.410e-02\n",
      "726/726 [==============================] - 1s 824us/step - loss: 0.0235\n"
     ]
    },
    {
     "data": {
      "application/vnd.jupyter.widget-view+json": {
       "model_id": "f43d2d12ac964e7ca49eef92b0b915fe",
       "version_major": 2,
       "version_minor": 0
      },
      "text/plain": [
       "HBox(children=(FloatProgress(value=1.0, bar_style='info', max=1.0), HTML(value='')))"
      ]
     },
     "metadata": {},
     "output_type": "display_data"
    },
    {
     "name": "stdout",
     "output_type": "stream",
     "text": [
      "\n",
      "Final MSE for train is 6.287e+00 and for validation is 6.316e+00\n",
      "726/726 [==============================] - 1s 881us/step - loss: 6.2889\n"
     ]
    }
   ],
   "source": [
    "# initialize the andom seed as this is used to generate\n",
    "# the starting weights\n",
    "np.random.seed(seed)\n",
    "# create the NN framework\n",
    "MSE = []\n",
    "lr_vals = [0.00001, 0.0001, 0.01, 0.1, 1.0]\n",
    "for lrate in lr_vals:\n",
    "    estimator = KerasRegressor(build_fn=medium_network, \n",
    "                               epochs=150, batch_size=10000, \n",
    "                               verbose=0, lr=lrate)\n",
    "    history = estimator.fit(X_train, y_train, validation_split=0.30,\n",
    "                            epochs=150, batch_size=10000, \n",
    "                            verbose=0, callbacks=TqdmCallback(verbose=0))\n",
    "    print(\"Final MSE for train is %.3e and for validation is %.3e\" % \n",
    "      (history.history['loss'][-1], history.history['val_loss'][-1]))\n",
    "    MSE.append([history.history['loss'][-1], \n",
    "                history.history['val_loss'][-1],\n",
    "                estimator.model.evaluate(X_test, y_test)])\n",
    "    \n",
    "    "
   ]
  },
  {
   "cell_type": "code",
   "execution_count": 65,
   "metadata": {},
   "outputs": [
    {
     "data": {
      "image/png": "[encoded data removed]",
      "text/plain": [
       "<Figure size 432x288 with 1 Axes>"
      ]
     },
     "metadata": {
      "needs_background": "light"
     },
     "output_type": "display_data"
    }
   ],
   "source": [
    "plt.plot(lr_vals, [m[0] for m in MSE],'-o',lw=3,label='train')\n",
    "plt.plot(lr_vals, [m[1] for m in MSE],'-.s',lw=3, label='validation')\n",
    "plt.plot(lr_vals, [m[2] for m in MSE],':>',lw=3, label='test')  \n",
    "plt.xlabel('learning rate')\n",
    "plt.ylabel('loss')\n",
    "plt.legend()\n",
    "plt.show()"
   ]
  },
  {
   "cell_type": "code",
   "execution_count": null,
   "metadata": {},
   "outputs": [],
   "source": []
  }
 ],
 "metadata": {
  "kernelspec": {
   "display_name": "Python (tunnel)",
   "language": "python",
   "name": "python3"
  },
  "language_info": {
   "codemirror_mode": {
    "name": "ipython",
    "version": 3
   },
   "file_extension": ".py",
   "mimetype": "text/x-python",
   "name": "python",
   "nbconvert_exporter": "python",
   "pygments_lexer": "ipython3",
   "version": "3.7.7"
  }
 },
 "nbformat": 4,
 "nbformat_minor": 1
}
