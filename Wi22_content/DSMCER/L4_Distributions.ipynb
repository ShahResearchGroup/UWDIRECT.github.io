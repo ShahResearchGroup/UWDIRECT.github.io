{
 "cells": [
  {
   "cell_type": "markdown",
   "metadata": {},
   "source": [
    "# Data Science Methods for Clean Energy Research \n",
    "## *Distributions, PMFs / PDFs, CDF and sampling from distributions*\n",
    "\n",
    "## Outline\n",
    "\n",
    "Today, we will explore statistical distributions, create figures of their PDFs and PMFs, calculate their CDFs, and write some code to sample from the distributions.\n",
    "\n",
    "### 1. Distribution functions\n",
    "* 1.1 Probability mass functions, PMFs - for discrete random variables\n",
    "* 1.2 Probability distribution functions, PDFs - for continuous random variables\n",
    "\n",
    "### 2. Cummulative distribution functions\n",
    "\n",
    "* 2.1 Empirical CDF\n",
    "* 2.2 Interpolated PDF to get CDF\n",
    "* 2.3 Scipy CDF's for analytical PDFs\n",
    "\n",
    "### 3. Sampling from a distribution with the inverse CDF\n",
    "\n"
   ]
  },
  {
   "cell_type": "markdown",
   "metadata": {},
   "source": [
    "## Import libraries"
   ]
  },
  {
   "cell_type": "code",
   "execution_count": 2,
   "metadata": {},
   "outputs": [],
   "source": [
    "import math\n",
    "import matplotlib\n",
    "import matplotlib.pyplot as plt\n",
    "import numpy as np\n",
    "import pandas as pd\n",
    "import scipy\n",
    "import scipy.interpolate\n",
    "import scipy.stats\n",
    "\n",
    "%matplotlib inline\n",
    "matplotlib.rcParams.update({'font.size': 20})"
   ]
  },
  {
   "cell_type": "markdown",
   "metadata": {},
   "source": [
    "## 1. Distribution functions \n",
    "\n",
    "\n",
    "### 1.1 Discrete random variable probability mass functions - PMFs\n",
    "### 1.1.1 The binomial distribution"
   ]
  },
  {
   "cell_type": "markdown",
   "metadata": {},
   "source": [
    "Recall from lecture:\n",
    "\n",
    "$$P(X=k)=P\\left(n|k\\right) = {{n}\\choose {k}}\n",
    "p^k q^{n-k} = \\frac{n!}{k!(n-k)!}p^k\\left(1-p\\right)^{n-k}$$\n",
    "\n",
    "Note, the above equation for the PMF was written using LaTeX in Markdown, for more information on LaTeX see [here](https://www.overleaf.com/learn/latex/Mathematical_expressions) is a guide to writing mathematical expressions with LaTeX."
   ]
  },
  {
   "cell_type": "markdown",
   "metadata": {},
   "source": [
    "#### Exercise 1 (in class) \n",
    "\n",
    "Create a function which describes the binomial PMF. \n",
    "\n",
    "*Hint:* look at `math.factorial` for computing factorials and `math.pow` for exponents. \n",
    "\n",
    "Note: The `math.pow` function ensures that the returned value is a `float` also it exectutes the command more rapidly than python's default `**` and is based on functions defined by the C standard. For more info see https://docs.python.org/3/library/math.html"
   ]
  },
  {
   "cell_type": "code",
   "execution_count": 3,
   "metadata": {},
   "outputs": [],
   "source": [
    "def binomial_pmf(p, n, k):\n",
    "     \n",
    "    prefactor = math.factorial(n) / ( math.factorial(k) * math.factorial(n-k) )\n",
    "   \n",
    "    probability = prefactor * math.pow(p, k) * math.pow(1-p, n-k)\n",
    "    \n",
    "    return probability"
   ]
  },
  {
   "cell_type": "markdown",
   "metadata": {},
   "source": [
    "#### Flipping a fair coin with the binomial PMF"
   ]
  },
  {
   "cell_type": "markdown",
   "metadata": {},
   "source": [
    "What is the binomial probability of getting 5 heads when flipping a fair coin 10 times?\n",
    "\n",
    "$n$ = 10, $k$ = 5 and $p$ = 1/2"
   ]
  },
  {
   "cell_type": "code",
   "execution_count": 4,
   "metadata": {},
   "outputs": [
    {
     "data": {
      "text/plain": [
       "0.24609375"
      ]
     },
     "execution_count": 4,
     "metadata": {},
     "output_type": "execute_result"
    }
   ],
   "source": [
    "binomial_pmf(0.5,10,5)"
   ]
  },
  {
   "cell_type": "markdown",
   "metadata": {},
   "source": [
    "What does the binomial distribution PMF look like as a function of $n$?\n",
    "What is the largest possible value of $k$ ?"
   ]
  },
  {
   "cell_type": "code",
   "execution_count": 5,
   "metadata": {},
   "outputs": [
    {
     "name": "stdout",
     "output_type": "stream",
     "text": [
      "[0, 1, 2]\n",
      "1\n",
      "2\n",
      "3\n",
      "[1, 2, 3]\n"
     ]
    }
   ],
   "source": [
    "print([i for i in range(3)])\n",
    "\n",
    "i=0\n",
    "for i in range(3):\n",
    "    i= i+1\n",
    "    print(i)\n",
    "    \n",
    "print([i+1 for i in range(3)])  "
   ]
  },
  {
   "cell_type": "code",
   "execution_count": 6,
   "metadata": {},
   "outputs": [
    {
     "name": "stdout",
     "output_type": "stream",
     "text": [
      "[0.000244140625, 0.0029296875, 0.01611328125, 0.0537109375, 0.120849609375, 0.193359375, 0.2255859375, 0.193359375, 0.120849609375, 0.0537109375, 0.01611328125, 0.0029296875, 0.000244140625]\n",
      "[0.000244140625, 0.0029296875, 0.01611328125, 0.0537109375, 0.120849609375, 0.193359375, 0.2255859375, 0.193359375, 0.120849609375, 0.0537109375, 0.01611328125, 0.0029296875, 0.000244140625]\n",
      "[0.000244140625, 0.0029296875, 0.01611328125, 0.0537109375, 0.120849609375, 0.193359375, 0.2255859375, 0.193359375, 0.120849609375, 0.0537109375, 0.01611328125, 0.0029296875, 0.000244140625]\n"
     ]
    }
   ],
   "source": [
    "p = 0.5    # probability of success\n",
    "n = 12     # number of observations\n",
    "\n",
    "k_list = [ 0 + i for i in range(n+1) ]   \n",
    "\n",
    "# print(k_list)\n",
    "prob_tmp = []\n",
    "for k in k_list:\n",
    "    prob_tmp.append(binomial_pmf(p,n,k))\n",
    "print(prob_tmp)\n",
    "\n",
    "# Iterates over vales of k in k_list and call the binomial pmf for each of these values of k\n",
    "prob_X_eq_k = [ binomial_pmf(p, n, k) for k in k_list ]\n",
    "print(prob_X_eq_k)\n",
    "\n",
    "# Another way to do this would be\n",
    "prob_X_eq_k = [ binomial_pmf(p, n, k) for k in np.arange(0, n+1) ]\n",
    "print(prob_X_eq_k)"
   ]
  },
  {
   "cell_type": "code",
   "execution_count": 7,
   "metadata": {},
   "outputs": [
    {
     "data": {
      "image/png": "[encoded data removed]",
      "text/plain": [
       "<Figure size 720x432 with 1 Axes>"
      ]
     },
     "metadata": {
      "needs_background": "light"
     },
     "output_type": "display_data"
    }
   ],
   "source": [
    "# Let's visualize it!\n",
    "\n",
    "choice = ['mediumorchid','thistle']\n",
    "bar_colors = [choice[j%2] for j in k_list]\n",
    "\n",
    "plt.figure(figsize=(10,6))\n",
    "plt.bar(k_list, prob_X_eq_k, color=bar_colors) \n",
    "plt.xlabel(\"$X=k$\")\n",
    "plt.ylabel(\"$P(X=k)$\")\n",
    "plt.title(\"Binomial distribution for a fair coin\",fontsize=20)\n",
    "\n",
    "plt.show()"
   ]
  },
  {
   "cell_type": "markdown",
   "metadata": {},
   "source": [
    "Try increasing $k$ a bit more ... what happens? What if you set $k$ to be a float number?"
   ]
  },
  {
   "cell_type": "code",
   "execution_count": 8,
   "metadata": {},
   "outputs": [
    {
     "ename": "ValueError",
     "evalue": "factorial() only accepts integral values",
     "output_type": "error",
     "traceback": [
      "\u001b[0;31m---------------------------------------------------------------------------\u001b[0m",
      "\u001b[0;31mValueError\u001b[0m                                Traceback (most recent call last)",
      "\u001b[0;32m/var/folders/s_/z4614v216y72w7nv6g6pmnqr0000gn/T/ipykernel_3106/25747849.py\u001b[0m in \u001b[0;36m<module>\u001b[0;34m\u001b[0m\n\u001b[0;32m----> 1\u001b[0;31m \u001b[0mbinomial_pmf\u001b[0m\u001b[0;34m(\u001b[0m\u001b[0;36m0.5\u001b[0m\u001b[0;34m,\u001b[0m\u001b[0;36m12\u001b[0m\u001b[0;34m,\u001b[0m\u001b[0;36m0.2\u001b[0m\u001b[0;34m)\u001b[0m\u001b[0;34m\u001b[0m\u001b[0;34m\u001b[0m\u001b[0m\n\u001b[0m",
      "\u001b[0;32m/var/folders/s_/z4614v216y72w7nv6g6pmnqr0000gn/T/ipykernel_3106/49047173.py\u001b[0m in \u001b[0;36mbinomial_pmf\u001b[0;34m(p, n, k)\u001b[0m\n\u001b[1;32m      1\u001b[0m \u001b[0;32mdef\u001b[0m \u001b[0mbinomial_pmf\u001b[0m\u001b[0;34m(\u001b[0m\u001b[0mp\u001b[0m\u001b[0;34m,\u001b[0m \u001b[0mn\u001b[0m\u001b[0;34m,\u001b[0m \u001b[0mk\u001b[0m\u001b[0;34m)\u001b[0m\u001b[0;34m:\u001b[0m\u001b[0;34m\u001b[0m\u001b[0;34m\u001b[0m\u001b[0m\n\u001b[1;32m      2\u001b[0m \u001b[0;34m\u001b[0m\u001b[0m\n\u001b[0;32m----> 3\u001b[0;31m     \u001b[0mprefactor\u001b[0m \u001b[0;34m=\u001b[0m \u001b[0mmath\u001b[0m\u001b[0;34m.\u001b[0m\u001b[0mfactorial\u001b[0m\u001b[0;34m(\u001b[0m\u001b[0mn\u001b[0m\u001b[0;34m)\u001b[0m \u001b[0;34m/\u001b[0m \u001b[0;34m(\u001b[0m \u001b[0mmath\u001b[0m\u001b[0;34m.\u001b[0m\u001b[0mfactorial\u001b[0m\u001b[0;34m(\u001b[0m\u001b[0mk\u001b[0m\u001b[0;34m)\u001b[0m \u001b[0;34m*\u001b[0m \u001b[0mmath\u001b[0m\u001b[0;34m.\u001b[0m\u001b[0mfactorial\u001b[0m\u001b[0;34m(\u001b[0m\u001b[0mn\u001b[0m\u001b[0;34m-\u001b[0m\u001b[0mk\u001b[0m\u001b[0;34m)\u001b[0m \u001b[0;34m)\u001b[0m\u001b[0;34m\u001b[0m\u001b[0;34m\u001b[0m\u001b[0m\n\u001b[0m\u001b[1;32m      4\u001b[0m \u001b[0;34m\u001b[0m\u001b[0m\n\u001b[1;32m      5\u001b[0m     \u001b[0mprobability\u001b[0m \u001b[0;34m=\u001b[0m \u001b[0mprefactor\u001b[0m \u001b[0;34m*\u001b[0m \u001b[0mmath\u001b[0m\u001b[0;34m.\u001b[0m\u001b[0mpow\u001b[0m\u001b[0;34m(\u001b[0m\u001b[0mp\u001b[0m\u001b[0;34m,\u001b[0m \u001b[0mk\u001b[0m\u001b[0;34m)\u001b[0m \u001b[0;34m*\u001b[0m \u001b[0mmath\u001b[0m\u001b[0;34m.\u001b[0m\u001b[0mpow\u001b[0m\u001b[0;34m(\u001b[0m\u001b[0;36m1\u001b[0m\u001b[0;34m-\u001b[0m\u001b[0mp\u001b[0m\u001b[0;34m,\u001b[0m \u001b[0mn\u001b[0m\u001b[0;34m-\u001b[0m\u001b[0mk\u001b[0m\u001b[0;34m)\u001b[0m\u001b[0;34m\u001b[0m\u001b[0;34m\u001b[0m\u001b[0m\n",
      "\u001b[0;31mValueError\u001b[0m: factorial() only accepts integral values"
     ]
    }
   ],
   "source": [
    "binomial_pmf(0.5,12,0.2)"
   ]
  },
  {
   "cell_type": "markdown",
   "metadata": {},
   "source": [
    "#### Fair versus unfair coin "
   ]
  },
  {
   "cell_type": "code",
   "execution_count": 9,
   "metadata": {},
   "outputs": [],
   "source": [
    "n1 = 40\n",
    "n2 = 100\n",
    "p1 = 0.5\n",
    "p2 = 0.8\n",
    "\n",
    "pX1 = [binomial_pmf(p1, n1, k) for k in np.arange(0, n1 + 1)]\n",
    "pX2 = [binomial_pmf(p2, n1, k) for k in np.arange(0, n1 + 1)]\n",
    "pX3 = [binomial_pmf(p2, n2, k) for k in np.arange(0, n2 + 1)]"
   ]
  },
  {
   "cell_type": "code",
   "execution_count": 10,
   "metadata": {},
   "outputs": [
    {
     "data": {
      "image/png": "[encoded data removed]",
      "text/plain": [
       "<Figure size 504x360 with 1 Axes>"
      ]
     },
     "metadata": {
      "needs_background": "light"
     },
     "output_type": "display_data"
    }
   ],
   "source": [
    "fig = plt.figure(figsize=(7, 5))\n",
    "plt.scatter(np.arange(0, n1 + 1), pX1, c='crimson', label='p='+str(p1)+' ; '+'n='+str(n1))\n",
    "plt.scatter(np.arange(0, n1 + 1), pX2, marker=\"s\", c='cornflowerblue', label='p='+str(p2)+' ; '+'n='+str(n1))\n",
    "plt.scatter(np.arange(0, n2 + 1), pX3, marker=\">\", c='royalblue', label='p='+str(p2)+' ; '+'n='+str(n2))\n",
    "plt.xlabel('$X=k$')\n",
    "plt.ylabel('$P(X=k)$')\n",
    "plt.ylim([-0.02, 0.27])\n",
    "plt.legend()\n",
    "plt.show()"
   ]
  },
  {
   "cell_type": "markdown",
   "metadata": {},
   "source": [
    "You can now reproduce the [Wikipedia plot](https://en.wikipedia.org/wiki/Binomial_distribution#/media/File:Binomial_distribution_pmf.svg). All you have to do is change the parameters!"
   ]
  },
  {
   "cell_type": "markdown",
   "metadata": {},
   "source": [
    "### 1.1.2 The Poisson distribution"
   ]
  },
  {
   "cell_type": "markdown",
   "metadata": {},
   "source": [
    "Recall the expression for the Poisson distribution, it is used to describe discrete random variable occurences within an interval"
   ]
  },
  {
   "cell_type": "markdown",
   "metadata": {},
   "source": [
    "$$ P(X=k) = \\frac{\\lambda^k e^{-\\lambda}}{k!} $$"
   ]
  },
  {
   "cell_type": "markdown",
   "metadata": {},
   "source": [
    "Let's create a function for $P(X=k)$ and include arguments for $\\lambda$ and *k*"
   ]
  },
  {
   "cell_type": "code",
   "execution_count": 11,
   "metadata": {},
   "outputs": [],
   "source": [
    "def poisson_pmf(lamb, k):\n",
    "    \n",
    "    probability = math.pow(lamb, k) * math.exp(-lamb) / math.factorial(k)\n",
    "    \n",
    "    return probability"
   ]
  },
  {
   "cell_type": "markdown",
   "metadata": {},
   "source": [
    "Let's imagine that we know that our mean and standard deviations are equal to 2, i.e. $\\lambda=2$ and see what $P_{\\text poisson}(X=k)$ looks like"
   ]
  },
  {
   "cell_type": "code",
   "execution_count": 12,
   "metadata": {},
   "outputs": [
    {
     "data": {
      "text/plain": [
       "[0.1353352832366127,\n",
       " 0.2706705664732254,\n",
       " 0.2706705664732254,\n",
       " 0.1804470443154836,\n",
       " 0.0902235221577418,\n",
       " 0.03608940886309672,\n",
       " 0.012029802954365574,\n",
       " 0.0034370865583901638,\n",
       " 0.0008592716395975409,\n",
       " 0.00019094925324389798,\n",
       " 3.8189850648779595e-05,\n",
       " 6.943609208869018e-06,\n",
       " 1.1572682014781697e-06,\n",
       " 1.7804126176587226e-07,\n",
       " 2.5434465966553178e-08,\n",
       " 3.391262128873757e-09,\n",
       " 4.2390776610921964e-10,\n",
       " 4.987150189520231e-11,\n",
       " 5.541277988355812e-12,\n",
       " 5.832924198269276e-13,\n",
       " 5.832924198269276e-14]"
      ]
     },
     "execution_count": 12,
     "metadata": {},
     "output_type": "execute_result"
    }
   ],
   "source": [
    "lamb = 2\n",
    "[poisson_pmf(lamb, k) for k in np.arange(0, 21)]"
   ]
  },
  {
   "cell_type": "markdown",
   "metadata": {},
   "source": [
    "Let's reproduce this Wikipedia plot https://en.wikipedia.org/wiki/Poisson_distribution#/media/File:Poisson_pmf.svg"
   ]
  },
  {
   "cell_type": "code",
   "execution_count": 13,
   "metadata": {},
   "outputs": [
    {
     "data": {
      "image/png": "[encoded data removed]",
      "text/plain": [
       "<Figure size 504x360 with 1 Axes>"
      ]
     },
     "metadata": {
      "needs_background": "light"
     },
     "output_type": "display_data"
    }
   ],
   "source": [
    "pX1 = [poisson_pmf(1, k) for k in np.arange(0, 21)]\n",
    "pX2 = [poisson_pmf(4, k) for k in np.arange(0, 21)]\n",
    "pX3 = [poisson_pmf(10, k) for k in np.arange(0, 21)]\n",
    "\n",
    "fig = plt.figure(figsize=(7, 5))\n",
    "\n",
    "plt.plot(np.arange(0, 21), pX1, c='grey', linewidth=2, zorder=0)\n",
    "plt.plot(np.arange(0, 21), pX2, c='grey', linewidth=2, zorder=1)\n",
    "plt.plot(np.arange(0, 21), pX3, c='grey', linewidth=2, zorder=2)\n",
    "\n",
    "plt.scatter(np.arange(0, 21), pX1, s=80, c='goldenrod', edgecolors='k', label='$\\lambda =1$', zorder=3)\n",
    "plt.scatter(np.arange(0, 21), pX2, s=80, c='purple', edgecolors='k', label='$\\lambda =4$', zorder=4)\n",
    "plt.scatter(np.arange(0, 21), pX3, s=80, c='lightsteelblue',  edgecolors='k', label='$\\lambda =10$', zorder=5)\n",
    "\n",
    "plt.legend()\n",
    "plt.ylim([0, 0.4])\n",
    "plt.ylabel(\"$P_{\\sf poisson}(X=k)$\")\n",
    "plt.xlabel(\"$X=k$\")\n",
    "\n",
    "plt.show()"
   ]
  },
  {
   "cell_type": "markdown",
   "metadata": {},
   "source": [
    "### 1.2 Continuous random variable probability distribution functions - PDFs\n",
    "\n",
    "### 1.2.1 The Gaussian distribution a.k.a the Normal distribution"
   ]
  },
  {
   "cell_type": "markdown",
   "metadata": {},
   "source": [
    "Recall from the slides, that for a given variance $\\sigma^2$ and mean $\\mu$ the probability of the random variable $X=x$ according to the Normal distribution is"
   ]
  },
  {
   "cell_type": "markdown",
   "metadata": {},
   "source": [
    "$$P(x) = \\frac{1}{\\sqrt{2 \\pi \\sigma^{2}}}e^{-\\frac{(x-\\mu)^{2}}{2\\sigma^{2}}} $$"
   ]
  },
  {
   "cell_type": "markdown",
   "metadata": {},
   "source": [
    "#### Exercise 2 (in class)\n",
    "Define a function for the Normal PDF. It should take $x$, $\\mu$, $\\sigma$ in input"
   ]
  },
  {
   "cell_type": "code",
   "execution_count": 14,
   "metadata": {},
   "outputs": [],
   "source": [
    "def normal_pdf(x, mu, sigma):\n",
    "    prefactor = math.pow( 2*math.pi*math.pow(sigma, 2), -0.5 ) \n",
    "    probability = prefactor * math.exp( -math.pow(x-mu, 2) / (2*math.pow(sigma, 2)) )\n",
    "    return probability"
   ]
  },
  {
   "cell_type": "code",
   "execution_count": 15,
   "metadata": {},
   "outputs": [
    {
     "data": {
      "text/plain": [
       "1.4867195147342977e-06"
      ]
     },
     "execution_count": 15,
     "metadata": {},
     "output_type": "execute_result"
    }
   ],
   "source": [
    "normal_pdf(5, 0, 1)"
   ]
  },
  {
   "cell_type": "markdown",
   "metadata": {},
   "source": [
    "Call the function on a list of numbers"
   ]
  },
  {
   "cell_type": "markdown",
   "metadata": {},
   "source": [
    "Hint: look at `np.linspace`"
   ]
  },
  {
   "cell_type": "code",
   "execution_count": 16,
   "metadata": {},
   "outputs": [
    {
     "data": {
      "text/plain": [
       "[7.69459862670642e-23,\n",
       " 1.6485437289111684e-18,\n",
       " 1.1662784480831181e-14,\n",
       " 2.7245281949674377e-11,\n",
       " 2.101685077170377e-08,\n",
       " 5.353419200482968e-06,\n",
       " 0.00045027946514195825,\n",
       " 0.012506054257598969,\n",
       " 0.11469533473205255,\n",
       " 0.34734293966681634,\n",
       " 0.3473429396668167,\n",
       " 0.11469533473205289,\n",
       " 0.012506054257598969,\n",
       " 0.00045027946514195825,\n",
       " 5.353419200482986e-06,\n",
       " 2.1016850771703843e-08,\n",
       " 2.7245281949674474e-11,\n",
       " 1.1662784480831181e-14,\n",
       " 1.648543728911192e-18,\n",
       " 7.69459862670642e-23]"
      ]
     },
     "execution_count": 16,
     "metadata": {},
     "output_type": "execute_result"
    }
   ],
   "source": [
    "[ normal_pdf(x, 0, 1) for x in np.linspace(-10, 10, 20) ]"
   ]
  },
  {
   "cell_type": "markdown",
   "metadata": {},
   "source": [
    "Let's plot the **Standard Normal PDF**"
   ]
  },
  {
   "cell_type": "code",
   "execution_count": 17,
   "metadata": {},
   "outputs": [
    {
     "data": {
      "image/png": "[encoded data removed]",
      "text/plain": [
       "<Figure size 576x360 with 1 Axes>"
      ]
     },
     "metadata": {
      "needs_background": "light"
     },
     "output_type": "display_data"
    }
   ],
   "source": [
    "pX = [normal_pdf(x, 0, 1.0) for x in np.linspace(-5, 5, 100)]\n",
    "\n",
    "fig = plt.figure(figsize=(8,5))\n",
    "ax1 = plt.plot(np.linspace(-5, 5, 100), pX, c='purple', linewidth=3, label='$\\mu$=0, $\\sigma^{2}$=1')\n",
    "plt.legend(loc='upper right')\n",
    "plt.xlabel('$x$')\n",
    "plt.ylabel('$P(x)$')\n",
    "plt.grid(True)\n",
    "plt.minorticks_on()\n",
    "plt.tick_params(direction='in', length=10)\n",
    "plt.tick_params(which='minor', direction='in', length=5)\n",
    "plt.show()"
   ]
  },
  {
   "cell_type": "markdown",
   "metadata": {},
   "source": [
    "### 2. Cummulative distribution functions"
   ]
  },
  {
   "cell_type": "markdown",
   "metadata": {},
   "source": [
    "Let's look at the CDF for an empirical distribution. Recall this from our descriptive statistics notebook."
   ]
  },
  {
   "cell_type": "code",
   "execution_count": 19,
   "metadata": {},
   "outputs": [
    {
     "data": {
      "text/html": [
       "<div>\n",
       "<style scoped>\n",
       "    .dataframe tbody tr th:only-of-type {\n",
       "        vertical-align: middle;\n",
       "    }\n",
       "\n",
       "    .dataframe tbody tr th {\n",
       "        vertical-align: top;\n",
       "    }\n",
       "\n",
       "    .dataframe thead th {\n",
       "        text-align: right;\n",
       "    }\n",
       "</style>\n",
       "<table border=\"1\" class=\"dataframe\">\n",
       "  <thead>\n",
       "    <tr style=\"text-align: right;\">\n",
       "      <th></th>\n",
       "      <th>id</th>\n",
       "      <th>mass</th>\n",
       "      <th>pce</th>\n",
       "      <th>voc</th>\n",
       "      <th>jsc</th>\n",
       "      <th>e_homo_alpha</th>\n",
       "      <th>e_gap_alpha</th>\n",
       "      <th>e_lumo_alpha</th>\n",
       "    </tr>\n",
       "  </thead>\n",
       "  <tbody>\n",
       "    <tr>\n",
       "      <th>count</th>\n",
       "      <td>2.323000e+03</td>\n",
       "      <td>2323.000000</td>\n",
       "      <td>2323.000000</td>\n",
       "      <td>2323.000000</td>\n",
       "      <td>2323.000000</td>\n",
       "      <td>2323.000000</td>\n",
       "      <td>2323.000000</td>\n",
       "      <td>2323.000000</td>\n",
       "    </tr>\n",
       "    <tr>\n",
       "      <th>mean</th>\n",
       "      <td>1.305101e+06</td>\n",
       "      <td>415.002477</td>\n",
       "      <td>3.913857</td>\n",
       "      <td>0.557614</td>\n",
       "      <td>118.577247</td>\n",
       "      <td>-5.178738</td>\n",
       "      <td>1.889886</td>\n",
       "      <td>-3.288852</td>\n",
       "    </tr>\n",
       "    <tr>\n",
       "      <th>std</th>\n",
       "      <td>8.397261e+05</td>\n",
       "      <td>60.670366</td>\n",
       "      <td>2.457044</td>\n",
       "      <td>0.305108</td>\n",
       "      <td>65.466644</td>\n",
       "      <td>0.303099</td>\n",
       "      <td>0.396063</td>\n",
       "      <td>0.388055</td>\n",
       "    </tr>\n",
       "    <tr>\n",
       "      <th>min</th>\n",
       "      <td>2.300000e+01</td>\n",
       "      <td>234.257000</td>\n",
       "      <td>0.000000</td>\n",
       "      <td>0.000000</td>\n",
       "      <td>0.000000</td>\n",
       "      <td>-6.493926</td>\n",
       "      <td>0.772928</td>\n",
       "      <td>-4.263529</td>\n",
       "    </tr>\n",
       "    <tr>\n",
       "      <th>25%</th>\n",
       "      <td>6.073465e+05</td>\n",
       "      <td>377.475500</td>\n",
       "      <td>2.097033</td>\n",
       "      <td>0.350138</td>\n",
       "      <td>70.110316</td>\n",
       "      <td>-5.371676</td>\n",
       "      <td>1.603534</td>\n",
       "      <td>-3.583958</td>\n",
       "    </tr>\n",
       "    <tr>\n",
       "      <th>50%</th>\n",
       "      <td>1.211175e+06</td>\n",
       "      <td>414.532000</td>\n",
       "      <td>3.415092</td>\n",
       "      <td>0.538179</td>\n",
       "      <td>109.541059</td>\n",
       "      <td>-5.155051</td>\n",
       "      <td>1.879020</td>\n",
       "      <td>-3.276387</td>\n",
       "    </tr>\n",
       "    <tr>\n",
       "      <th>75%</th>\n",
       "      <td>1.898683e+06</td>\n",
       "      <td>456.501500</td>\n",
       "      <td>5.533680</td>\n",
       "      <td>0.751258</td>\n",
       "      <td>160.317837</td>\n",
       "      <td>-4.974243</td>\n",
       "      <td>2.161244</td>\n",
       "      <td>-3.010774</td>\n",
       "    </tr>\n",
       "    <tr>\n",
       "      <th>max</th>\n",
       "      <td>3.102078e+06</td>\n",
       "      <td>592.571000</td>\n",
       "      <td>10.977521</td>\n",
       "      <td>1.893926</td>\n",
       "      <td>365.432122</td>\n",
       "      <td>-4.175592</td>\n",
       "      <td>3.174234</td>\n",
       "      <td>-2.002149</td>\n",
       "    </tr>\n",
       "  </tbody>\n",
       "</table>\n",
       "</div>"
      ],
      "text/plain": [
       "                 id         mass          pce          voc          jsc  \\\n",
       "count  2.323000e+03  2323.000000  2323.000000  2323.000000  2323.000000   \n",
       "mean   1.305101e+06   415.002477     3.913857     0.557614   118.577247   \n",
       "std    8.397261e+05    60.670366     2.457044     0.305108    65.466644   \n",
       "min    2.300000e+01   234.257000     0.000000     0.000000     0.000000   \n",
       "25%    6.073465e+05   377.475500     2.097033     0.350138    70.110316   \n",
       "50%    1.211175e+06   414.532000     3.415092     0.538179   109.541059   \n",
       "75%    1.898683e+06   456.501500     5.533680     0.751258   160.317837   \n",
       "max    3.102078e+06   592.571000    10.977521     1.893926   365.432122   \n",
       "\n",
       "       e_homo_alpha  e_gap_alpha  e_lumo_alpha  \n",
       "count   2323.000000  2323.000000   2323.000000  \n",
       "mean      -5.178738     1.889886     -3.288852  \n",
       "std        0.303099     0.396063      0.388055  \n",
       "min       -6.493926     0.772928     -4.263529  \n",
       "25%       -5.371676     1.603534     -3.583958  \n",
       "50%       -5.155051     1.879020     -3.276387  \n",
       "75%       -4.974243     2.161244     -3.010774  \n",
       "max       -4.175592     3.174234     -2.002149  "
      ]
     },
     "execution_count": 19,
     "metadata": {},
     "output_type": "execute_result"
    }
   ],
   "source": [
    "data = pd.read_csv('http://faculty.washington.edu/dacb/HCEPDB_moldata.zip') # Make sure you have the correct path specified\n",
    "\n",
    "population = data.sample(frac = 0.001) \n",
    "population.describe()"
   ]
  },
  {
   "cell_type": "markdown",
   "metadata": {},
   "source": [
    "Let's plot our `'mass'` column again"
   ]
  },
  {
   "cell_type": "code",
   "execution_count": 20,
   "metadata": {},
   "outputs": [
    {
     "data": {
      "text/plain": [
       "<AxesSubplot:>"
      ]
     },
     "execution_count": 20,
     "metadata": {},
     "output_type": "execute_result"
    },
    {
     "data": {
      "image/png": "[encoded data removed]",
      "text/plain": [
       "<Figure size 432x288 with 1 Axes>"
      ]
     },
     "metadata": {
      "needs_background": "light"
     },
     "output_type": "display_data"
    }
   ],
   "source": [
    "population['mass'].hist(bins=30, color='royalblue')"
   ]
  },
  {
   "cell_type": "markdown",
   "metadata": {},
   "source": [
    "### 2.1 Empirical CDF"
   ]
  },
  {
   "cell_type": "markdown",
   "metadata": {},
   "source": [
    "Now we want to compute the cummulative distribution function of this discrete data set \n",
    "$F_X(x) = \\sum_{i=0}^{\\left\\lfloor k \\right\\rfloor\n",
    "}P(X=i)$, we can approximate it as the normalized sum of counts $C_k$ up to the $k-th$ bin of width $\\Delta k$ with $N_{bins}$ from our histogram, i.e.\n",
    "\n",
    "$$F_X(k) \\approx \\sum_{j=1}^{N_k} C_j \\cdot \\Delta j$$\n"
   ]
  },
  {
   "cell_type": "code",
   "execution_count": 21,
   "metadata": {},
   "outputs": [
    {
     "data": {
      "image/png": "[encoded data removed]",
      "text/plain": [
       "<Figure size 432x288 with 1 Axes>"
      ]
     },
     "metadata": {
      "needs_background": "light"
     },
     "output_type": "display_data"
    }
   ],
   "source": [
    "num_bins = 30\n",
    "counts, bin_edges = np.histogram(population['mass'].values, bins=num_bins, density=True)\n",
    "cdf = np.cumsum(counts*np.diff(bin_edges))\n",
    "plt.plot (bin_edges[1:], cdf, '->', color='royalblue') \n",
    "plt.xlabel('x')\n",
    "plt.ylabel('$F_X(x)$ Empirical CDF')\n",
    "plt.show()"
   ]
  },
  {
   "cell_type": "markdown",
   "metadata": {},
   "source": [
    "### 2.2 Interpolating to compute the empirical CDF"
   ]
  },
  {
   "cell_type": "markdown",
   "metadata": {},
   "source": [
    "If you aren't sure what interpolation is, read [this](https://en.wikipedia.org/wiki/Interpolation). We will look at an example of interpolation when we introduce the concept of Regression, in that case we will consider linear interpolation.\n",
    "\n",
    "We will procede as above and interpolate our CDF bins to get a smoother function."
   ]
  },
  {
   "cell_type": "code",
   "execution_count": null,
   "metadata": {},
   "outputs": [],
   "source": [
    "def inverse_cdf(data, set_bins=40):\n",
    "    \n",
    "    hist_data, bin_edges = np.histogram(data, bins=set_bins, density=True)\n",
    "    cdf_bins = np.cumsum(hist_data * np.diff(bin_edges))\n",
    "    cdf_bins = np.insert(cdf_bins, 0, 0)\n",
    "    \n",
    "    inv_cdf = scipy.interpolate.interp1d(cdf_bins, bin_edges)\n",
    "    cdf = scipy.interpolate.interp1d(bin_edges, cdf_bins)\n",
    "    \n",
    "    return [cdf, inv_cdf]"
   ]
  },
  {
   "cell_type": "markdown",
   "metadata": {},
   "source": [
    "Use the cell below to call our function with `set_bins = 30`"
   ]
  },
  {
   "cell_type": "code",
   "execution_count": null,
   "metadata": {},
   "outputs": [],
   "source": []
  },
  {
   "cell_type": "markdown",
   "metadata": {},
   "source": [
    "Let's plot the CDF!"
   ]
  },
  {
   "cell_type": "code",
   "execution_count": 22,
   "metadata": {},
   "outputs": [],
   "source": [
    "xmin = np.min(population['mass'].values)\n",
    "xmax = np.max(population['mass'].values)\n",
    "x = np.linspace(xmin, xmax, 1000)"
   ]
  },
  {
   "cell_type": "code",
   "execution_count": 23,
   "metadata": {},
   "outputs": [
    {
     "ename": "TypeError",
     "evalue": "'numpy.ndarray' object is not callable",
     "output_type": "error",
     "traceback": [
      "\u001b[0;31m---------------------------------------------------------------------------\u001b[0m",
      "\u001b[0;31mTypeError\u001b[0m                                 Traceback (most recent call last)",
      "\u001b[0;32m/var/folders/s_/z4614v216y72w7nv6g6pmnqr0000gn/T/ipykernel_3106/2956217883.py\u001b[0m in \u001b[0;36m<module>\u001b[0;34m\u001b[0m\n\u001b[1;32m      1\u001b[0m \u001b[0mplt\u001b[0m\u001b[0;34m.\u001b[0m\u001b[0mfigure\u001b[0m\u001b[0;34m(\u001b[0m\u001b[0;34m)\u001b[0m\u001b[0;34m\u001b[0m\u001b[0;34m\u001b[0m\u001b[0m\n\u001b[0;32m----> 2\u001b[0;31m \u001b[0mplt\u001b[0m\u001b[0;34m.\u001b[0m\u001b[0mplot\u001b[0m\u001b[0;34m(\u001b[0m\u001b[0mx\u001b[0m\u001b[0;34m,\u001b[0m \u001b[0mcdf\u001b[0m\u001b[0;34m(\u001b[0m\u001b[0mx\u001b[0m\u001b[0;34m)\u001b[0m\u001b[0;34m,\u001b[0m\u001b[0;34m'-'\u001b[0m\u001b[0;34m,\u001b[0m\u001b[0mlw\u001b[0m\u001b[0;34m=\u001b[0m\u001b[0;34m'3'\u001b[0m\u001b[0;34m,\u001b[0m\u001b[0mcolor\u001b[0m\u001b[0;34m=\u001b[0m\u001b[0;34m'royalblue'\u001b[0m\u001b[0;34m)\u001b[0m\u001b[0;34m\u001b[0m\u001b[0;34m\u001b[0m\u001b[0m\n\u001b[0m\u001b[1;32m      3\u001b[0m \u001b[0mplt\u001b[0m\u001b[0;34m.\u001b[0m\u001b[0mxlabel\u001b[0m\u001b[0;34m(\u001b[0m\u001b[0;34m'x'\u001b[0m\u001b[0;34m)\u001b[0m\u001b[0;34m\u001b[0m\u001b[0;34m\u001b[0m\u001b[0m\n\u001b[1;32m      4\u001b[0m \u001b[0mplt\u001b[0m\u001b[0;34m.\u001b[0m\u001b[0mylabel\u001b[0m\u001b[0;34m(\u001b[0m\u001b[0;34m'$F_X(x)$ Empirical CDF'\u001b[0m\u001b[0;34m)\u001b[0m\u001b[0;34m\u001b[0m\u001b[0;34m\u001b[0m\u001b[0m\n\u001b[1;32m      5\u001b[0m \u001b[0mplt\u001b[0m\u001b[0;34m.\u001b[0m\u001b[0mshow\u001b[0m\u001b[0;34m(\u001b[0m\u001b[0;34m)\u001b[0m\u001b[0;34m\u001b[0m\u001b[0;34m\u001b[0m\u001b[0m\n",
      "\u001b[0;31mTypeError\u001b[0m: 'numpy.ndarray' object is not callable"
     ]
    },
    {
     "data": {
      "text/plain": [
       "<Figure size 432x288 with 0 Axes>"
      ]
     },
     "metadata": {},
     "output_type": "display_data"
    }
   ],
   "source": [
    "plt.figure()\n",
    "plt.plot(x, cdf(x),'-',lw='3',color='royalblue')\n",
    "plt.xlabel('x')\n",
    "plt.ylabel('$F_X(x)$ Empirical CDF')\n",
    "plt.show()"
   ]
  },
  {
   "cell_type": "markdown",
   "metadata": {},
   "source": [
    "### 2.3 Some CDFs are implemented in scipy "
   ]
  },
  {
   "cell_type": "markdown",
   "metadata": {},
   "source": [
    "Many CDFs are implemented in scipy, for more info see [here](https://docs.scipy.org/doc/scipy/reference/stats.html).\n",
    "\n",
    "Let's look at a Normal distribution"
   ]
  },
  {
   "cell_type": "code",
   "execution_count": null,
   "metadata": {},
   "outputs": [],
   "source": [
    "x = np.linspace(-15,15, 100) \n",
    "\n",
    "fig, ax = plt.subplots(1,2, figsize=(11,4))\n",
    "\n",
    "\n",
    "ax[1].plot(x,scipy.stats.norm.cdf(x),'-', lw=3, color='cornflowerblue', label='CDF')\n",
    "\n",
    "ax[1].set_xlabel('x')\n",
    "ax[1].set_ylabel('$F_X(x)$')\n",
    "ax[1].legend(loc='upper left')\n",
    "\n",
    "\n",
    "ax[0].plot(x, scipy.stats.norm.pdf(x),'-', lw=3, color='purple', label='PDF')\n",
    "\n",
    "ax[0].set_ylabel('$P(X=x)$')\n",
    "ax[0].set_xlabel('x')\n",
    "ax[0].legend(loc='upper left')\n",
    "\n",
    "plt.tight_layout()"
   ]
  },
  {
   "cell_type": "markdown",
   "metadata": {},
   "source": [
    "For a binomial distribution"
   ]
  },
  {
   "cell_type": "code",
   "execution_count": null,
   "metadata": {},
   "outputs": [],
   "source": [
    "x = np.linspace(1,20, 20)\n",
    "# n = 10 ; p = 0.5\n",
    "cdf_x = scipy.stats.binom.cdf(x, 10, 0.5)\n",
    "pmf_x = scipy.stats.binom.pmf(x, 10, 0.5)\n",
    "rv = scipy.stats.binom(10, 0.5)\n",
    "\n",
    "\n",
    "fig, ax = plt.subplots(1,2, figsize=(11,4))\n",
    "\n",
    "ax[0].plot(x, pmf_x,'o', lw=2, color='plum', markeredgecolor='purple', markersize=10, label='binom pmf')\n",
    "ax[0].vlines(x, 0, rv.pmf(x), colors='salmon', linestyles='-', lw=2, label='frozen pmf')\n",
    "ax[0].set_xlabel('k')\n",
    "ax[0].set_ylabel('$P(X=k)$')\n",
    "ax[0].legend()\n",
    "\n",
    "\n",
    "ax[1].plot(x, cdf_x,'o', lw=2, color='cornflowerblue', markeredgecolor='midnightblue', markersize=10, label='binom cdf')\n",
    "ax[1].vlines(x, 0, rv.cdf(x), colors='lightblue',  linestyles='-', lw=2, label='frozen cdf')\n",
    "ax[1].set_ylabel('$F_X(k)$')\n",
    "ax[1].set_xlabel('k')\n",
    "ax[1].legend()\n",
    "\n",
    "plt.tight_layout()\n"
   ]
  },
  {
   "cell_type": "markdown",
   "metadata": {},
   "source": [
    "## 3. Sampling from distributions using the inverse CDF"
   ]
  },
  {
   "cell_type": "code",
   "execution_count": null,
   "metadata": {},
   "outputs": [],
   "source": [
    "zero2one = np.linspace(0, .9999, num=100)"
   ]
  },
  {
   "cell_type": "markdown",
   "metadata": {},
   "source": [
    "Let's begin by plotting the inverse CDF"
   ]
  },
  {
   "cell_type": "code",
   "execution_count": null,
   "metadata": {},
   "outputs": [],
   "source": [
    "plt.figure(figsize=(6, 5))\n",
    "plt.plot(zero2one, inv_cdf(zero2one),lw=3,color=\"chocolate\")\n",
    "plt.xlabel(\"x\")\n",
    "plt.ylabel(\"$F^{-1}_X(x)$\")\n",
    "plt.show()"
   ]
  },
  {
   "cell_type": "markdown",
   "metadata": {},
   "source": [
    "Now we can sample from our inverse CDF to generate values from our empirical distribution"
   ]
  },
  {
   "cell_type": "markdown",
   "metadata": {},
   "source": [
    "Let's do that with `np.random.rand`. Why are we using this random function? What is special about how it works that makes it useful with inverse CDF?"
   ]
  },
  {
   "cell_type": "markdown",
   "metadata": {},
   "source": [
    "OK, let's put this together with something like:\n",
    "\n",
    "`sample = inv_cdf(np.random.rand(1000))`"
   ]
  },
  {
   "cell_type": "code",
   "execution_count": null,
   "metadata": {},
   "outputs": [],
   "source": [
    "sample = inv_cdf(np.random.rand(1000))"
   ]
  },
  {
   "cell_type": "markdown",
   "metadata": {},
   "source": [
    "Now make a histogram of sample and set the bins to 100. How does it look? What happens when you increase the argument to `np.random.rand`?"
   ]
  },
  {
   "cell_type": "markdown",
   "metadata": {},
   "source": [
    "Recall our original distribution"
   ]
  },
  {
   "cell_type": "code",
   "execution_count": null,
   "metadata": {},
   "outputs": [],
   "source": [
    "population['mass'].hist(bins=100, color='royalblue')"
   ]
  },
  {
   "cell_type": "markdown",
   "metadata": {},
   "source": [
    "#### Exercise 3 (in class)\n",
    "Make your histogram hereafter and play with the number of points in your sample! "
   ]
  },
  {
   "cell_type": "code",
   "execution_count": null,
   "metadata": {},
   "outputs": [],
   "source": []
  },
  {
   "cell_type": "code",
   "execution_count": null,
   "metadata": {},
   "outputs": [],
   "source": []
  }
 ],
 "metadata": {
  "kernelspec": {
   "display_name": "Python 3 (ipykernel)",
   "language": "python",
   "name": "python3"
  },
  "language_info": {
   "codemirror_mode": {
    "name": "ipython",
    "version": 3
   },
   "file_extension": ".py",
   "mimetype": "text/x-python",
   "name": "python",
   "nbconvert_exporter": "python",
   "pygments_lexer": "ipython3",
   "version": "3.8.10"
  }
 },
 "nbformat": 4,
 "nbformat_minor": 2
}
