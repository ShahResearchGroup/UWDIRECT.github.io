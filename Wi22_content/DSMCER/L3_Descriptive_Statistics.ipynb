{
 "cells": [
  {
   "cell_type": "markdown",
   "metadata": {},
   "source": [
    "# Data Science Methods for Clean Energy Research \n",
    "## *Descriptive Statistics*\n",
    "\n",
    "## Outline\n",
    "### 1. Computing the mean median and variance of a dataset population\n",
    "### 2. Drawing samples and Distribution of sample mean & variance \n",
    "### 3. Bootstrapping\n"
   ]
  },
  {
   "cell_type": "markdown",
   "metadata": {},
   "source": [
    "---"
   ]
  },
  {
   "cell_type": "markdown",
   "metadata": {},
   "source": [
    "## Import libraries and dataset"
   ]
  },
  {
   "cell_type": "markdown",
   "metadata": {},
   "source": [
    "We import the libraries we will need to use"
   ]
  },
  {
   "cell_type": "code",
   "execution_count": null,
   "metadata": {},
   "outputs": [],
   "source": [
    "import pandas as pd\n",
    "import numpy as np\n",
    "import matplotlib\n",
    "import matplotlib.pyplot as plt\n",
    "\n",
    "from IPython.display import clear_output, display\n",
    "%matplotlib inline\n",
    "matplotlib.rcParams.update({'font.size': 22})"
   ]
  },
  {
   "cell_type": "markdown",
   "metadata": {},
   "source": [
    "You can find many datasets on kaggle, ranging from search for exoplanets to world happiness!\n",
    "\n",
    "https://www.kaggle.com/unsdsn/world-happiness"
   ]
  },
  {
   "cell_type": "code",
   "execution_count": null,
   "metadata": {},
   "outputs": [],
   "source": [
    "df = pd.read_csv('datasets/2015.csv')\n",
    "df.describe()"
   ]
  },
  {
   "cell_type": "markdown",
   "metadata": {},
   "source": [
    "We will assume that this dataset is complete and that somehow it is the full **population**. In reality it would still be a sample. Let's look at a histogram of the 'Happiness Score', the histogram is a representation of the **distribution** of the population of Happiness Scores."
   ]
  },
  {
   "cell_type": "code",
   "execution_count": null,
   "metadata": {},
   "outputs": [],
   "source": [
    "df['Happiness Score'].hist(bins=18, color='royalblue', alpha=0.8)\n",
    "plt.xlabel('Happiness Score')\n",
    "plt.ylabel('Distribution of \\n Happiness Score population')\n",
    "plt.show()"
   ]
  },
  {
   "cell_type": "markdown",
   "metadata": {},
   "source": [
    "We can see that the population isn't normally distributed - **does not follow** a perfect Gaussian or Normal distribution:\n",
    "\n",
    "$$p(x) = \\frac{1}{\\sqrt{ 2 \\pi \\sigma^2 }} e^{ - \\frac{ (x - \\mu)^2 } {2 \\sigma^2} }$$"
   ]
  },
  {
   "cell_type": "code",
   "execution_count": null,
   "metadata": {},
   "outputs": [],
   "source": [
    "df['Happiness Score'].hist(bins=18, density=True, color='royalblue',alpha=0.8)\n",
    "plt.xlabel('Happiness Score')\n",
    "plt.ylabel('Probability distribution of \\n Happiness Score population')\n",
    "\n",
    "# Let's see what the best gaussian would look like\n",
    "sigma = 1.145010\n",
    "mu = 5.375734\n",
    "bins = np.linspace(2.839000,7.587000,30)\n",
    "plt.plot(bins, 1/(sigma * np.sqrt(2 * np.pi)) * np.exp( - (bins - mu)**2 / (2 * sigma**2) ),linewidth=4, color='red')\n",
    "plt.show()"
   ]
  },
  {
   "cell_type": "markdown",
   "metadata": {},
   "source": [
    "What if we estimated the probability distribution using a [kernel density estimate](https://en.wikipedia.org/wiki/Kernel_density_estimation)? .. we will see it is not a Gaussian distribution yet again."
   ]
  },
  {
   "cell_type": "code",
   "execution_count": null,
   "metadata": {},
   "outputs": [],
   "source": [
    "df['Happiness Score'].plot.kde(linewidth=4,color=\"crimson\")\n",
    "plt.xlabel('Happiness Score')\n",
    "plt.ylabel('Probability distribution of \\n Happiness Score population')"
   ]
  },
  {
   "cell_type": "markdown",
   "metadata": {},
   "source": [
    "## 1) Computing the mean, median, standard deviation and variance\n",
    "\n",
    "Wait how did I get the **mean** and **standard** deviation? Well we assumed we had the entire population so we computed it simply as \n",
    "\n",
    "$${\\mu}=\\frac{\\sum_{i=1}^N X_i}{N}$$ \n",
    "\n",
    "$$\\sigma=\\sqrt{\\sum_{i=1}^N\\frac{(X_i-\\mu)^2}{N}}$$\n"
   ]
  },
  {
   "cell_type": "code",
   "execution_count": null,
   "metadata": {},
   "outputs": [],
   "source": [
    "N = len(df['Happiness Score'].values )\n",
    "print(N)\n",
    "mean = np.sum( df['Happiness Score'].values ) / N \n",
    "print(mean)\n",
    "mean = 0.0\n",
    "for i in range(N):\n",
    "    mean = mean + df['Happiness Score'].values[i]\n",
    "mean = mean /N\n",
    "print(mean)"
   ]
  },
  {
   "cell_type": "code",
   "execution_count": null,
   "metadata": {},
   "outputs": [],
   "source": [
    "df['Happiness Score'].describe()"
   ]
  },
  {
   "cell_type": "markdown",
   "metadata": {},
   "source": [
    "### Exercise 1: Compute the standard deviation and variance "
   ]
  },
  {
   "cell_type": "code",
   "execution_count": null,
   "metadata": {},
   "outputs": [],
   "source": []
  },
  {
   "cell_type": "code",
   "execution_count": null,
   "metadata": {},
   "outputs": [],
   "source": []
  },
  {
   "cell_type": "code",
   "execution_count": null,
   "metadata": {},
   "outputs": [],
   "source": []
  },
  {
   "cell_type": "code",
   "execution_count": null,
   "metadata": {},
   "outputs": [],
   "source": []
  },
  {
   "cell_type": "markdown",
   "metadata": {},
   "source": [
    "Slightly different standard deviation? Because describe computes std as the corrected sample standard deviation which is unbiased\n",
    "\n",
    "$$\\sigma=\\sqrt{\\sum_{i=1}^{N}\\frac{(X_i-\\mu)^2}{N-1}}$$"
   ]
  },
  {
   "cell_type": "code",
   "execution_count": null,
   "metadata": {},
   "outputs": [],
   "source": []
  },
  {
   "cell_type": "markdown",
   "metadata": {},
   "source": [
    "### Exercise 2: Compute the median "
   ]
  },
  {
   "cell_type": "code",
   "execution_count": null,
   "metadata": {},
   "outputs": [],
   "source": []
  },
  {
   "cell_type": "markdown",
   "metadata": {},
   "source": [
    "Where do these values end up on the plot?"
   ]
  },
  {
   "cell_type": "code",
   "execution_count": null,
   "metadata": {},
   "outputs": [],
   "source": [
    "df['Happiness Score'].hist(bins=18,density=True,color='royalblue',alpha=0.8)\n",
    "df['Happiness Score'].plot.kde(linewidth=4,color=\"crimson\")\n",
    "plt.plot(median*np.ones(10),np.linspace(0,0.5,10),lw=3,color='black',label='median')\n",
    "plt.plot(mean*np.ones(10),np.linspace(0,0.5,10),lw=3,color='limegreen',label='mean')\n",
    "plt.xlabel('Happiness Score')\n",
    "plt.ylabel('Probability distribution of \\n Happiness Score population')\n",
    "plt.legend(bbox_to_anchor=(1.05, 1), loc='upper left', fontsize='small')\n",
    "plt.xlim([2.6,7.6])"
   ]
  },
  {
   "cell_type": "markdown",
   "metadata": {},
   "source": [
    "## 2) Sampling from a population, sample distributions & the central limit theorem"
   ]
  },
  {
   "cell_type": "markdown",
   "metadata": {},
   "source": [
    "Let's go back to our Clean Energy Project database and load the data. Note: make sure you have the correct path to that file."
   ]
  },
  {
   "cell_type": "code",
   "execution_count": null,
   "metadata": {},
   "outputs": [],
   "source": [
    "data = pd.read_csv('http://faculty.washington.edu/dacb/HCEPDB_moldata.zip')"
   ]
  },
  {
   "cell_type": "code",
   "execution_count": null,
   "metadata": {},
   "outputs": [],
   "source": [
    "data.describe()"
   ]
  },
  {
   "cell_type": "markdown",
   "metadata": {},
   "source": [
    "This dataset is huge! We will take a random slice and assume that our slice represents a full population (again this is actually a large sample) and look at the mass values. We are making this approximation to accelerate the calculations in the notebook."
   ]
  },
  {
   "cell_type": "code",
   "execution_count": null,
   "metadata": {},
   "outputs": [],
   "source": [
    "population = data.sample(frac = 0.05) \n",
    "population.describe()"
   ]
  },
  {
   "cell_type": "code",
   "execution_count": null,
   "metadata": {},
   "outputs": [],
   "source": [
    "true_mean = population['mass'].mean()\n",
    "true_stdev = population['mass'].std()\n",
    "print(\"pop mean\", true_mean, \"pop stdev\", true_stdev)"
   ]
  },
  {
   "cell_type": "code",
   "execution_count": null,
   "metadata": {},
   "outputs": [],
   "source": [
    "population['mass'].plot.hist(bins=50, color='violet')"
   ]
  },
  {
   "cell_type": "code",
   "execution_count": null,
   "metadata": {},
   "outputs": [],
   "source": [
    "population['mass'].plot.kde(color='purple',lw=4)"
   ]
  },
  {
   "cell_type": "markdown",
   "metadata": {},
   "source": [
    "Our goal is to **sample** from the mass values to attempt to compute the true population mean and standard deviation. Let's write a function that samples the  dataframe with an argument *n* that is the number of samples to take. We want to sample without replacement."
   ]
  },
  {
   "cell_type": "code",
   "execution_count": null,
   "metadata": {},
   "outputs": [],
   "source": [
    "def draw_sample(df, column, n):\n",
    "    subset_indices = np.random.choice(np.array(list(df[column].index)), size=n, replace=True)\n",
    "    sample = pd.DataFrame(data=df[column][subset_indices].values, columns=['sample'])\n",
    "    return sample"
   ]
  },
  {
   "cell_type": "code",
   "execution_count": null,
   "metadata": {},
   "outputs": [],
   "source": [
    "sample = draw_sample(population,'mass', 20)"
   ]
  },
  {
   "cell_type": "code",
   "execution_count": null,
   "metadata": {},
   "outputs": [],
   "source": [
    "sample"
   ]
  },
  {
   "cell_type": "markdown",
   "metadata": {},
   "source": [
    "Now we want to draw *M* samples of size *n* from the population and see what the mean and standard deviation are for these samples."
   ]
  },
  {
   "cell_type": "markdown",
   "metadata": {},
   "source": [
    "### Exercise 3: Breakout room"
   ]
  },
  {
   "cell_type": "markdown",
   "metadata": {},
   "source": [
    "Create a function which calls <code>draw_sample</code> *M* times and returns the mean and standard deviation of each sample. \n",
    "\n",
    "Input arguments should include\n",
    "\n",
    "* a variable called .. let's say <code>sample_funct</code> this variable will be used to refer to the <code>draw_sample</code> function\n",
    "* a variable for the dataframe\n",
    "* a variable for the column of interest\n",
    "* a variable for the number of calls *M*\n",
    "* a variable for the number of data points per samples *n*\n",
    "\n",
    "The output should include\n",
    "\n",
    "* a list which contains the means\n",
    "* a list which contains the standard deviations"
   ]
  },
  {
   "cell_type": "markdown",
   "metadata": {},
   "source": [
    "Hint: your function might look like:\n",
    "\n",
    "<code>def repeat_samples_stats(sample_funct, df, column, M, n):  \n",
    "   means = []  \n",
    "   stdevs = []  \n",
    "   ...  \n",
    "   return (means, stdevs)\n",
    "</code>\n",
    "\n",
    "then use the append method to append each mean and sd value to the end of each respective list."
   ]
  },
  {
   "cell_type": "code",
   "execution_count": null,
   "metadata": {},
   "outputs": [],
   "source": []
  },
  {
   "cell_type": "markdown",
   "metadata": {},
   "source": [
    "Let's use our function to make 20 samples and compute 20 means and 20 standard deviations. We will extract 50 points per sample."
   ]
  },
  {
   "cell_type": "code",
   "execution_count": null,
   "metadata": {},
   "outputs": [],
   "source": [
    "means_1, stdevs_1 = repeat_samples_stats(draw_sample, population, 'mass', 500, 50)"
   ]
  },
  {
   "cell_type": "code",
   "execution_count": null,
   "metadata": {},
   "outputs": [],
   "source": [
    "means_1"
   ]
  },
  {
   "cell_type": "markdown",
   "metadata": {},
   "source": [
    "What does the distribution of the means look like - i.e. let's consider all these means as data points part of a sample or population. We will first use matplotlib"
   ]
  },
  {
   "cell_type": "code",
   "execution_count": null,
   "metadata": {},
   "outputs": [],
   "source": [
    "plt.hist(means_1,bins=50,color='mediumaquamarine')\n",
    "plt.show()"
   ]
  },
  {
   "cell_type": "markdown",
   "metadata": {},
   "source": [
    "### Exercise 4 (in class) - play with the number of samples and points per sample"
   ]
  },
  {
   "cell_type": "code",
   "execution_count": null,
   "metadata": {},
   "outputs": [],
   "source": [
    "means_2, stdevs_2 = repeat_samples_stats(draw_sample, population, 'mass', 500, 1000)"
   ]
  },
  {
   "cell_type": "code",
   "execution_count": null,
   "metadata": {},
   "outputs": [],
   "source": [
    "plt.hist(means_2, bins=50,color='mediumaquamarine')\n",
    "plt.show()"
   ]
  },
  {
   "cell_type": "markdown",
   "metadata": {},
   "source": [
    "Now let's make a function with five arguments `sample_stats_funct`, `df`, `column`, `M` and `n` that takes the return values from the last function and\n",
    "* converts the lists to a single dataframe\n",
    "* plots two histograms of the columns (mean, sd)\n",
    "* prints out the mean and sd of the columns"
   ]
  },
  {
   "cell_type": "code",
   "execution_count": null,
   "metadata": {},
   "outputs": [],
   "source": [
    "def describe_sample(sample_stats_funct, df, column, M, n):\n",
    "    \n",
    "    means, sds = sample_stats_funct(draw_sample, df, column, M, n)\n",
    "    df = pd.DataFrame(data={'means': means, 'sds': sds})\n",
    "    \n",
    "    df.hist(bins=100,color='mediumorchid')\n",
    "    print('Mean: {}'.format(np.round(df['means'].mean(), 3)))\n",
    "    print('Std Dev: {}'.format(np.round(df['sds'].mean(), 3)))\n",
    "    \n",
    "    return df"
   ]
  },
  {
   "cell_type": "code",
   "execution_count": null,
   "metadata": {},
   "outputs": [],
   "source": [
    "df = describe_sample(repeat_samples_stats, population, 'mass', 1000, 100)"
   ]
  },
  {
   "cell_type": "code",
   "execution_count": null,
   "metadata": {},
   "outputs": [],
   "source": [
    "print(true_mean, true_stdev)"
   ]
  },
  {
   "cell_type": "code",
   "execution_count": null,
   "metadata": {},
   "outputs": [],
   "source": [
    "df = describe_sample(repeat_samples_stats, population, 'mass', 1000, 50)"
   ]
  },
  {
   "cell_type": "code",
   "execution_count": null,
   "metadata": {},
   "outputs": [],
   "source": []
  },
  {
   "cell_type": "code",
   "execution_count": null,
   "metadata": {},
   "outputs": [],
   "source": []
  },
  {
   "cell_type": "code",
   "execution_count": null,
   "metadata": {},
   "outputs": [],
   "source": []
  },
  {
   "cell_type": "code",
   "execution_count": null,
   "metadata": {},
   "outputs": [],
   "source": []
  },
  {
   "cell_type": "markdown",
   "metadata": {},
   "source": [
    "## Next time - Bootstrapping"
   ]
  },
  {
   "cell_type": "code",
   "execution_count": null,
   "metadata": {},
   "outputs": [],
   "source": []
  }
 ],
 "metadata": {
  "kernelspec": {
   "display_name": "Python 3 (ipykernel)",
   "language": "python",
   "name": "python3"
  },
  "language_info": {
   "codemirror_mode": {
    "name": "ipython",
    "version": 3
   },
   "file_extension": ".py",
   "mimetype": "text/x-python",
   "name": "python",
   "nbconvert_exporter": "python",
   "pygments_lexer": "ipython3",
   "version": "3.8.10"
  }
 },
 "nbformat": 4,
 "nbformat_minor": 2
}
