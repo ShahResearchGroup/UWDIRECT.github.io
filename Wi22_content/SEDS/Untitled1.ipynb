{
 "cells": [
  {
   "cell_type": "code",
   "execution_count": null,
   "metadata": {},
   "outputs": [],
   "source": [
    "try:\n",
    "    # executes your function with an integer input rather than a dataframe\n",
    "    df_utils.pairwise_correlation(3)\n",
    "    # this line only runs if no error is found, if there is an error, the code\n",
    "    # under the except statement will run.\n",
    "    raise Exception('Input input testing failed.')\n",
    "except AssertionError:\n",
    "    # the test passes if your function raises an error when I try and input 3.\n",
    "    pass"
   ]
  }
 ],
 "metadata": {
  "kernelspec": {
   "display_name": "Python 3",
   "language": "python",
   "name": "python3"
  },
  "language_info": {
   "codemirror_mode": {
    "name": "ipython",
    "version": 3
   },
   "file_extension": ".py",
   "mimetype": "text/x-python",
   "name": "python",
   "nbconvert_exporter": "python",
   "pygments_lexer": "ipython3",
   "version": "3.7.4"
  }
 },
 "nbformat": 4,
 "nbformat_minor": 2
}
