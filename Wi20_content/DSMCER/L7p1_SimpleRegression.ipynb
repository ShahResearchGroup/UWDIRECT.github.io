{
 "cells": [
  {
   "cell_type": "markdown",
   "metadata": {},
   "source": [
    "##  Part 1 simple linear regression\n",
    "### To do\n",
    "\n",
    "* Explain w/partner each line in this notebook and execute each cell  \n",
    "* Explore relationship between quality of prediction and (size of training set / noise level)\n",
    "    * Specifically discuss how you would automate this searching\n",
    "\n",
    "### Discuss how you would implement the following calculations, with a function, as they are not available in sklearn (this is a big part of HW4!)\n",
    "\n",
    "### Missing information for assessing coefficients: \n",
    "\n",
    "* 95% CI \n",
    "* Standard Error for $\\beta_0$ and $\\beta _1$\n",
    "* P-value for test of $H_0$\n",
    "\n",
    "### Missing information for assessing the model: \n",
    "\n",
    "* RSE , RSS , $R^2$"
   ]
  },
  {
   "cell_type": "code",
   "execution_count": null,
   "metadata": {},
   "outputs": [],
   "source": [
    "import numpy as np\n",
    "import matplotlib.pyplot as plt\n",
    "import pandas as pd \n",
    "\n",
    "from sklearn import linear_model\n",
    "%matplotlib inline"
   ]
  },
  {
   "cell_type": "code",
   "execution_count": null,
   "metadata": {},
   "outputs": [],
   "source": [
    "#model: Y = 3X + 4\n",
    "#size of training data and scale of random noise \n",
    "pts=25 \n",
    "noisescale=.25 \n",
    "x=np.linspace(-50,50,num=pts)\n",
    "B0=4\n",
    "B1=3\n",
    "yactual=B0+B1*x\n",
    "np.random.seed(123) #for reproducible \n",
    "#add noise scaled to 25% of range to data\n",
    "yrand=yactual+noisescale*(yactual.max()-yactual.min())*np.random.normal(size=pts)"
   ]
  },
  {
   "cell_type": "code",
   "execution_count": null,
   "metadata": {},
   "outputs": [],
   "source": [
    "plt.plot(x,yactual,color='red',lw='3')\n",
    "plt.scatter(x,yrand)"
   ]
  },
  {
   "cell_type": "markdown",
   "metadata": {},
   "source": [
    "Compare x, x.reshape(pts,1), and x.reshape(-1,1)"
   ]
  },
  {
   "cell_type": "code",
   "execution_count": null,
   "metadata": {},
   "outputs": [],
   "source": []
  },
  {
   "cell_type": "markdown",
   "metadata": {},
   "source": [
    "Doing SLR"
   ]
  },
  {
   "cell_type": "code",
   "execution_count": null,
   "metadata": {},
   "outputs": [],
   "source": [
    "#EXPLAIN IN PLAIN LANGUAGE WHAT THIS LINE IS DOING!\n",
    "regr=linear_model.LinearRegression() \n",
    "# note that x.reshape(-1,1) is required because I must strictly\n",
    "# feed regr.fit a reshaped array, why?\n",
    "regr.fit(x.reshape(-1,1),yrand.reshape(-1,1))\n",
    "print('B0, B1: ',regr.intercept_, regr.coef_[0])"
   ]
  },
  {
   "cell_type": "markdown",
   "metadata": {},
   "source": [
    "Compare your fitted functional with the actual fuctional"
   ]
  },
  {
   "cell_type": "code",
   "execution_count": null,
   "metadata": {},
   "outputs": [],
   "source": [
    "plt.plot(x,yactual,color='red',lw='3',label='actual')\n",
    "plt.plot(x,regr.predict(x.reshape(-1,1)),ls='--',label='fit')\n",
    "plt.legend(loc='lower right')"
   ]
  },
  {
   "cell_type": "markdown",
   "metadata": {
    "collapsed": true
   },
   "source": [
    "### Take 10 mins and see if you can \n",
    "\n",
    "Useful plots to make after simple linear regression: \n",
    "\n",
    "1) X vs Y (showing both training data, fit model, and result of predictionsw on test data (if you have any) \n",
    "\n",
    "2) Y vs Y(hat):  this is called a *parity plot* \n",
    "\n",
    "3) X v s *residual* (Y - Y(hat)) "
   ]
  },
  {
   "cell_type": "code",
   "execution_count": null,
   "metadata": {},
   "outputs": [],
   "source": []
  },
  {
   "cell_type": "code",
   "execution_count": null,
   "metadata": {},
   "outputs": [],
   "source": []
  },
  {
   "cell_type": "code",
   "execution_count": null,
   "metadata": {},
   "outputs": [],
   "source": []
  }
 ],
 "metadata": {
  "anaconda-cloud": {},
  "kernelspec": {
   "display_name": "Python 3",
   "language": "python",
   "name": "python3"
  },
  "language_info": {
   "codemirror_mode": {
    "name": "ipython",
    "version": 3
   },
   "file_extension": ".py",
   "mimetype": "text/x-python",
   "name": "python",
   "nbconvert_exporter": "python",
   "pygments_lexer": "ipython3",
   "version": "3.7.6"
  }
 },
 "nbformat": 4,
 "nbformat_minor": 1
}
