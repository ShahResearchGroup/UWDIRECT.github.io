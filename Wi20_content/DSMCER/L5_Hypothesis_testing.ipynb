{
 "cells": [
  {
   "cell_type": "markdown",
   "metadata": {},
   "source": [
    "### Statistical tests in Python\n",
    "\n",
    "Today I'm giving you some data as files in URLs.  You will need to load those data into Python.  You can do this many different ways, though some require less code than others.\n",
    "\n",
    "In this exercise, you will need to:\n",
    "* Plot some data with error bars\n",
    "* * s.d.\n",
    "* * s.e.m.\n",
    "* * 95 % CI\n",
    "* Perform one sample _t_-tests of means against a reference mean\n",
    "* Perform two sample _t_-tests of means between two treatments\n",
    "* Perform paired _t_-tests of means from before and after treatment\n",
    "\n",
    "Some modules you will probably need:\n",
    "```\n",
    "import matplotlib.pyplot as plt\n",
    "import numpy as np\n",
    "import pandas as pd\n",
    "import scipy\n",
    "```\n",
    "\n",
    "Start with your imports..."
   ]
  },
  {
   "cell_type": "code",
   "execution_count": null,
   "metadata": {},
   "outputs": [],
   "source": [
    "\n",
    "import matplotlib.pyplot as plt\n",
    "import numpy as np\n",
    "import pandas as pd\n",
    "import scipy\n",
    "import scipy.stats as stats\n",
    "import seaborn as sns\n",
    "\n",
    "%matplotlib inline"
   ]
  },
  {
   "cell_type": "markdown",
   "metadata": {},
   "source": [
    "#### Data sets\n",
    "\n",
    "* Data set 1: [https://raw.githubusercontent.com/UWDIRECT/UWDIRECT.github.io/master/Wi18_content/DSMCER/L8.dataset1.txt](https://raw.githubusercontent.com/UWDIRECT/UWDIRECT.github.io/master/Wi18_content/DSMCER/L8.dataset1.txt)\n",
    "* Data set 2: [https://raw.githubusercontent.com/UWDIRECT/UWDIRECT.github.io/master/Wi18_content/DSMCER/L8.dataset2.txt](https://raw.githubusercontent.com/UWDIRECT/UWDIRECT.github.io/master/Wi18_content/DSMCER/L8.dataset2.txt)\n",
    "* Data set 3: [https://raw.githubusercontent.com/UWDIRECT/UWDIRECT.github.io/master/Wi18_content/DSMCER/L8.dataset3.txt](https://raw.githubusercontent.com/UWDIRECT/UWDIRECT.github.io/master/Wi18_content/DSMCER/L8.dataset3.txt)\n",
    "\n",
    "Begin by downloading the data sets and loading them into pandas. You may also choose to load into numpy or whatevs floats your Python boat."
   ]
  },
  {
   "cell_type": "code",
   "execution_count": null,
   "metadata": {},
   "outputs": [],
   "source": [
    "d1 = pd.read_csv('https://raw.githubusercontent.com/UWDIRECT/UWDIRECT.github.io/master/Wi18_content/DSMCER/L8.dataset1.txt'\n",
    "                , names=['data'])\n",
    "\n",
    "d1.head()"
   ]
  },
  {
   "cell_type": "markdown",
   "metadata": {},
   "source": [
    "\n",
    "Let's continue by making three figures (one for each data set) with three panels each.  The first panel should plot the data with error bars as the standard deviation.  The second panel should show the error bars as the s.e.m.  The final panel should show the error bar with the 95% CI (using stats.t.ppf).\n",
    "\n",
    "Create the function:"
   ]
  },
  {
   "cell_type": "code",
   "execution_count": null,
   "metadata": {},
   "outputs": [],
   "source": [
    "def pointplot(data, label='d1'):\n",
    "    mean = data.mean().values[0]\n",
    "    std = data.std().values[0]\n",
    "    sem = data.sem().values[0]\n",
    "    n = data.count().values[0]\n",
    "    h = sem * stats.t.ppf(0.95, n - 1)\n",
    "    err = [std, sem, h]\n",
    "    \n",
    "    fig, ax = plt.subplots(nrows=1, ncols=3, figsize=(9, 5))\n",
    "    x = 1\n",
    "    y = data.values\n",
    "    w = 0.1\n",
    "    xvals = x + np.random.choice(np.linspace(-w, w, n+1), replace=False, size=n)\n",
    "\n",
    "    for i in range(3):\n",
    "        ax[i].bar(x,\n",
    "               height=mean,\n",
    "               yerr=err[i],    # error bars\n",
    "               capsize=12, # error bar cap width in points\n",
    "               width=w,    # bar width\n",
    "               tick_label=[label],\n",
    "               alpha=0)\n",
    "\n",
    "        ax[i].scatter(xvals, y, color='b', s=100)\n",
    "        ax[i].set_xlim([0.75, 1.25])\n",
    "        ax[i].set_ylim([0, 80])"
   ]
  },
  {
   "cell_type": "markdown",
   "metadata": {},
   "source": [
    "Call it on data set 1"
   ]
  },
  {
   "cell_type": "code",
   "execution_count": null,
   "metadata": {},
   "outputs": [],
   "source": [
    "pointplot(d1, label='d1')"
   ]
  },
  {
   "cell_type": "markdown",
   "metadata": {},
   "source": [
    "Call it on data set 2"
   ]
  },
  {
   "cell_type": "code",
   "execution_count": null,
   "metadata": {},
   "outputs": [],
   "source": [
    "d2 = pd.read_csv('https://raw.githubusercontent.com/UWDIRECT/UWDIRECT.github.io/master/Wi18_content/DSMCER/L8.dataset2.txt'\n",
    "                , names=['data'])\n",
    "pointplot(d2, label='d2')"
   ]
  },
  {
   "cell_type": "markdown",
   "metadata": {},
   "source": [
    "Call it on data set 3"
   ]
  },
  {
   "cell_type": "code",
   "execution_count": null,
   "metadata": {},
   "outputs": [],
   "source": [
    "d3 = pd.read_csv('https://raw.githubusercontent.com/UWDIRECT/UWDIRECT.github.io/master/Wi18_content/DSMCER/L8.dataset3.txt'\n",
    "                , names=['data'])\n",
    "pointplot(d3, label='d3')"
   ]
  },
  {
   "cell_type": "markdown",
   "metadata": {},
   "source": [
    "#### Great.  Now let's start doing some hypothesis testing in Python.\n",
    "\n",
    "##### The one sided _t_-test of means.\n",
    "You have reason to believe that all the data sets, which were obtained using the same experimental method, but under different conditions, could be compared to the published literature value of the mean.  The value you find in the literature is **42.0**.  Perform a statistical test to determine the test statistic and _p_-value that compares each of the three datasets to this reference value.  \n"
   ]
  },
  {
   "cell_type": "code",
   "execution_count": null,
   "metadata": {},
   "outputs": [],
   "source": [
    "for datasetA in [d1, d2, d3]:\n",
    "    [t, p] = stats.ttest_1samp(datasetA, 42)\n",
    "    print(p)"
   ]
  },
  {
   "cell_type": "markdown",
   "metadata": {},
   "source": [
    "\n",
    "Any significant?  How did you know?"
   ]
  },
  {
   "cell_type": "markdown",
   "metadata": {},
   "source": [
    "#### The two sided t-test of means.\n",
    "Now you want to investigate if the three different treatments' means are similar to each other.  Perform pairwise statistical tests of the means.  Do this using whatever language constructs work best for you (for loops, list comprehensions, ...).\n",
    "\n",
    "Find a way to present these data to a journal article reader.  A table?  A figure?"
   ]
  },
  {
   "cell_type": "code",
   "execution_count": null,
   "metadata": {},
   "outputs": [],
   "source": [
    "for datasetA in [d1, d2, d3]:\n",
    "    for datasetB in [d1, d2, d3]:\n",
    "        [t, p] = stats.ttest_ind(datasetA, datasetB)\n",
    "        print(p)"
   ]
  },
  {
   "cell_type": "code",
   "execution_count": null,
   "metadata": {},
   "outputs": [],
   "source": []
  },
  {
   "cell_type": "code",
   "execution_count": null,
   "metadata": {},
   "outputs": [],
   "source": []
  },
  {
   "cell_type": "markdown",
   "metadata": {},
   "source": [
    "##### Paired test of means.\n",
    "\n",
    "Now you learn that data set 2 and data set 3 are paired.  That is, the same lab samples were used with data set 2 being before treatment with some compound and data set 3 after treatment.  Perform a statistical test to see if the treatment had a statistically significant impact on the lab samples."
   ]
  },
  {
   "cell_type": "code",
   "execution_count": null,
   "metadata": {},
   "outputs": [],
   "source": [
    "[t, p] = stats.ttest_rel(d2, d3)\n",
    "print(p)"
   ]
  },
  {
   "cell_type": "markdown",
   "metadata": {},
   "source": [
    "What is your conclusion about the treatment?"
   ]
  }
 ],
 "metadata": {
  "kernelspec": {
   "display_name": "Python 3",
   "language": "python",
   "name": "python3"
  },
  "language_info": {
   "codemirror_mode": {
    "name": "ipython",
    "version": 3
   },
   "file_extension": ".py",
   "mimetype": "text/x-python",
   "name": "python",
   "nbconvert_exporter": "python",
   "pygments_lexer": "ipython3",
   "version": "3.7.6"
  }
 },
 "nbformat": 4,
 "nbformat_minor": 1
}
