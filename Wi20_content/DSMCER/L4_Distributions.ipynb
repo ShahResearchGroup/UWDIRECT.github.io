{
 "cells": [
  {
   "cell_type": "markdown",
   "metadata": {},
   "source": [
    "## Distributions, PDFs/PMFs, CDF and sampling from distributions"
   ]
  },
  {
   "cell_type": "markdown",
   "metadata": {},
   "source": [
    "Today, we are going to explore statistical distributions, create figures of their PDFs and PMFs, calculate their CDFs, and write some code to sample from the distributions.\n",
    "\n",
    "But first, imports:"
   ]
  },
  {
   "cell_type": "code",
   "execution_count": null,
   "metadata": {},
   "outputs": [],
   "source": [
    "import math\n",
    "\n",
    "import matplotlib.pyplot as plt\n",
    "import numpy as np\n",
    "import pandas as pd\n",
    "import scipy\n",
    "import scipy.interpolate\n",
    "\n",
    "%matplotlib inline"
   ]
  },
  {
   "cell_type": "markdown",
   "metadata": {},
   "source": [
    "### Let's start with the binomial distribution"
   ]
  },
  {
   "cell_type": "markdown",
   "metadata": {},
   "source": [
    "Use LaTeX to write the equation for the PMF in the cell below. Use the form with *N* and *p*. [Here](https://www.overleaf.com/learn/latex/Mathematical_expressions) is a guide to writing mathematical expressions with LaTeX."
   ]
  },
  {
   "cell_type": "markdown",
   "metadata": {},
   "source": [
    "$\n",
    "    \\binom{n}{k} p^k(1-p)^{n-k}\n",
    "$\n",
    "\n",
    "Note: $ \\binom{n}{k} $ and $C_n^k$ are the same thing\n",
    "\n",
    "$$ C_n^k = \\frac{n!}{k! (n-k)!} $$"
   ]
  },
  {
   "cell_type": "markdown",
   "metadata": {},
   "source": [
    "### Create a function that can be used to compute P(x)"
   ]
  },
  {
   "cell_type": "markdown",
   "metadata": {},
   "source": [
    "Your function will need three arguments. Hint: look at `math.factorial` for computing factorials and `math.pow` for exponents."
   ]
  },
  {
   "cell_type": "code",
   "execution_count": null,
   "metadata": {},
   "outputs": [],
   "source": [
    "def binomial_pmf(p, n, k):\n",
    "    \n",
    "    part1 = math.factorial(n)/(math.factorial(k)*math.factorial(n-k))\n",
    "    probability = part1 * math.pow(p, k) * math.pow(1-p, n-k)\n",
    "    \n",
    "    return probability"
   ]
  },
  {
   "cell_type": "markdown",
   "metadata": {},
   "source": [
    "Your answer should be 0.2255859375"
   ]
  },
  {
   "cell_type": "code",
   "execution_count": null,
   "metadata": {},
   "outputs": [],
   "source": [
    "binomial_pmf(0.5, 12, 6)"
   ]
  },
  {
   "cell_type": "markdown",
   "metadata": {},
   "source": [
    "### Call your function on the integers from 0 to N"
   ]
  },
  {
   "cell_type": "markdown",
   "metadata": {},
   "source": [
    "Why can't it be bigger than N? Is the PMF symmetric around the center?"
   ]
  },
  {
   "cell_type": "code",
   "execution_count": null,
   "metadata": {},
   "outputs": [],
   "source": [
    "[binomial_pmf(0.5, 20, k) for k in (0,1,2,3,4)]"
   ]
  },
  {
   "cell_type": "markdown",
   "metadata": {},
   "source": [
    "Hint: look at `np.arange`"
   ]
  },
  {
   "cell_type": "code",
   "execution_count": null,
   "metadata": {},
   "outputs": [],
   "source": [
    "[binomial_pmf(0.5, 20, k) for k in np.arange(0,21)]"
   ]
  },
  {
   "cell_type": "markdown",
   "metadata": {},
   "source": [
    "### Now, make a figure of *k* vs *P(k)*"
   ]
  },
  {
   "cell_type": "markdown",
   "metadata": {},
   "source": [
    "Plot binomial_pmf(0.5, 20, k), binomial_pmf(0.7, 20, k), and binomial_pmf(0.5, 40, k) from 0 to N. Show their PMF as a function of k."
   ]
  },
  {
   "cell_type": "code",
   "execution_count": null,
   "metadata": {},
   "outputs": [],
   "source": [
    "y1 = [binomial_pmf(0.5, 20, k) for k in np.arange(0, 21)]\n",
    "y2 = [binomial_pmf(0.7, 20, k) for k in np.arange(0, 21)]\n",
    "y3 = [binomial_pmf(0.5, 40, k) for k in np.arange(0, 41)]\n",
    "\n",
    "ax1 = plt.scatter(np.arange(0, 21), y1, c='b', label='p=0.5 and n=20')\n",
    "ax2 = plt.scatter(np.arange(0, 21), y2, c='g', label='p=0.7 and n=20')\n",
    "ax3 = plt.scatter(np.arange(0, 41), y3, c='r', label='p=0.5 and n=40')\n",
    "plt.legend()\n",
    "plt.yticks([0, 0.1, 0.15, 0.2])\n",
    "plt.ylim([-0.02, 0.27])\n",
    "plt.show()"
   ]
  },
  {
   "cell_type": "markdown",
   "metadata": {},
   "source": [
    "### Moving on, do the same thing for the Poisson distribution"
   ]
  },
  {
   "cell_type": "markdown",
   "metadata": {},
   "source": [
    "Poisson distribution:"
   ]
  },
  {
   "cell_type": "markdown",
   "metadata": {},
   "source": [
    "$\n",
    "  P(k)=\\frac{\\lambda^k e^{-\\lambda}}{k!}\n",
    "$\n",
    "\n",
    "$\\lambda$ is the expected number of occurrences"
   ]
  },
  {
   "cell_type": "markdown",
   "metadata": {},
   "source": [
    "### Create a function for *P(k)*"
   ]
  },
  {
   "cell_type": "markdown",
   "metadata": {},
   "source": [
    "Include arguments for $\\lambda$ and *k*"
   ]
  },
  {
   "cell_type": "code",
   "execution_count": null,
   "metadata": {},
   "outputs": [],
   "source": [
    "def poisson_p(lamb, k):\n",
    "    probability = math.pow(lamb, k)*math.exp(-lamb)/math.factorial(k)\n",
    "    \n",
    "    return probability"
   ]
  },
  {
   "cell_type": "markdown",
   "metadata": {},
   "source": [
    "### Call your function on integers linearly spaced, with $\\lambda = 1$ "
   ]
  },
  {
   "cell_type": "code",
   "execution_count": null,
   "metadata": {},
   "outputs": [],
   "source": [
    "poisson_p(1,1)"
   ]
  },
  {
   "cell_type": "markdown",
   "metadata": {},
   "source": [
    "The result with $k=1$ should be 0.36787944117144233."
   ]
  },
  {
   "cell_type": "markdown",
   "metadata": {},
   "source": [
    "### Make a figure"
   ]
  },
  {
   "cell_type": "markdown",
   "metadata": {},
   "source": [
    "Plot poisson_p(1, k), poisson_p(4, k), and poisson_p(10, k) with k from 0 to 20."
   ]
  },
  {
   "cell_type": "code",
   "execution_count": null,
   "metadata": {},
   "outputs": [],
   "source": [
    "y1 = [poisson_p(1, k) for k in np.arange(0, 21)]\n",
    "y2 = [poisson_p(4, k) for k in np.arange(0, 21)]\n",
    "y3 = [poisson_p(10, k) for k in np.arange(0, 21)]\n",
    "\n",
    "fig = plt.figure(figsize=(7, 5))\n",
    "\n",
    "ax1 = plt.plot(np.arange(0, 21), y1, c='k', linewidth=0.75, zorder=0)\n",
    "ax2 = plt.plot(np.arange(0, 21), y2, c='k', linewidth=0.75, zorder=1)\n",
    "ax3 = plt.plot(np.arange(0, 21), y3, c='k', linewidth=0.75, zorder=2)\n",
    "\n",
    "ax1 = plt.scatter(np.arange(0, 21), y1, s=70, c='gold', edgecolors='k', label='$\\lambda =1$', zorder=3)\n",
    "ax2 = plt.scatter(np.arange(0, 21), y2, s=70, c='purple', edgecolors='k', label='$\\lambda =4$', zorder=4)\n",
    "ax3 = plt.scatter(np.arange(0, 21), y3, s=70, c='cyan', edgecolors='k', label='$\\lambda =10$', zorder=5)\n",
    "plt.legend()\n",
    "plt.yticks(np.arange(0, 0.50, 0.05))\n",
    "plt.ylim([0, 0.4])\n",
    "plt.show()"
   ]
  },
  {
   "cell_type": "markdown",
   "metadata": {},
   "source": [
    "### Enough discrete distributions. Let's try a continuous one, the normal distribution"
   ]
  },
  {
   "cell_type": "markdown",
   "metadata": {},
   "source": [
    "Begin by writing the *P(x)* equation"
   ]
  },
  {
   "cell_type": "markdown",
   "metadata": {},
   "source": [
    "$\n",
    "  P(x) = \\frac{1}{\\sqrt{2 \\pi \\sigma^{2}}}e^{-\\frac{(x-\\mu)^{2}}{2\\sigma^{2}}}\n",
    "$"
   ]
  },
  {
   "cell_type": "markdown",
   "metadata": {},
   "source": [
    "### Write a function that implements *P(x)*"
   ]
  },
  {
   "cell_type": "code",
   "execution_count": null,
   "metadata": {},
   "outputs": [],
   "source": [
    "def normal_p(x, mu, sigma):\n",
    "    coef = math.pow(2*math.pi*math.pow(sigma, 2), -0.5)\n",
    "    probability = coef*math.exp(-math.pow(x-mu, 2)/(2*math.pow(sigma, 2)))\n",
    "    return probability"
   ]
  },
  {
   "cell_type": "code",
   "execution_count": null,
   "metadata": {},
   "outputs": [],
   "source": [
    "normal_p(5, 0, 1)"
   ]
  },
  {
   "cell_type": "markdown",
   "metadata": {},
   "source": [
    "Your anwser should be 1.4867195147342977e-06\n"
   ]
  },
  {
   "cell_type": "markdown",
   "metadata": {},
   "source": [
    "### Call your function on a list of numbers"
   ]
  },
  {
   "cell_type": "markdown",
   "metadata": {},
   "source": [
    "Hint: look at `np.linspace`"
   ]
  },
  {
   "cell_type": "code",
   "execution_count": null,
   "metadata": {},
   "outputs": [],
   "source": [
    "np.linspace(-10, 10, 11)"
   ]
  },
  {
   "cell_type": "markdown",
   "metadata": {},
   "source": [
    "Plot normal_p(x, 0, 0.2), normal_p(x, 0, 1.0), normal_p(x, 0, 5.0), and normal_p(x, -2, 1.0), with x from -5 to 5."
   ]
  },
  {
   "cell_type": "code",
   "execution_count": null,
   "metadata": {},
   "outputs": [],
   "source": [
    "y1 = [normal_p(x, 0, 0.2) for x in np.linspace(-5, 5, 100)]\n",
    "y2 = [normal_p(x, 0, 1.0) for x in np.linspace(-5, 5, 100)]\n",
    "y3 = [normal_p(x, 0, 5.0) for x in np.linspace(-5, 5, 100)]\n",
    "y4 = [normal_p(x, -2, 1.0) for x in np.linspace(-5, 5, 100)]\n",
    "\n",
    "fig = plt.figure(figsize=(7, 5))\n",
    "\n",
    "ax1 = plt.plot(np.linspace(-5, 5, 100), y1, c='b', linewidth=3, label='$\\mu$=0, $\\sigma$=0.2')\n",
    "ax2 = plt.plot(np.linspace(-5, 5, 100), y2, c='r', linewidth=3, label='$\\mu$=0, $\\sigma$=1.0')\n",
    "ax3 = plt.plot(np.linspace(-5, 5, 100), y3, c='y', linewidth=3, label='$\\mu$=0, $\\sigma$=5.0')\n",
    "ax4 = plt.plot(np.linspace(-5, 5, 100), y4, c='g', linewidth=3, label='$\\mu$=0, $\\sigma$=1.0')\n",
    "\n",
    "plt.legend()\n",
    "plt.yticks(np.linspace(0, 1.0, 6))\n",
    "plt.ylim([-0.05, 1.05])\n",
    "plt.xticks(np.linspace(-5, 5, 11))\n",
    "plt.xlim([-5.2, 5.2])\n",
    "plt.xlabel('$x$')\n",
    "plt.ylabel('$\\psi_{\\mu,\\sigma}$')\n",
    "plt.grid(True)\n",
    "plt.minorticks_on()\n",
    "plt.tick_params(direction='in', length=10)\n",
    "plt.tick_params(which='minor', direction='in', length=5)\n",
    "plt.show()"
   ]
  },
  {
   "cell_type": "markdown",
   "metadata": {},
   "source": [
    "### OK, now to CDFs"
   ]
  },
  {
   "cell_type": "markdown",
   "metadata": {},
   "source": [
    "Let's look at the CDF for an empirical distribution. Recall this from our descriptive statistics notebook."
   ]
  },
  {
   "cell_type": "code",
   "execution_count": null,
   "metadata": {},
   "outputs": [],
   "source": [
    "d1 = np.random.normal(loc=-6.4, scale=1.2, size=40000)\n",
    "d2 = np.random.normal(loc=4, scale=10, size=16000)\n",
    "d3 = np.random.normal(loc=22, scale=8, size=72000)\n",
    "population = np.concatenate([d1, d2, d3])\n",
    "pop = pd.DataFrame(data=population, columns=['population'])\n",
    "pop.head()"
   ]
  },
  {
   "cell_type": "markdown",
   "metadata": {},
   "source": [
    "### First, plot a histogram of the data"
   ]
  },
  {
   "cell_type": "code",
   "execution_count": null,
   "metadata": {},
   "outputs": [],
   "source": [
    "pop.hist(bins=100)"
   ]
  },
  {
   "cell_type": "markdown",
   "metadata": {},
   "source": [
    "### Now let's make a function to interpolate our histogram"
   ]
  },
  {
   "cell_type": "markdown",
   "metadata": {},
   "source": [
    "Call your function inverse_CDF and have it take two arguments:\n",
    "\n",
    "* `data` which is a list of values that are the empirical distribution you want to construct the CDF from.\n",
    "* `bins` which is the number of bins to use in the histogram used to interpolate the CDF.\n",
    "\n",
    "The function should use np.histogram to create data objects (not plots) that contain binned data. Hint: your call will look something like:\n",
    "\n",
    "`hist_data, bin_edges = np.histogram(data, bins=bins, density=True)`\n",
    "\n",
    "Why are we using the `density=True` parameter?\n",
    "\n",
    "Remember that the CDF is the cumulative sum of the probability density function. This means we can create a new list with an entry for each bin and use np.cumsum to sum across a list that is the histogram density * width of the bin. Here is what I came up with:\n",
    "\n",
    "`cdf_bins = np.cumsum(hist_data * np.diff(bin_edges))\n",
    "cdf_bins = np.insert(cdf_bins, 0, 0)`\n",
    "\n",
    "Two questions for you:\n",
    "* `np.diff` computes the bin width. Why?\n",
    "* Why do I have the `np.insert`?\n",
    "\n",
    "`scipy` has a nice interpolation family of functions.\n",
    "\n",
    "`import scipy.interpolate\n",
    "\n",
    "inv_cdf = scipy.interpolate.interp1d(cdf_bins, bin_edges)`\n",
    "\n",
    "Google that (or use the documentation) for more information. Hint: make sure the function output both the CDF and the inverse CDF.\n",
    "\n",
    "Note that the `scipy.interpolate.interp1d` interface returns something like a function that you can call and pass values e.g. `inv_cdf([0.1, 0.2, 0.3])`"
   ]
  },
  {
   "cell_type": "code",
   "execution_count": null,
   "metadata": {},
   "outputs": [],
   "source": [
    "def inverse_cdf(data, bins=100):\n",
    "    hist_data, bin_edges = np.histogram(data, bins=100, density=True)\n",
    "    cdf_bins = np.cumsum(hist_data * np.diff(bin_edges))\n",
    "    cdf_bins = np.insert(cdf_bins, 0, 0)\n",
    "    \n",
    "    inv_cdf = scipy.interpolate.interp1d(cdf_bins, bin_edges)\n",
    "    cdf = scipy.interpolate.interp1d(bin_edges, cdf_bins)\n",
    "    \n",
    "    return [cdf, inv_cdf]"
   ]
  },
  {
   "cell_type": "markdown",
   "metadata": {},
   "source": [
    "If you did it right, the cell below should use your function to create interpolations of the CDF and the inverse CDF:"
   ]
  },
  {
   "cell_type": "code",
   "execution_count": null,
   "metadata": {},
   "outputs": [],
   "source": [
    "[cdf, inv_cdf] = inverse_cdf(pop, 100)"
   ]
  },
  {
   "cell_type": "markdown",
   "metadata": {},
   "source": [
    "### Plot the CDF"
   ]
  },
  {
   "cell_type": "code",
   "execution_count": null,
   "metadata": {},
   "outputs": [],
   "source": [
    "x = np.linspace(np.min(pop), np.max(pop), num=100)"
   ]
  },
  {
   "cell_type": "code",
   "execution_count": null,
   "metadata": {},
   "outputs": [],
   "source": [
    "plt.figure(figsize=(5, 5))\n",
    "plt.plot(x, cdf(x))"
   ]
  },
  {
   "cell_type": "code",
   "execution_count": null,
   "metadata": {},
   "outputs": [],
   "source": [
    "zero2one = np.linspace(0, .9999, num=100)"
   ]
  },
  {
   "cell_type": "code",
   "execution_count": null,
   "metadata": {},
   "outputs": [],
   "source": [
    "plt.figure(figsize=(5, 5))\n",
    "plt.plot(zero2one, inv_cdf(zero2one))"
   ]
  },
  {
   "cell_type": "markdown",
   "metadata": {},
   "source": [
    "### Now you can sample from your inverse CDF to generate values from our empirical distribution"
   ]
  },
  {
   "cell_type": "markdown",
   "metadata": {},
   "source": [
    "Let's do that with `np.random.rand`. Why are we using this random function? What is special about how it works that makes it useful with inverse CDF?"
   ]
  },
  {
   "cell_type": "markdown",
   "metadata": {},
   "source": [
    "OK, let's put this together with something like:\n",
    "\n",
    "`sample = inv_cdf(np.random.rand(1000))`"
   ]
  },
  {
   "cell_type": "code",
   "execution_count": null,
   "metadata": {},
   "outputs": [],
   "source": [
    "sample = inv_cdf(np.random.rand(1000))"
   ]
  },
  {
   "cell_type": "markdown",
   "metadata": {},
   "source": [
    "Now make a histogram of sample and set the bins to 100. How does it look? What happens when you increase the argument to `np.random.rand`?"
   ]
  },
  {
   "cell_type": "code",
   "execution_count": null,
   "metadata": {},
   "outputs": [],
   "source": [
    "sample = inv_cdf(np.random.rand(1000))\n",
    "cdf_data = pd.DataFrame(data=sample, columns=['inv_cdf'])\n",
    "cdf_data.hist(bins=100, density=True)\n",
    "plt.xlim([-40, 60])\n",
    "plt.ylim([0, 0.15])"
   ]
  },
  {
   "cell_type": "code",
   "execution_count": null,
   "metadata": {},
   "outputs": [],
   "source": [
    "sample = inv_cdf(np.random.rand(10000))\n",
    "cdf_data = pd.DataFrame(data=sample, columns=['inv_cdf'])\n",
    "cdf_data.hist(bins=100, density=True)\n",
    "plt.xlim([-40, 60])\n",
    "plt.ylim([0, 0.15])"
   ]
  },
  {
   "cell_type": "code",
   "execution_count": null,
   "metadata": {},
   "outputs": [],
   "source": [
    "sample = inv_cdf(np.random.rand(100000))\n",
    "cdf_data = pd.DataFrame(data=sample, columns=['inv_cdf'])\n",
    "cdf_data.hist(bins=100, density=True)\n",
    "plt.xlim([-40, 60])\n",
    "plt.ylim([0, 0.15])"
   ]
  },
  {
   "cell_type": "code",
   "execution_count": null,
   "metadata": {},
   "outputs": [],
   "source": []
  },
  {
   "cell_type": "code",
   "execution_count": null,
   "metadata": {},
   "outputs": [],
   "source": []
  },
  {
   "cell_type": "code",
   "execution_count": null,
   "metadata": {},
   "outputs": [],
   "source": []
  }
 ],
 "metadata": {
  "kernelspec": {
   "display_name": "Python 3",
   "language": "python",
   "name": "python3"
  },
  "language_info": {
   "codemirror_mode": {
    "name": "ipython",
    "version": 3
   },
   "file_extension": ".py",
   "mimetype": "text/x-python",
   "name": "python",
   "nbconvert_exporter": "python",
   "pygments_lexer": "ipython3",
   "version": "3.7.6"
  }
 },
 "nbformat": 4,
 "nbformat_minor": 2
}
