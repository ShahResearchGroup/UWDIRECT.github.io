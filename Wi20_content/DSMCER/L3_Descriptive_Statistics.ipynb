{
 "cells": [
  {
   "cell_type": "markdown",
   "metadata": {},
   "source": [
    "## Playing with sampling and the Central Limit Theorem"
   ]
  },
  {
   "cell_type": "markdown",
   "metadata": {},
   "source": [
    "Begin with imports:"
   ]
  },
  {
   "cell_type": "code",
   "execution_count": null,
   "metadata": {},
   "outputs": [],
   "source": [
    "import pandas as pd\n",
    "import numpy as np\n",
    "import matplotlib.pyplot as plt\n",
    "%matplotlib inline"
   ]
  },
  {
   "cell_type": "markdown",
   "metadata": {},
   "source": [
    "Let's create a population that isn't normally distributed. We will concatenate several normal distributions to do so:\n",
    "\n",
    "(Normal Distribution: $p(x) = \\frac{1}{\\sqrt{ 2 \\pi \\sigma^2 }} e^{ - \\frac{ (x - \\mu)^2 } {2 \\sigma^2} }$)"
   ]
  },
  {
   "cell_type": "code",
   "execution_count": null,
   "metadata": {},
   "outputs": [],
   "source": [
    "d1 = np.random.normal(loc=-6.4, scale=1.2, size=40000)\n",
    "d2 = np.random.normal(loc=4, scale=10, size=16000)\n",
    "d3 = np.random.normal(loc=22, scale=8, size=72000)\n",
    "population = np.concatenate([d1, d2, d3])\n",
    "pop = pd.DataFrame(data=population, columns=['population'])\n",
    "pop.head()"
   ]
  },
  {
   "cell_type": "markdown",
   "metadata": {},
   "source": [
    "## Make a histogram. Play around with bin size"
   ]
  },
  {
   "cell_type": "markdown",
   "metadata": {},
   "source": [
    "Hint: there are multiple ways to do this. Try numpy.histogram or the pandas method hist."
   ]
  },
  {
   "cell_type": "code",
   "execution_count": null,
   "metadata": {},
   "outputs": [],
   "source": [
    "pop['population'].hist(bins=100)"
   ]
  },
  {
   "cell_type": "markdown",
   "metadata": {},
   "source": [
    "Extra: Try displaying the data using an alternate visualization technique, a violin plot. Seaborn has a built-in method that is useful for this."
   ]
  },
  {
   "cell_type": "code",
   "execution_count": null,
   "metadata": {},
   "outputs": [],
   "source": [
    "import seaborn as sns\n",
    "ax = sns.violinplot(y='population', data=pop)"
   ]
  },
  {
   "cell_type": "markdown",
   "metadata": {},
   "source": [
    "## Make a kernel density estimate of the population distribution"
   ]
  },
  {
   "cell_type": "markdown",
   "metadata": {},
   "source": [
    "Hint: pandas.DataFrame.plot.kde"
   ]
  },
  {
   "cell_type": "code",
   "execution_count": null,
   "metadata": {},
   "outputs": [],
   "source": [
    "pop.plot.kde()"
   ]
  },
  {
   "cell_type": "markdown",
   "metadata": {},
   "source": [
    "## Compute the mean and median of the population"
   ]
  },
  {
   "cell_type": "markdown",
   "metadata": {},
   "source": [
    "Compute mean"
   ]
  },
  {
   "cell_type": "code",
   "execution_count": null,
   "metadata": {
    "scrolled": true
   },
   "outputs": [],
   "source": [
    "pop['population'].mean()"
   ]
  },
  {
   "cell_type": "markdown",
   "metadata": {},
   "source": [
    "In class exercise: Compute median"
   ]
  },
  {
   "cell_type": "code",
   "execution_count": null,
   "metadata": {},
   "outputs": [],
   "source": []
  },
  {
   "cell_type": "markdown",
   "metadata": {},
   "source": [
    "## Computer the range and standard deviation of the population"
   ]
  },
  {
   "cell_type": "markdown",
   "metadata": {},
   "source": [
    "In class exercise:"
   ]
  },
  {
   "cell_type": "code",
   "execution_count": null,
   "metadata": {},
   "outputs": [],
   "source": []
  },
  {
   "cell_type": "code",
   "execution_count": null,
   "metadata": {},
   "outputs": [],
   "source": []
  },
  {
   "cell_type": "markdown",
   "metadata": {},
   "source": [
    "## We have described our population. Now let's draw a sample of size n and look at the distrubtion of our sample mean and s.d."
   ]
  },
  {
   "cell_type": "markdown",
   "metadata": {},
   "source": [
    "Write a function that samples the pop dataframe with an argument n that is the number of samples to take. Sample without replacement."
   ]
  },
  {
   "cell_type": "code",
   "execution_count": null,
   "metadata": {},
   "outputs": [],
   "source": [
    "def draw_sample(pop, n):\n",
    "    subset = np.random.choice(np.array(list(pop.index)), size=n, replace=False)\n",
    "    sample = pd.DataFrame(data=pop['population'][subset].values, columns=['sample'])\n",
    "    return sample"
   ]
  },
  {
   "cell_type": "code",
   "execution_count": null,
   "metadata": {},
   "outputs": [],
   "source": [
    "sample = draw_sample(pop, 20)"
   ]
  },
  {
   "cell_type": "code",
   "execution_count": null,
   "metadata": {},
   "outputs": [],
   "source": [
    "sample"
   ]
  },
  {
   "cell_type": "markdown",
   "metadata": {},
   "source": [
    "## Now we want to draw repeated samples of size *n* from the population"
   ]
  },
  {
   "cell_type": "markdown",
   "metadata": {},
   "source": [
    "Create another function that calls the first `samples` times. Have `samples` be an argument to the function along with n which is the argument to the first function. For each sample, append the mean and the standard deviation of the sample to two separate lists and return them."
   ]
  },
  {
   "cell_type": "markdown",
   "metadata": {},
   "source": [
    "Hint: use a loop with    range(samples) iterations. To create an empty list at the start of a function, try something like:\n",
    "\n",
    "    def repeat_samples(samples, n):  \n",
    "      means = []  \n",
    "      sds = []  \n",
    "      ...  \n",
    "      return (means, sds)\n",
    "    \n",
    "then use the append method to append each mean and sd value to the end of each respective list."
   ]
  },
  {
   "cell_type": "code",
   "execution_count": null,
   "metadata": {},
   "outputs": [],
   "source": [
    "def repeat_samples(pop, samples, n):\n",
    "    means = []\n",
    "    sds = []\n",
    "    \n",
    "    for i in range(samples):\n",
    "        sample = draw_sample(pop, n)\n",
    "        means.append(sample['sample'].mean())\n",
    "        sds.append(sample['sample'].std())\n",
    "    \n",
    "    return (means, sds)"
   ]
  },
  {
   "cell_type": "code",
   "execution_count": null,
   "metadata": {},
   "outputs": [],
   "source": [
    "means, sds = repeat_samples(pop, 30, 30)"
   ]
  },
  {
   "cell_type": "code",
   "execution_count": null,
   "metadata": {},
   "outputs": [],
   "source": [
    "means"
   ]
  },
  {
   "cell_type": "markdown",
   "metadata": {},
   "source": [
    "## Almost there!"
   ]
  },
  {
   "cell_type": "markdown",
   "metadata": {},
   "source": [
    "Now make a function with two arguments `samples` and `n` that takes the return values from the last function and\n",
    "* converts the lists to a single dataframe\n",
    "* plots two histograms of the columns (mean, sd)\n",
    "* prints out the mean and sd of the columns\n",
    "\n",
    "Hint: to get a multi-valued return into new variables, try this:\n",
    "\n",
    "    means, sds = repeat_samples(samples, n)\n",
    "    df = pd.DataFrame(data={'means: means, 'sds': sds})"
   ]
  },
  {
   "cell_type": "code",
   "execution_count": null,
   "metadata": {},
   "outputs": [],
   "source": [
    "def describe_sample(pop, samples, n):\n",
    "    means, sds = repeat_samples(pop, samples, n)\n",
    "    df = pd.DataFrame(data={'means': means, 'sds': sds})\n",
    "    \n",
    "    df.hist(bins=100)\n",
    "    print('Mean: {}'.format(np.round(df['means'].mean(), 2)))\n",
    "    print('Std Dev: {}'.format(np.round(df['sds'].mean(), 2)))\n",
    "    \n",
    "    return df"
   ]
  },
  {
   "cell_type": "code",
   "execution_count": null,
   "metadata": {},
   "outputs": [],
   "source": [
    "df = describe_sample(pop, 1000, 100)"
   ]
  },
  {
   "cell_type": "code",
   "execution_count": null,
   "metadata": {},
   "outputs": [],
   "source": [
    "df = describe_sample(pop, 5000, 100)"
   ]
  },
  {
   "cell_type": "markdown",
   "metadata": {},
   "source": [
    "## Run your final function several times with varying values of samples and n"
   ]
  },
  {
   "cell_type": "markdown",
   "metadata": {},
   "source": [
    "How did your result begin to converge on the population mean and sd?"
   ]
  },
  {
   "cell_type": "markdown",
   "metadata": {},
   "source": [
    "## Bootstrapping your data: Finding confidence intervals"
   ]
  },
  {
   "cell_type": "markdown",
   "metadata": {},
   "source": [
    "Statisticians take advantage of the central limit theorem as a method of establishing confidence intervals. Create a function that finds the nth and (100-n)th percentiles of the distribution of means found with describe_sample."
   ]
  },
  {
   "cell_type": "code",
   "execution_count": null,
   "metadata": {},
   "outputs": [],
   "source": [
    "def bootstrapping(pop, sample, n, percentile):\n",
    "    df = describe_sample(pop, sample, n)\n",
    "    li = df['means'].quantile(q=percentile)\n",
    "    ui = df['means'].quantile(q=1-percentile)\n",
    "    mean = df['means'].mean()\n",
    "    \n",
    "    print('Mean: {}: and CI: {} - {}'.format(np.round(mean, 2),\n",
    "                                             np.round(li, 2), np.round(ui, 2)))\n",
    "    \n",
    "    return df, mean, ui, li"
   ]
  },
  {
   "cell_type": "code",
   "execution_count": null,
   "metadata": {},
   "outputs": [],
   "source": [
    "df, mean, ui, li = bootstrapping(pop, 2000, 100, 0.05)"
   ]
  },
  {
   "cell_type": "code",
   "execution_count": null,
   "metadata": {},
   "outputs": [],
   "source": []
  }
 ],
 "metadata": {
  "kernelspec": {
   "display_name": "Python 3",
   "language": "python",
   "name": "python3"
  },
  "language_info": {
   "codemirror_mode": {
    "name": "ipython",
    "version": 3
   },
   "file_extension": ".py",
   "mimetype": "text/x-python",
   "name": "python",
   "nbconvert_exporter": "python",
   "pygments_lexer": "ipython3",
   "version": "3.7.6"
  }
 },
 "nbformat": 4,
 "nbformat_minor": 2
}
