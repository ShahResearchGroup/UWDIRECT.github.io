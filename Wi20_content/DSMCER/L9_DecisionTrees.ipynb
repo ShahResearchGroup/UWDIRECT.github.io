{
 "cells": [
  {
   "cell_type": "code",
   "execution_count": null,
   "metadata": {},
   "outputs": [],
   "source": [
    "import numpy as np\n",
    "import matplotlib.pyplot as plt\n",
    "%matplotlib inline\n",
    "import pandas as pd\n",
    "\n",
    "from sklearn import linear_model\n",
    "from pandas.plotting import scatter_matrix\n",
    "from sklearn.model_selection import train_test_split\n",
    "from sklearn.metrics import mean_squared_error\n",
    "from sklearn.linear_model import Ridge"
   ]
  },
  {
   "cell_type": "markdown",
   "metadata": {},
   "source": [
    "Import data"
   ]
  },
  {
   "cell_type": "code",
   "execution_count": null,
   "metadata": {},
   "outputs": [],
   "source": [
    "# UCI ML database - energy efficiency\n",
    "UCI_energy = pd.read_excel('https://archive.ics.uci.edu/ml/machine-learning-databases/00242/ENB2012_data.xlsx')\n",
    "\n",
    "#^ if you don't have urllib2 working you can download the csv from here: \n",
    "#     http://prg.washington.edu/DIRECTfiles/ENB2012_data.csv\n",
    "# X1\tRelative Compactness \n",
    "# X2\tSurface Area \n",
    "# X3\tWall Area \n",
    "# X4\tRoof Area \n",
    "# X5\tOverall Height \n",
    "# X6\tOrientation \n",
    "# X7\tGlazing Area \n",
    "# X8\tGlazing Area Distribution \n",
    "# y1\tHeating Load \n",
    "# y2\tCooling Load"
   ]
  },
  {
   "cell_type": "markdown",
   "metadata": {},
   "source": [
    "Understand the data"
   ]
  },
  {
   "cell_type": "code",
   "execution_count": null,
   "metadata": {},
   "outputs": [],
   "source": [
    "UCI_energy.head()"
   ]
  },
  {
   "cell_type": "code",
   "execution_count": null,
   "metadata": {},
   "outputs": [],
   "source": [
    "UCI_energy.describe()"
   ]
  },
  {
   "cell_type": "markdown",
   "metadata": {},
   "source": [
    "Form training and validation data set"
   ]
  },
  {
   "cell_type": "code",
   "execution_count": null,
   "metadata": {},
   "outputs": [],
   "source": [
    "train,test=train_test_split(UCI_energy,test_size=0.2,random_state=1010)"
   ]
  },
  {
   "cell_type": "markdown",
   "metadata": {},
   "source": [
    "## Basic decision tree"
   ]
  },
  {
   "cell_type": "markdown",
   "metadata": {},
   "source": [
    "We bulid a decision tree using all Xi as predictors, and y1 as output."
   ]
  },
  {
   "cell_type": "code",
   "execution_count": null,
   "metadata": {},
   "outputs": [],
   "source": [
    "from sklearn import tree"
   ]
  },
  {
   "cell_type": "code",
   "execution_count": null,
   "metadata": {},
   "outputs": [],
   "source": [
    "DT=tree.DecisionTreeRegressor(max_depth=3)\n",
    "DT.fit(train[['X1','X2','X3','X4','X5','X6','X7','X8']],train.Y1)"
   ]
  },
  {
   "cell_type": "markdown",
   "metadata": {},
   "source": [
    "Can you bulid a tree with y2 as output?"
   ]
  },
  {
   "cell_type": "code",
   "execution_count": null,
   "metadata": {},
   "outputs": [],
   "source": []
  },
  {
   "cell_type": "markdown",
   "metadata": {
    "collapsed": true
   },
   "source": [
    "### Tree visualization and looking at the parity plot for individual instances "
   ]
  },
  {
   "cell_type": "markdown",
   "metadata": {},
   "source": [
    "You will need to do the following in command line (if you haven't done so):\n",
    "    1. conda install pydotplus\n",
    "    2. conda install graphviz"
   ]
  },
  {
   "cell_type": "code",
   "execution_count": null,
   "metadata": {},
   "outputs": [],
   "source": [
    "import os\n",
    "import pydotplus \n",
    "\n",
    "#conda install -c conda-forge pydotplus=2.0.2\n",
    "# http://www.webgraphviz.com"
   ]
  },
  {
   "cell_type": "markdown",
   "metadata": {},
   "source": [
    "The cells below export the tree to a file \"basic_tree.dot\". Can you locate the file?"
   ]
  },
  {
   "cell_type": "code",
   "execution_count": null,
   "metadata": {},
   "outputs": [],
   "source": [
    "with open(\"basic_tree.dot\", 'w') as f:\n",
    "    f = tree.export_graphviz(DT, out_file=f)"
   ]
  },
  {
   "cell_type": "code",
   "execution_count": null,
   "metadata": {},
   "outputs": [],
   "source": [
    "#http://www.webgraphviz.com\n",
    "# os.unlink('basic_tree.dot')\n",
    "\n",
    "dot_data = tree.export_graphviz(DT, out_file=None,feature_names=['X1','X2','X3','X4','X5','X6','X7','X8'])\n",
    "graph = pydotplus.graph_from_dot_data(dot_data) "
   ]
  },
  {
   "cell_type": "markdown",
   "metadata": {},
   "source": [
    "Visualize the tree"
   ]
  },
  {
   "cell_type": "code",
   "execution_count": null,
   "metadata": {},
   "outputs": [],
   "source": [
    "#for Anaconda installed on Windows: os.environ[\"PATH\"] += os.pathsep + 'C:/Users/XXX/Anaconda3/Library/bin/graphviz/'\n",
    "\n",
    "from IPython.display import SVG, display\n",
    "display(SVG(graph.create_svg()))"
   ]
  },
  {
   "cell_type": "code",
   "execution_count": null,
   "metadata": {},
   "outputs": [],
   "source": [
    "# make predictions on test and train set \n",
    "trainpred=DT.predict(train[['X1','X2','X3','X4','X5','X6','X7','X8']])\n",
    "testpred=DT.predict(test[['X1','X2','X3','X4','X5','X6','X7','X8']])\n",
    "\n",
    "#parity plot \n",
    "plt.figure(figsize=(4,4))\n",
    "plt.xlim([0,50]);\n",
    "plt.ylim([0,50]);\n",
    "plt.scatter(train.Y1,trainpred)\n",
    "plt.scatter(test.Y1,testpred,color='r')\n",
    "plt.plot([0,50],[0,50],lw=4,color='black')\n",
    "\n",
    "#calculate the test and train error\n",
    "print(\"Train error\", mean_squared_error(train.Y1,trainpred))\n",
    "print(\"Test error\", mean_squared_error(test.Y1,testpred))"
   ]
  },
  {
   "cell_type": "markdown",
   "metadata": {},
   "source": [
    "## Test and training set error as a function of maximum tree depth "
   ]
  },
  {
   "cell_type": "code",
   "execution_count": null,
   "metadata": {},
   "outputs": [],
   "source": [
    "trainerror = []\n",
    "testerror = []\n",
    "\n",
    "trees = np.arange(1,20,1)\n",
    "\n",
    "for t in trees:\n",
    "    model=tree.DecisionTreeRegressor(max_depth=t)\n",
    "    model.fit(train[['X1','X2','X3','X4','X5','X6','X7','X8']],train.Y1)\n",
    "    trainerror.append(mean_squared_error(train.Y1,model.predict(\n",
    "        train[['X1','X2','X3','X4','X5','X6','X7','X8']])))\n",
    "    testerror.append(mean_squared_error(test.Y1,model.predict(\n",
    "        test[['X1','X2','X3','X4','X5','X6','X7','X8']])))"
   ]
  },
  {
   "cell_type": "code",
   "execution_count": null,
   "metadata": {},
   "outputs": [],
   "source": [
    "plt.figure(figsize=(8,4))\n",
    "plt.subplot(121)\n",
    "plt.plot(trees,trainerror,marker='o',label='testerror')\n",
    "plt.plot(trees,testerror,marker=\"s\",label='trainerror')\n",
    "plt.legend()\n",
    "plt.xlabel('Max tree depth')\n",
    "plt.ylabel('MSE for $Y1$')\n",
    "plt.subplot(122)\n",
    "plt.plot(trees,trainerror,marker='o',label='testerror')\n",
    "plt.plot(trees,testerror,marker=\"s\",label='trainerror')\n",
    "plt.ylim((0,1))\n",
    "plt.xlim((5,15))\n",
    "plt.legend()\n",
    "plt.xlabel('Max tree depth')\n",
    "plt.ylabel('MSE for $Y1$')"
   ]
  },
  {
   "cell_type": "markdown",
   "metadata": {},
   "source": [
    "## Optional: Bagging"
   ]
  },
  {
   "cell_type": "code",
   "execution_count": null,
   "metadata": {},
   "outputs": [],
   "source": []
  },
  {
   "cell_type": "code",
   "execution_count": null,
   "metadata": {},
   "outputs": [],
   "source": []
  }
 ],
 "metadata": {
  "anaconda-cloud": {},
  "kernelspec": {
   "display_name": "Python 3",
   "language": "python",
   "name": "python3"
  },
  "language_info": {
   "codemirror_mode": {
    "name": "ipython",
    "version": 3
   },
   "file_extension": ".py",
   "mimetype": "text/x-python",
   "name": "python",
   "nbconvert_exporter": "python",
   "pygments_lexer": "ipython3",
   "version": "3.7.6"
  }
 },
 "nbformat": 4,
 "nbformat_minor": 1
}
