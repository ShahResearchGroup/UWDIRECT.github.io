{
 "cells": [
  {
   "cell_type": "markdown",
   "metadata": {},
   "source": [
    "##  Part 1 simple linear regression\n",
    "### To do\n",
    "\n",
    "* Explain w/partner each line in this notebook and execute each cell  \n",
    "* Explore relationship between quality of prediction and (size of training set / noise level)\n",
    "    * Specifically discuss how you would automate this searching\n",
    "\n",
    "### Discuss how you would implement the following calculations, with a function, as they are not available in sklearn (this is a big part of HW4!)\n",
    "\n",
    "### Missing information for assessing coefficients: \n",
    "\n",
    "* 95% CI \n",
    "* Standard Error for $\\beta_0$ and $\\beta _1$\n",
    "* P-value for test of $H_0$\n",
    "\n",
    "### Missing information for assessing the model: \n",
    "\n",
    "* RSE , RSS , $R^2$"
   ]
  },
  {
   "cell_type": "code",
   "execution_count": null,
   "metadata": {},
   "outputs": [],
   "source": [
    "import numpy as np\n",
    "import matplotlib.pyplot as plt\n",
    "import pandas as pd \n",
    "\n",
    "from sklearn import linear_model\n",
    "%matplotlib inline"
   ]
  },
  {
   "cell_type": "code",
   "execution_count": null,
   "metadata": {},
   "outputs": [],
   "source": [
    "#model: Y = 3X + 4\n",
    "#size of training data and scale of random noise \n",
    "pts=25 \n",
    "noisescale=.25 \n",
    "x=np.linspace(-50,50,num=pts)\n",
    "B0=4\n",
    "B1=3\n",
    "yactual=B0+B1*x\n",
    "np.random.seed(123) #for reproducible \n",
    "#add noise scaled to 25% of range to data\n",
    "yrand=yactual+noisescale*(yactual.max()-yactual.min())*np.random.normal(size=pts)"
   ]
  },
  {
   "cell_type": "code",
   "execution_count": null,
   "metadata": {},
   "outputs": [],
   "source": [
    "x"
   ]
  },
  {
   "cell_type": "code",
   "execution_count": null,
   "metadata": {},
   "outputs": [],
   "source": [
    "yrand"
   ]
  },
  {
   "cell_type": "code",
   "execution_count": null,
   "metadata": {},
   "outputs": [],
   "source": [
    "plt.plot(x,yactual,color='red',lw='3')\n",
    "plt.scatter(x,yrand)"
   ]
  },
  {
   "cell_type": "markdown",
   "metadata": {},
   "source": [
    "Compare x, x.reshape(pts,1), and x.reshape(-1,1)"
   ]
  },
  {
   "cell_type": "code",
   "execution_count": null,
   "metadata": {},
   "outputs": [],
   "source": [
    "x.reshape(-1,1)"
   ]
  },
  {
   "cell_type": "markdown",
   "metadata": {},
   "source": [
    "Doing SLR"
   ]
  },
  {
   "cell_type": "code",
   "execution_count": null,
   "metadata": {},
   "outputs": [],
   "source": [
    "#EXPLAIN IN PLAIN LANGUAGE WHAT THIS LINE IS DOING!\n",
    "regr=linear_model.LinearRegression() \n",
    "# note that x.reshape(-1,1) is required because I must strictly\n",
    "# feed regr.fit a 200x1 array , np.linspace returned a list of numbers\n",
    "regr.fit(x.reshape(-1,1),yrand.reshape(-1,1))\n",
    "print('B0, B1: ',regr.intercept_, regr.coef_[0])"
   ]
  },
  {
   "cell_type": "markdown",
   "metadata": {},
   "source": [
    "Compare your fitted functional with the actual fuctional"
   ]
  },
  {
   "cell_type": "code",
   "execution_count": null,
   "metadata": {},
   "outputs": [],
   "source": [
    "plt.plot(x,yactual,color='red',lw='3',label='actual')\n",
    "plt.plot(x,regr.predict(x.reshape(-1,1)),ls='--',label='fit')\n",
    "plt.legend(loc='lower right')"
   ]
  },
  {
   "cell_type": "markdown",
   "metadata": {
    "collapsed": true
   },
   "source": [
    "### Take 10 mins and see if you can \n",
    "\n",
    "Useful plots to make after simple linear regression: \n",
    "\n",
    "1) X vs Y (showing both training data, fit model, and result of predictionsw on test data (if you have any) \n",
    "\n",
    "2) Y vs Y(hat):  this is called a *parity plot* \n",
    "\n",
    "3) X v s *residual* (Y - Y(hat)) "
   ]
  },
  {
   "cell_type": "code",
   "execution_count": null,
   "metadata": {},
   "outputs": [],
   "source": [
    "fig, ax = plt.subplots(figsize=(5, 3))\n",
    "ax.scatter(x, yactual, label='actual')\n",
    "ax.scatter(x, yrand, label='measured')\n",
    "ax.scatter(x, regr.predict(x.reshape(-1,1)), label='predicted')"
   ]
  },
  {
   "cell_type": "code",
   "execution_count": null,
   "metadata": {},
   "outputs": [],
   "source": [
    "fig, ax = plt.subplots(figsize=(5, 3))\n",
    "ax.scatter(yrand, regr.predict(x.reshape(-1,1)), label='parity')"
   ]
  },
  {
   "cell_type": "code",
   "execution_count": null,
   "metadata": {},
   "outputs": [],
   "source": [
    "fig, ax = plt.subplots(figsize=(5, 3))\n",
    "ax.scatter(x, regr.predict(x.reshape(-1, 1)) - yrand)\n",
    "ax.plot(x, 0*x)"
   ]
  },
  {
   "cell_type": "markdown",
   "metadata": {},
   "source": [
    "### Multiple linear regression\n",
    "\n",
    "In this 2nd example, we generate model based on the idea that the $PCE$ of a candidate organic photovoltaic can be modeled as a contribution of the molecule's $mass$, $VOC$ and $E_{LUMO}$ values:  $PCE = \\beta_0 + \\beta_1*mass + \\beta_2*VOC + \\beta_3 * E_{LUMO}$\n",
    "\n",
    "The extension from simple to multiple linear regression is trivial - can you figure it out with your partner or at your table?!"
   ]
  },
  {
   "cell_type": "code",
   "execution_count": null,
   "metadata": {},
   "outputs": [],
   "source": [
    "harvard=pd.read_csv('https://raw.githubusercontent.com/UWDIRECT/UWDIRECT.github.io/master/Wi18_content/DSMCER/HCEPD_100K.csv')"
   ]
  },
  {
   "cell_type": "markdown",
   "metadata": {},
   "source": [
    "Let's refresh our memory about harvard (it takes some time to do so)"
   ]
  },
  {
   "cell_type": "code",
   "execution_count": null,
   "metadata": {},
   "outputs": [],
   "source": [
    "from pandas.plotting import scatter_matrix\n",
    "scatter_matrix(harvard, alpha=0.2, figsize=(8, 8), diagonal='kde')"
   ]
  },
  {
   "cell_type": "markdown",
   "metadata": {},
   "source": [
    "keep the same variable names - \n",
    "\n",
    "regr2=linear_model.LinearRegression()\n",
    "\n",
    "regr2.fit(STUFF) "
   ]
  },
  {
   "cell_type": "code",
   "execution_count": null,
   "metadata": {},
   "outputs": [],
   "source": []
  },
  {
   "cell_type": "code",
   "execution_count": null,
   "metadata": {},
   "outputs": [],
   "source": []
  },
  {
   "cell_type": "markdown",
   "metadata": {},
   "source": [
    "Once your model is trained, can you make a parity plot: plot actual PCE data on x vs. trained PCE data on y. Also plot the line of parity so your eye can follow how good your predictions are doing...."
   ]
  },
  {
   "cell_type": "code",
   "execution_count": null,
   "metadata": {},
   "outputs": [],
   "source": []
  },
  {
   "cell_type": "code",
   "execution_count": null,
   "metadata": {},
   "outputs": [],
   "source": []
  },
  {
   "cell_type": "markdown",
   "metadata": {},
   "source": [
    "### Assessing coefficients: "
   ]
  },
  {
   "cell_type": "code",
   "execution_count": null,
   "metadata": {},
   "outputs": [],
   "source": [
    "#model: Y = 3X + 4\n",
    "#size of training data and scale of random noise "
   ]
  },
  {
   "cell_type": "code",
   "execution_count": null,
   "metadata": {},
   "outputs": [],
   "source": [
    "def regression(points=25, x_range=[-50,50], coefs=[4, 3], noisescale=0.25):\n",
    "    pts=25 \n",
    "    noisescale=.25 \n",
    "    x=np.linspace(x_range[0],x_range[1],num=points)\n",
    "    B0=coefs[0]\n",
    "    B1=coefs[1]\n",
    "    yactual=B0+B1*x\n",
    "    #np.random.seed(123) #for reproducible \n",
    "    #add noise scaled to 25% of range to data\n",
    "    yrand=yactual+noisescale*(yactual.max()-yactual.min())*np.random.normal(size=points)\n",
    "\n",
    "    #EXPLAIN IN PLAIN LANGUAGE WHAT THIS LINE IS DOING!\n",
    "    regr=linear_model.LinearRegression() \n",
    "    # note that x.reshape(-1,1) is required because I must strictly\n",
    "    # feed regr.fit a 200x1 array , np.linspace returned a list of numbers\n",
    "    regr.fit(x.reshape(-1,1),yrand.reshape(-1,1))\n",
    "    return regr.intercept_[0], regr.coef_[0][0]"
   ]
  },
  {
   "cell_type": "code",
   "execution_count": null,
   "metadata": {},
   "outputs": [],
   "source": [
    "repeats = 1000\n",
    "B0 = [0]*repeats\n",
    "B1 = [0]*repeats\n",
    "for i in range(repeats):\n",
    "    B0[i], B1[i] = regression(points=25, noisescale=0.25)"
   ]
  },
  {
   "cell_type": "code",
   "execution_count": null,
   "metadata": {},
   "outputs": [],
   "source": [
    "repeats = 1000\n",
    "noisescale = 0.25\n",
    "B0 = [0]*repeats\n",
    "B1 = [0]*repeats\n",
    "for i in range(repeats):\n",
    "    B0[i], B1[i] = regression(points=25, noisescale=noisescale)\n",
    "print('95% CI Intercept: {} - {}'.format(np.round(np.percentile(np.array(B0), 5), 2), np.round(np.percentile(np.array(B0), 95), 2)))\n",
    "print('95% CI Intercept: {} - {}'.format(np.round(np.percentile(np.array(B1), 5), 2), np.round(np.percentile(np.array(B1), 95), 2)))"
   ]
  },
  {
   "cell_type": "code",
   "execution_count": null,
   "metadata": {},
   "outputs": [],
   "source": [
    "def regression_cis(points, noisescale, repeats):\n",
    "    B0 = [0]*repeats\n",
    "    B1 = [0]*repeats\n",
    "    for i in range(repeats):\n",
    "        B0[i], B1[i] = regression(points=points, noisescale=noisescale)\n",
    "    print('95% CI Intercept: {} - {}'.format(np.round(np.percentile(np.array(B0), 5), 2), np.round(np.percentile(np.array(B0), 95), 2)))\n",
    "    print('95% CI Slope: {} - {}'.format(np.round(np.percentile(np.array(B1), 5), 2), np.round(np.percentile(np.array(B1), 95), 2)))\n",
    "    return [np.percentile(np.array(B0), 5), np.percentile(np.array(B0), 95)], [np.percentile(np.array(B1), 5), np.percentile(np.array(B1), 95)]"
   ]
  },
  {
   "cell_type": "code",
   "execution_count": null,
   "metadata": {},
   "outputs": [],
   "source": [
    "B0cilo = []\n",
    "B0cihi = []\n",
    "B1cilo = []\n",
    "B1cihi = []\n",
    "points = [5, 10, 100, 1000, 10000, 100000]\n",
    "for i in points:\n",
    "    B0ci0, B1ci0 = regression_cis(i, noisescale, 1000)\n",
    "    B0cilo.append(B0ci0[0])\n",
    "    B0cihi.append(B0ci0[1])\n",
    "    B1cilo.append(B1ci0[0])\n",
    "    B1cihi.append(B1ci0[1])\n",
    "\n",
    "fig, ax = plt.subplots(figsize=(5, 3))\n",
    "ax.scatter(points, B0cilo, color='k')\n",
    "ax.scatter(points, B0cihi, color='k')\n",
    "plt.semilogx()"
   ]
  },
  {
   "cell_type": "code",
   "execution_count": null,
   "metadata": {},
   "outputs": [],
   "source": [
    "fig, ax = plt.subplots(figsize=(5, 3))\n",
    "ax.scatter(points, B1cilo, color='k')\n",
    "ax.scatter(points, B1cihi, color='k')\n",
    "plt.semilogx()"
   ]
  },
  {
   "cell_type": "code",
   "execution_count": null,
   "metadata": {},
   "outputs": [],
   "source": [
    "B0cilo = []\n",
    "B0cihi = []\n",
    "B1cilo = []\n",
    "B1cihi = []\n",
    "points = [0.01, 0.05, 0.1, 0.25, 0.5, 1, 2, 5, 10, 20, 100, 200, 500, 1000]\n",
    "for noise in points:\n",
    "    B0ci0, B1ci0 = regression_cis(1000, noise, 1000)\n",
    "    B0cilo.append(B0ci0[0])\n",
    "    B0cihi.append(B0ci0[1])\n",
    "    B1cilo.append(B1ci0[0])\n",
    "    B1cihi.append(B1ci0[1])\n",
    "\n",
    "fig, ax = plt.subplots(figsize=(5, 3))\n",
    "ax.scatter(points, B0cilo, color='k')\n",
    "ax.scatter(points, B0cihi, color='k')"
   ]
  },
  {
   "cell_type": "code",
   "execution_count": null,
   "metadata": {},
   "outputs": [],
   "source": [
    "fig, ax = plt.subplots(figsize=(5, 3))\n",
    "ax.scatter(points, B1cilo, color='k')\n",
    "ax.scatter(points, B1cihi, color='k')"
   ]
  },
  {
   "cell_type": "code",
   "execution_count": null,
   "metadata": {},
   "outputs": [],
   "source": []
  }
 ],
 "metadata": {
  "anaconda-cloud": {},
  "kernelspec": {
   "display_name": "Python 3",
   "language": "python",
   "name": "python3"
  },
  "language_info": {
   "codemirror_mode": {
    "name": "ipython",
    "version": 3
   },
   "file_extension": ".py",
   "mimetype": "text/x-python",
   "name": "python",
   "nbconvert_exporter": "python",
   "pygments_lexer": "ipython3",
   "version": "3.7.6"
  }
 },
 "nbformat": 4,
 "nbformat_minor": 1
}
