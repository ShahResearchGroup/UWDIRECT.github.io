{
 "cells": [
  {
   "cell_type": "code",
   "execution_count": null,
   "metadata": {},
   "outputs": [],
   "source": [
    "import numpy as np\n",
    "import matplotlib.pyplot as plt\n",
    "import pandas as pd \n",
    "\n",
    "# you will likely need to add some imports here\n",
    "%matplotlib inline"
   ]
  },
  {
   "cell_type": "markdown",
   "metadata": {},
   "source": [
    "### K-means clustering"
   ]
  },
  {
   "cell_type": "code",
   "execution_count": null,
   "metadata": {},
   "outputs": [],
   "source": [
    "harvard = pd.read_csv('https://raw.githubusercontent.com/UWDIRECT/UWDIRECT.github.io/master/Wi18_content/DSMCER/HCEPD_100K.csv')"
   ]
  },
  {
   "cell_type": "markdown",
   "metadata": {},
   "source": [
    "Perform k-means clustering on the harvard data.  Vary the `k` from 5 to 50 in increments of 5.  Run the `k-means` using a loop.\n",
    "\n",
    "Be sure to use standard scalar normalization!\n",
    "`StandardScaler().fit_transform(dataArray)`"
   ]
  },
  {
   "cell_type": "code",
   "execution_count": null,
   "metadata": {},
   "outputs": [],
   "source": []
  },
  {
   "cell_type": "markdown",
   "metadata": {},
   "source": [
    "Use [silhouette](http://scikit-learn.org/stable/auto_examples/cluster/plot_kmeans_silhouette_analysis.html) analysis to pick a good k."
   ]
  },
  {
   "cell_type": "code",
   "execution_count": null,
   "metadata": {},
   "outputs": [],
   "source": []
  },
  {
   "cell_type": "markdown",
   "metadata": {
    "collapsed": true
   },
   "source": [
    "### PCA and plotting\n",
    "\n",
    "The functions below may be helpful but they aren't tested in this notebook."
   ]
  },
  {
   "cell_type": "code",
   "execution_count": null,
   "metadata": {},
   "outputs": [],
   "source": [
    "\n",
    "def make_pca(array, components):\n",
    "    pca = PCA(n_components=components, svd_solver='full')\n",
    "    pca.fit(array)\n",
    "    return pca\n",
    "\n",
    "def plot_pca(pca, array, outplt, x_axis, y_axis, colorList=None):\n",
    "    markers = pca.transform(array)\n",
    "    plt.scatter(markers[:, x_axis], markers[:, y_axis], color='c')\n",
    "    if colorList is not None:\n",
    "        x_markers = [markers[i, x_axis] for i in colorList]\n",
    "        y_markers = [markers[i, y_axis] for i in colorList]\n",
    "        plt.scatter(x_markers, y_markers, color='m')\n",
    "\n",
    "    plt.xlabel(\"Component 1 ({}%)\".format(pca.explained_variance_ratio_[x_axis]*\n",
    "100))\n",
    "    plt.ylabel(\"Component 2 ({}%)\".format(pca.explained_variance_ratio_[y_axis]*\n",
    "100))\n",
    "    plt.tight_layout()\n",
    "    plt.savefig(outplt)\n",
    "\n",
    "def plot_clusters(pca, array, outplt, x_axis, y_axis, colorList=None):\n",
    "    xkcd = [x.rstrip(\"\\n\") for x in open(\"xkcd_colors.txt\")]\n",
    "\n",
    "    markers = pca.transform(array)\n",
    "    if colorList is not None:\n",
    "        colors = [xkcd[i] for i in colorList]\n",
    "    else:\n",
    "        colors = ['c' for i in range(len(markers))]\n",
    "    plt.scatter(markers[:, x_axis], markers[:, y_axis], color=colors)\n",
    "\n",
    "\n",
    "    plt.xlabel(\"Component {0} ({1:.2f}%)\".format((x_axis+1), pca.explained_varia\n",
    "nce_ratio_[x_axis]*100))\n",
    "    plt.ylabel(\"Component {0} ({1:.2f}%)\".format((y_axis+1), pca.explained_varia\n",
    "nce_ratio_[y_axis]*100))\n",
    "    plt.tight_layout()\n",
    "    plt.savefig(outplt)\n",
    "\n",
    "data = pd_to_np(df)\n",
    "pca = make_pca(data, args.n_components)\n",
    "print(pca.explained_variance_ratio_)\n",
    "\n"
   ]
  },
  {
   "cell_type": "markdown",
   "metadata": {},
   "source": [
    "### Self organizing map\n",
    "https://github.com/sevamoo/SOMPY"
   ]
  },
  {
   "cell_type": "code",
   "execution_count": null,
   "metadata": {},
   "outputs": [],
   "source": []
  }
 ],
 "metadata": {
  "anaconda-cloud": {},
  "kernelspec": {
   "display_name": "Python 3",
   "language": "python",
   "name": "python3"
  },
  "language_info": {
   "codemirror_mode": {
    "name": "ipython",
    "version": 3
   },
   "file_extension": ".py",
   "mimetype": "text/x-python",
   "name": "python",
   "nbconvert_exporter": "python",
   "pygments_lexer": "ipython3",
   "version": "3.6.8"
  }
 },
 "nbformat": 4,
 "nbformat_minor": 1
}
